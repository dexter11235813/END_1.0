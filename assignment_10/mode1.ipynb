{
  "nbformat": 4,
  "nbformat_minor": 0,
  "metadata": {
    "language_info": {
      "codemirror_mode": {
        "name": "ipython",
        "version": 3
      },
      "file_extension": ".py",
      "mimetype": "text/x-python",
      "name": "python",
      "nbconvert_exporter": "python",
      "pygments_lexer": "ipython3",
      "version": "3.7.3-final"
    },
    "orig_nbformat": 2,
    "kernelspec": {
      "name": "python3",
      "display_name": "Python 3",
      "language": "python"
    },
    "colab": {
      "name": "mode1.ipynb",
      "provenance": []
    },
    "accelerator": "GPU"
  },
  "cells": [
    {
      "cell_type": "code",
      "metadata": {
        "id": "jAFAWBQ4XLAl"
      },
      "source": [
        "#!python -m spacy download de_core_news_sm"
      ],
      "execution_count": 1,
      "outputs": []
    },
    {
      "cell_type": "code",
      "metadata": {
        "id": "VGDfBi4PWG9s"
      },
      "source": [
        "import torch\n",
        "import torch.nn as nn\n",
        "import torch.optim as optim\n",
        "import torch.nn.functional as F\n",
        "\n",
        "from torchtext.datasets import Multi30k\n",
        "from torchtext.data import Field, BucketIterator\n",
        "from torchtext.data.metrics import bleu_score\n",
        "\n",
        "import matplotlib.pyplot as plt\n",
        "import matplotlib.ticker as ticker\n",
        "import spacy \n",
        "import numpy as np \n",
        "import time"
      ],
      "execution_count": 2,
      "outputs": []
    },
    {
      "cell_type": "code",
      "metadata": {
        "id": "ShD51Kf6WG9y"
      },
      "source": [
        "SEED = 1234\n",
        "np.random.seed(SEED)\n",
        "torch.manual_seed(SEED)\n",
        "torch.cuda.manual_seed(SEED)\n",
        "torch.backends.cudnn.deterministic = True"
      ],
      "execution_count": 3,
      "outputs": []
    },
    {
      "cell_type": "code",
      "metadata": {
        "id": "2n5YxVAGWG9y"
      },
      "source": [
        "spacy_en = spacy.load('en_core_web_sm')\n",
        "spacy_de = spacy.load('de_core_news_sm')\n",
        "\n",
        "def tokenize_de(text):\n",
        "    return [tok.text for tok in spacy_en.tokenizer(text)]\n",
        "\n",
        "def tokenize_en(text):\n",
        "    return [tok.text for tok in spacy_de.tokenizer(text)]"
      ],
      "execution_count": 4,
      "outputs": []
    },
    {
      "cell_type": "code",
      "metadata": {
        "id": "7JLKfZZaWG9z"
      },
      "source": [
        "SRC = Field(tokenize = tokenize_en,\n",
        "            init_token='<sos>',\n",
        "            eos_token='<eos>',\n",
        "            lower=True)\n",
        "\n",
        "TRG = Field(tokenize=tokenize_de,\n",
        "            init_token='<sos>',\n",
        "            eos_token='<eos>',\n",
        "            lower=True)"
      ],
      "execution_count": 5,
      "outputs": []
    },
    {
      "cell_type": "code",
      "metadata": {
        "id": "1WAYPTyUWG9z"
      },
      "source": [
        "train_data, valid_data, test_data = Multi30k.splits(exts=('.en', '.de'), fields=(SRC, TRG))"
      ],
      "execution_count": 6,
      "outputs": []
    },
    {
      "cell_type": "code",
      "metadata": {
        "id": "JdFFT_RzWG90"
      },
      "source": [
        "BATCH_SIZE = 128\n",
        "SRC.build_vocab(train_data, min_freq=2)\n",
        "TRG.build_vocab(train_data, min_freq=2)\n",
        "\n",
        "train_iterator, valid_iterator, test_iterator = BucketIterator.splits(\n",
        "    (train_data, valid_data, test_data),\n",
        "    batch_size=BATCH_SIZE, device='cuda'\n",
        ")\n"
      ],
      "execution_count": 7,
      "outputs": []
    },
    {
      "cell_type": "code",
      "metadata": {
        "id": "AXEeaIiAWG90"
      },
      "source": [
        "class Encoder(nn.Module):\r\n",
        "  def __init__(self, input_dim, emb_dim, enc_hid_dim, dec_hid_dim, dropout):\r\n",
        "    super().__init__()\r\n",
        "    self.embedding = nn.Embedding(input_dim, emb_dim)\r\n",
        "    self.dropout = nn.Dropout(dropout)\r\n",
        "    self.rnn = nn.GRU(emb_dim, enc_hid_dim, bidirectional=True)\r\n",
        "    self.fc = nn.Linear(enc_hid_dim * 2, dec_hid_dim, bias=False)\r\n",
        "\r\n",
        "  def forward(self, src):\r\n",
        "    # src : [src_len, batch_size]\r\n",
        "    embed = self.dropout(self.embedding(src))\r\n",
        "    # embed : [src_len, batch_size, emb_dim]\r\n",
        "    output, hidden = self.rnn(embed)\r\n",
        "    # output : [src_len, batch_size, hidden_dim * num_directions]\r\n",
        "    # hidden : [num_directions * num_layers, batch_size, enc_hid_dim  ]\r\n",
        "    hidden = torch.tanh(self.fc(torch.cat((hidden[-2,:,:], hidden[-1,:,:]), dim=1))) # concatenate along the row dimension\r\n",
        "    # hidden  : [batch_size, dec_hid_dim]\r\n",
        "    return output, hidden\r\n",
        "\r\n",
        "\r\n",
        "class Attention(nn.Module):\r\n",
        "  def __init__(self, enc_hid_dim, dec_hid_dim):\r\n",
        "    super().__init__()\r\n",
        "    self.attn = nn.Linear(2 * enc_hid_dim + dec_hid_dim, dec_hid_dim)\r\n",
        "    self.v = nn.Linear(dec_hid_dim, 1, bias=False)\r\n",
        "\r\n",
        "  def forward(self, dec_hidden, encoder_outputs):\r\n",
        "    # encoder_outputs : [src_len, batch_size, hidden_dim * num_directions]\r\n",
        "    # dec_hidden : [batch_size, dec_hid_dim]\r\n",
        "    src_len = encoder_outputs.shape[0]\r\n",
        "\r\n",
        "    dec_hidden = dec_hidden.unsqueeze(1).repeat(1, src_len, 1)\r\n",
        "    # dec_hidden = [batch_size, src_len, dec_hid_dim]\r\n",
        "    encoder_outputs = encoder_outputs.permute(1,0,2)\r\n",
        "    # encoder_outputs : [batch_size, src_len, hidden_dim * num_directions]\r\n",
        "\r\n",
        "    energy = torch.tanh(self.attn(torch.cat((dec_hidden, encoder_outputs), dim=2)))\r\n",
        "    # energy : [batch_size, src_len, dec_hid_dim]\r\n",
        "    attention = self.v(energy).squeeze(2)\r\n",
        "    # attention : [batch_size, src_len]\r\n",
        "    return F.softmax(attention, dim=1)\r\n",
        "\r\n",
        "\r\n",
        "class Decoder(nn.Module):\r\n",
        "  def __init__(self, output_dim, emb_dim, enc_hid_dim,dec_hid_dim, dropout, attention):\r\n",
        "    super().__init__()\r\n",
        "    self.embedding = nn.Embedding(output_dim, emb_dim)\r\n",
        "    self.output_dim = output_dim\r\n",
        "    self.rnn = nn.GRU((enc_hid_dim * 2) + emb_dim, dec_hid_dim)\r\n",
        "    self.fc_out = nn.Linear(2 * enc_hid_dim + emb_dim + dec_hid_dim, output_dim )\r\n",
        "    self.dropout = nn.Dropout(dropout)\r\n",
        "    self.attention = attention\r\n",
        "  \r\n",
        "  def forward(self, inp, hidden, encoder_outputs):\r\n",
        "    # inp : [batch_size]\r\n",
        "    inp = inp.unsqueeze(0)\r\n",
        "    # inp : [1, batch_size] \r\n",
        "    embedding = self.dropout(self.embedding(inp))\r\n",
        "    # embedding : [1, batch_size, emb_dim]\r\n",
        "    a = self.attention(hidden, encoder_outputs).unsqueeze(1)\r\n",
        "    # a : [batch_size,1, src_len]\r\n",
        "\r\n",
        "    encoder_outputs = encoder_outputs.permute(1, 0, 2)\r\n",
        "    # enc_outputs : [batch_size, src_len, enc_hid_dim * 2]\r\n",
        "\r\n",
        "    weighted = torch.bmm(a, encoder_outputs) # get the encoder outputs weighed by the corresponding attention weights\r\n",
        "    # weighted : [ batch_size, 1, enc_hid_dim * 2]\r\n",
        "    weighted = weighted.permute(1, 0, 2)\r\n",
        "\r\n",
        "    # weighted : [1, batch_size, enc_hid_dim * 2]\r\n",
        "    rnn_input = torch.cat((embedding, weighted), dim =2)\r\n",
        "    # rnn_input : [1, batch_size, enc_hid_dim * 2 + emb_hid]\r\n",
        "\r\n",
        "    output, hidden = self.rnn(rnn_input, hidden.unsqueeze(0))\r\n",
        "    #output : [1, batch_size, dec_hid_dim]\r\n",
        "    #hidden : [1, batch_size, dec_hid_dim]\r\n",
        "    embedding = embedding.squeeze(0)\r\n",
        "    output = output.squeeze(0)\r\n",
        "    weighted = weighted.squeeze(0)\r\n",
        "\r\n",
        "    prediction = self.fc_out(torch.cat((output, weighted, embedding), dim=1))\r\n",
        "\r\n",
        "    # prediction : [batch_size, output_dim]\r\n",
        "    return prediction, hidden.squeeze(0), a.squeeze(1)"
      ],
      "execution_count": 15,
      "outputs": []
    },
    {
      "cell_type": "code",
      "metadata": {
        "id": "6Mx9W_CwcvA-"
      },
      "source": [
        "class Seq2Seq(nn.Module):\r\n",
        "  def __init__(self, encoder, decoder, device):\r\n",
        "    super().__init__()\r\n",
        "    self.encoder = encoder\r\n",
        "    self.decoder = decoder\r\n",
        "    self.device = device\r\n",
        "    \r\n",
        "  def forward(self,src, trg, teacher_forcing_ratio=0.5):\r\n",
        "    #src : [src_len, batch_size]\r\n",
        "    #trg : [src_len, batch_size]\r\n",
        "\r\n",
        "    batch_size = src.shape[1]\r\n",
        "    trg_len = trg.shape[0]\r\n",
        "    trg_vocab_size = self.decoder.output_dim\r\n",
        "\r\n",
        "    outputs = torch.zeros(trg_len, batch_size, trg_vocab_size).to(self.device)\r\n",
        "    encoder_outputs, hidden = self.encoder(src)\r\n",
        "    inp = trg[0, :]\r\n",
        "\r\n",
        "    for t in range(1, trg_len):\r\n",
        "      output, hidden, _ = self.decoder(inp, hidden, encoder_outputs)\r\n",
        "      # output: [batch_size, output_dim]\r\n",
        "      # hidden: [batch_size, dec_hid_dim]\r\n",
        "\r\n",
        "      outputs[t] = output\r\n",
        "\r\n",
        "      teacher_force = np.random.random() < teacher_forcing_ratio \r\n",
        "\r\n",
        "      top1 = output.argmax(1) \r\n",
        "      inp = trg[t] if teacher_force else top1\r\n",
        "\r\n",
        "    return outputs\r\n",
        "\r\n",
        "\r\n",
        "\r\n"
      ],
      "execution_count": 16,
      "outputs": []
    },
    {
      "cell_type": "code",
      "metadata": {
        "id": "vB1HjLqc1Gqy"
      },
      "source": [
        "device='cuda'\r\n",
        "INPUT_DIM = len(SRC.vocab)\r\n",
        "OUTPUT_DIM = len(TRG.vocab)\r\n",
        "ENC_EMB_DIM = 128\r\n",
        "DEC_EMB_DIM = 128\r\n",
        "ENC_HID_DIM = 256\r\n",
        "DEC_HID_DIM = 256\r\n",
        "ENC_DROPOUT = 0.5\r\n",
        "DEC_DROPOUT = 0.5\r\n",
        "SRC_PAD_IDX = SRC.vocab.stoi[SRC.pad_token]\r\n",
        "\r\n",
        "attn = Attention(ENC_HID_DIM, DEC_HID_DIM)\r\n",
        "enc = Encoder(INPUT_DIM, ENC_EMB_DIM, ENC_HID_DIM, DEC_HID_DIM, ENC_DROPOUT)\r\n",
        "dec = Decoder(OUTPUT_DIM, DEC_EMB_DIM, ENC_HID_DIM, DEC_HID_DIM, DEC_DROPOUT, attn)\r\n",
        "\r\n",
        "model = Seq2Seq(enc, dec, device).to(device)"
      ],
      "execution_count": 17,
      "outputs": []
    },
    {
      "cell_type": "code",
      "metadata": {
        "id": "mezEfxyH1lFJ",
        "outputId": "cc6c81c0-a7f2-4854-acf6-e1c716fbaf3a",
        "colab": {
          "base_uri": "https://localhost:8080/"
        }
      },
      "source": [
        "def init_weights(m):\r\n",
        "  for name, param in m.named_parameters():\r\n",
        "    if 'weight' in name:\r\n",
        "      nn.init.normal_(param.data, mean=0, std=0.01)\r\n",
        "    else:\r\n",
        "      nn.init.constant_(param.data, 0)\r\n",
        "\r\n",
        "model.apply(init_weights)"
      ],
      "execution_count": 18,
      "outputs": [
        {
          "output_type": "execute_result",
          "data": {
            "text/plain": [
              "Seq2Seq(\n",
              "  (encoder): Encoder(\n",
              "    (embedding): Embedding(5923, 128)\n",
              "    (dropout): Dropout(p=0.5, inplace=False)\n",
              "    (rnn): GRU(128, 256, bidirectional=True)\n",
              "    (fc): Linear(in_features=512, out_features=256, bias=False)\n",
              "  )\n",
              "  (decoder): Decoder(\n",
              "    (embedding): Embedding(7873, 128)\n",
              "    (rnn): GRU(640, 256)\n",
              "    (fc_out): Linear(in_features=896, out_features=7873, bias=True)\n",
              "    (dropout): Dropout(p=0.5, inplace=False)\n",
              "    (attention): Attention(\n",
              "      (attn): Linear(in_features=768, out_features=256, bias=True)\n",
              "      (v): Linear(in_features=256, out_features=1, bias=False)\n",
              "    )\n",
              "  )\n",
              ")"
            ]
          },
          "metadata": {
            "tags": []
          },
          "execution_count": 18
        }
      ]
    },
    {
      "cell_type": "code",
      "metadata": {
        "id": "XE_kGKP710jt"
      },
      "source": [
        "optimizer = optim.Adam(model.parameters())\r\n",
        "TRG_PAD_IDX = TRG.vocab.stoi[TRG.pad_token]\r\n",
        "criterion = nn.CrossEntropyLoss(ignore_index=TRG_PAD_IDX)\r\n",
        "\r\n",
        "def train(model, iterator, optimizer, criterion, clip):\r\n",
        "    \r\n",
        "    model.train()\r\n",
        "    \r\n",
        "    epoch_loss = 0\r\n",
        "    \r\n",
        "    for i, batch in enumerate(iterator):\r\n",
        "        \r\n",
        "        src = batch.src\r\n",
        "        trg = batch.trg\r\n",
        "        \r\n",
        "        optimizer.zero_grad()\r\n",
        "        \r\n",
        "        output = model(src, trg)\r\n",
        "        \r\n",
        "        #trg = [trg len, batch size]\r\n",
        "        #output = [trg len, batch size, output dim]\r\n",
        "        \r\n",
        "        output_dim = output.shape[-1]\r\n",
        "        \r\n",
        "        output = output[1:].view(-1, output_dim)\r\n",
        "        trg = trg[1:].view(-1)\r\n",
        "        \r\n",
        "        #trg = [(trg len - 1) * batch size]\r\n",
        "        #output = [(trg len - 1) * batch size, output dim]\r\n",
        "        \r\n",
        "        loss = criterion(output, trg)\r\n",
        "        \r\n",
        "        loss.backward()\r\n",
        "        \r\n",
        "        torch.nn.utils.clip_grad_norm_(model.parameters(), clip)\r\n",
        "        \r\n",
        "        optimizer.step()\r\n",
        "        \r\n",
        "        epoch_loss += loss.item()\r\n",
        "        \r\n",
        "    return epoch_loss / len(iterator)\r\n",
        "\r\n",
        "def evaluate(model, iterator, criterion):\r\n",
        "    \r\n",
        "    model.eval()\r\n",
        "    \r\n",
        "    epoch_loss = 0\r\n",
        "    \r\n",
        "    with torch.no_grad():\r\n",
        "    \r\n",
        "        for i, batch in enumerate(iterator):\r\n",
        "\r\n",
        "            src = batch.src\r\n",
        "            trg = batch.trg\r\n",
        "\r\n",
        "            output = model(src, trg, 0) #turn off teacher forcing\r\n",
        "            \r\n",
        "            #trg = [trg len, batch size]\r\n",
        "            #output = [trg len, batch size, output dim]\r\n",
        "\r\n",
        "            output_dim = output.shape[-1]\r\n",
        "            \r\n",
        "            output = output[1:].view(-1, output_dim)\r\n",
        "            trg = trg[1:].view(-1)\r\n",
        "\r\n",
        "            #trg = [(trg len - 1) * batch size]\r\n",
        "            #output = [(trg len - 1) * batch size, output dim]\r\n",
        "\r\n",
        "            loss = criterion(output, trg)\r\n",
        "\r\n",
        "            epoch_loss += loss.item()\r\n",
        "        \r\n",
        "    return epoch_loss / len(iterator)"
      ],
      "execution_count": 19,
      "outputs": []
    },
    {
      "cell_type": "code",
      "metadata": {
        "id": "k-_dNRXZ2W-k"
      },
      "source": [
        "def epoch_time(start_time, end_time):\r\n",
        "    elapsed_time = end_time - start_time\r\n",
        "    elapsed_mins = int(elapsed_time / 60)\r\n",
        "    elapsed_secs = int(elapsed_time - (elapsed_mins * 60))\r\n",
        "    return elapsed_mins, elapsed_secs"
      ],
      "execution_count": 20,
      "outputs": []
    },
    {
      "cell_type": "code",
      "metadata": {
        "id": "RpxHBryc2Ysf",
        "outputId": "43e993b0-bd18-480e-d32d-d32335b65601",
        "colab": {
          "base_uri": "https://localhost:8080/"
        }
      },
      "source": [
        "N_EPOCHS = 20\r\n",
        "CLIP = 1\r\n",
        "\r\n",
        "best_valid_loss = float('inf')\r\n",
        "\r\n",
        "for epoch in range(N_EPOCHS):\r\n",
        "    \r\n",
        "    start_time = time.time()\r\n",
        "    \r\n",
        "    train_loss = train(model, train_iterator, optimizer, criterion, CLIP)\r\n",
        "    valid_loss = evaluate(model, valid_iterator, criterion)\r\n",
        "    \r\n",
        "    end_time = time.time()\r\n",
        "    \r\n",
        "    epoch_mins, epoch_secs = epoch_time(start_time, end_time)\r\n",
        "    \r\n",
        "    if valid_loss < best_valid_loss:\r\n",
        "        best_valid_loss = valid_loss\r\n",
        "        #torch.save(model.state_dict(), 'tut4-model.pt')\r\n",
        "    \r\n",
        "    print(f'Epoch: {epoch+1:02} | Time: {epoch_mins}m {epoch_secs}s')\r\n",
        "    print(f'\\tTrain Loss: {train_loss:.3f} | Train PPL: {np.exp(train_loss):7.3f}')\r\n",
        "    print(f'\\t Val. Loss: {valid_loss:.3f} |  Val. PPL: {np.exp(valid_loss):7.3f}')"
      ],
      "execution_count": 21,
      "outputs": [
        {
          "output_type": "stream",
          "text": [
            "Epoch: 01 | Time: 0m 52s\n",
            "\tTrain Loss: 5.346 | Train PPL: 209.856\n",
            "\t Val. Loss: 5.093 |  Val. PPL: 162.947\n",
            "Epoch: 02 | Time: 0m 52s\n",
            "\tTrain Loss: 4.423 | Train PPL:  83.355\n",
            "\t Val. Loss: 5.040 |  Val. PPL: 154.520\n",
            "Epoch: 03 | Time: 0m 52s\n",
            "\tTrain Loss: 4.070 | Train PPL:  58.561\n",
            "\t Val. Loss: 4.520 |  Val. PPL:  91.820\n",
            "Epoch: 04 | Time: 0m 53s\n",
            "\tTrain Loss: 3.699 | Train PPL:  40.396\n",
            "\t Val. Loss: 4.078 |  Val. PPL:  59.019\n",
            "Epoch: 05 | Time: 0m 53s\n",
            "\tTrain Loss: 3.312 | Train PPL:  27.436\n",
            "\t Val. Loss: 3.688 |  Val. PPL:  39.979\n",
            "Epoch: 06 | Time: 0m 53s\n",
            "\tTrain Loss: 2.952 | Train PPL:  19.136\n",
            "\t Val. Loss: 3.508 |  Val. PPL:  33.376\n",
            "Epoch: 07 | Time: 0m 53s\n",
            "\tTrain Loss: 2.675 | Train PPL:  14.507\n",
            "\t Val. Loss: 3.377 |  Val. PPL:  29.290\n",
            "Epoch: 08 | Time: 0m 53s\n",
            "\tTrain Loss: 2.432 | Train PPL:  11.377\n",
            "\t Val. Loss: 3.288 |  Val. PPL:  26.781\n",
            "Epoch: 09 | Time: 0m 53s\n",
            "\tTrain Loss: 2.240 | Train PPL:   9.389\n",
            "\t Val. Loss: 3.256 |  Val. PPL:  25.944\n",
            "Epoch: 10 | Time: 0m 53s\n",
            "\tTrain Loss: 2.051 | Train PPL:   7.776\n",
            "\t Val. Loss: 3.245 |  Val. PPL:  25.667\n",
            "Epoch: 11 | Time: 0m 53s\n",
            "\tTrain Loss: 1.933 | Train PPL:   6.908\n",
            "\t Val. Loss: 3.223 |  Val. PPL:  25.104\n",
            "Epoch: 12 | Time: 0m 53s\n",
            "\tTrain Loss: 1.813 | Train PPL:   6.129\n",
            "\t Val. Loss: 3.226 |  Val. PPL:  25.183\n",
            "Epoch: 13 | Time: 0m 53s\n",
            "\tTrain Loss: 1.681 | Train PPL:   5.373\n",
            "\t Val. Loss: 3.284 |  Val. PPL:  26.681\n",
            "Epoch: 14 | Time: 0m 53s\n",
            "\tTrain Loss: 1.619 | Train PPL:   5.047\n",
            "\t Val. Loss: 3.253 |  Val. PPL:  25.873\n",
            "Epoch: 15 | Time: 0m 53s\n",
            "\tTrain Loss: 1.541 | Train PPL:   4.668\n",
            "\t Val. Loss: 3.268 |  Val. PPL:  26.267\n",
            "Epoch: 16 | Time: 0m 53s\n",
            "\tTrain Loss: 1.463 | Train PPL:   4.320\n",
            "\t Val. Loss: 3.268 |  Val. PPL:  26.260\n",
            "Epoch: 17 | Time: 0m 53s\n",
            "\tTrain Loss: 1.405 | Train PPL:   4.076\n",
            "\t Val. Loss: 3.298 |  Val. PPL:  27.054\n",
            "Epoch: 18 | Time: 0m 53s\n",
            "\tTrain Loss: 1.365 | Train PPL:   3.916\n",
            "\t Val. Loss: 3.287 |  Val. PPL:  26.755\n",
            "Epoch: 19 | Time: 0m 53s\n",
            "\tTrain Loss: 1.301 | Train PPL:   3.673\n",
            "\t Val. Loss: 3.374 |  Val. PPL:  29.186\n",
            "Epoch: 20 | Time: 0m 53s\n",
            "\tTrain Loss: 1.268 | Train PPL:   3.555\n",
            "\t Val. Loss: 3.337 |  Val. PPL:  28.122\n"
          ],
          "name": "stdout"
        }
      ]
    },
    {
      "cell_type": "code",
      "metadata": {
        "id": "AAkgzg17211K"
      },
      "source": [
        "def translate_sentence(sentence, src_field, trg_field, model, device, max_len = 50):\r\n",
        "\r\n",
        "    model.eval()\r\n",
        "        \r\n",
        "    if isinstance(sentence, str):\r\n",
        "        nlp = spacy.load('de')\r\n",
        "        tokens = [token.text.lower() for token in nlp(sentence)]\r\n",
        "    else:\r\n",
        "        tokens = [token.lower() for token in sentence]\r\n",
        "\r\n",
        "    tokens = [src_field.init_token] + tokens + [src_field.eos_token]\r\n",
        "    src_indexes = [src_field.vocab.stoi[token] for token in tokens]\r\n",
        "    src_tensor = torch.LongTensor(src_indexes).unsqueeze(1).to(device)\r\n",
        "    # src_tensor : [1, len(tokens)]\r\n",
        "\r\n",
        "    src_len = torch.LongTensor([len(src_indexes)]).to(device)\r\n",
        "    with torch.no_grad():\r\n",
        "        encoder_outputs, hidden = model.encoder(src_tensor)\r\n",
        "    # encoder_outputs : [src_len, 1, dec_hid_dim]\r\n",
        "    trg_indexes = [trg_field.vocab.stoi[trg_field.init_token]]\r\n",
        "\r\n",
        "    attentions = torch.zeros(max_len, 1, len(src_indexes)).to(device)\r\n",
        "    # attentions : [max_len,1,len(tokens)]\r\n",
        "    for i in range(max_len):\r\n",
        "\r\n",
        "        trg_tensor = torch.LongTensor([trg_indexes[-1]]).to(device)\r\n",
        "                \r\n",
        "        with torch.no_grad():\r\n",
        "            output, hidden, attention = model.decoder(trg_tensor, hidden, encoder_outputs)\r\n",
        "\r\n",
        "        attentions[i] = attention\r\n",
        "            \r\n",
        "        pred_token = output.argmax(1).item()\r\n",
        "        \r\n",
        "        trg_indexes.append(pred_token)\r\n",
        "\r\n",
        "        if pred_token == trg_field.vocab.stoi[trg_field.eos_token]:\r\n",
        "            break\r\n",
        "    \r\n",
        "    trg_tokens = [trg_field.vocab.itos[i] for i in trg_indexes]\r\n",
        "    \r\n",
        "    return trg_tokens[1:], attentions[:len(trg_tokens)-1]"
      ],
      "execution_count": 25,
      "outputs": []
    },
    {
      "cell_type": "code",
      "metadata": {
        "id": "FjbDk3eJ4Nal"
      },
      "source": [
        "def display_attention(sentence, translation, attention):\r\n",
        "    \r\n",
        "    fig = plt.figure(figsize=(10,10))\r\n",
        "    ax = fig.add_subplot(111)\r\n",
        "    \r\n",
        "    attention = attention.squeeze(1).cpu().detach().numpy()\r\n",
        "    \r\n",
        "    cax = ax.matshow(attention, cmap='bone')\r\n",
        "   \r\n",
        "    ax.tick_params(labelsize=15)\r\n",
        "    ax.set_xticklabels(['']+['<sos>']+[t.lower() for t in sentence]+['<eos>'], \r\n",
        "                       rotation=45)\r\n",
        "    ax.set_yticklabels(['']+translation)\r\n",
        "\r\n",
        "    ax.xaxis.set_major_locator(ticker.MultipleLocator(1))\r\n",
        "    ax.yaxis.set_major_locator(ticker.MultipleLocator(1))\r\n",
        "\r\n",
        "    plt.show()\r\n",
        "    plt.close()"
      ],
      "execution_count": 26,
      "outputs": []
    },
    {
      "cell_type": "code",
      "metadata": {
        "id": "GdPKGvsE4PqO",
        "outputId": "a928f7f0-f061-4c93-9a30-5cb4fd1d5a7f",
        "colab": {
          "base_uri": "https://localhost:8080/"
        }
      },
      "source": [
        "example_idx = 12\r\n",
        "\r\n",
        "src = vars(valid_data.examples[example_idx])['src']\r\n",
        "trg = vars(valid_data.examples[example_idx])['trg']\r\n",
        "\r\n",
        "print(f'src = {src}')\r\n",
        "print(f'trg = {trg}')\r\n",
        "\r\n",
        "translation, attention = translate_sentence(src, SRC, TRG, model, device)\r\n",
        "\r\n",
        "print(f'predicted trg = {translation}')"
      ],
      "execution_count": 29,
      "outputs": [
        {
          "output_type": "stream",
          "text": [
            "src = ['three', 'young', 'children', 'stand', 'around', 'a', 'blue', 'and', 'white', 'barrel', '.']\n",
            "trg = ['drei', 'kleine', 'kinder', 'stehen', 'um', 'ein', 'blau', '-', 'weißes', 'fass', 'herum', '.']\n",
            "predicted trg = ['drei', 'kleine', 'kinder', 'stehen', 'um', 'blau', '-', 'weiße', 'herum', '.', '<eos>']\n"
          ],
          "name": "stdout"
        }
      ]
    },
    {
      "cell_type": "code",
      "metadata": {
        "id": "7suqTvqC-V2E",
        "outputId": "c99f83e8-01ee-40dc-e9c0-6fe118c5fa14",
        "colab": {
          "base_uri": "https://localhost:8080/",
          "height": 567
        }
      },
      "source": [
        "\r\n",
        "display_attention(src, translation, attention)"
      ],
      "execution_count": 32,
      "outputs": [
        {
          "output_type": "display_data",
          "data": {
            "image/png": "[encoded data removed]",
            "text/plain": [
              "<Figure size 720x720 with 1 Axes>"
            ]
          },
          "metadata": {
            "tags": [],
            "needs_background": "light"
          }
        }
      ]
    },
    {
      "cell_type": "code",
      "metadata": {
        "id": "CvO4_Jey5wG2"
      },
      "source": [
        "\r\n",
        "def calculate_bleu(data, src_field, trg_field, model, device, max_len=50):\r\n",
        "  trgs=[]\r\n",
        "  pred_trgs=[]\r\n",
        "\r\n",
        "  for d in data:\r\n",
        "    src = vars(d)['src']\r\n",
        "    trg = vars(d)['trg']\r\n",
        "\r\n",
        "    pred_trg, _ = translate_sentence(src, src_field, trg_field, model, 'cuda')\r\n",
        "\r\n",
        "    pred_trg = pred_trg[:-1]\r\n",
        "    pred_trgs.append(pred_trg)\r\n",
        "    trgs.append([trg])\r\n",
        "\r\n",
        "  return bleu_score(pred_trgs, trgs)"
      ],
      "execution_count": 33,
      "outputs": []
    },
    {
      "cell_type": "code",
      "metadata": {
        "id": "I7fPlwM76RLl",
        "outputId": "f79b41c4-e76b-42e5-821a-e4cd7941f4f8",
        "colab": {
          "base_uri": "https://localhost:8080/"
        }
      },
      "source": [
        "bleu_score = calculate_bleu(test_data, SRC, TRG, model, device)\r\n",
        "print(f'bleu_score : {bleu_score * 100}')"
      ],
      "execution_count": 36,
      "outputs": [
        {
          "output_type": "stream",
          "text": [
            "bleu_score : 29.15014922618866\n"
          ],
          "name": "stdout"
        }
      ]
    },
    {
      "cell_type": "code",
      "metadata": {
        "id": "cRlf6FGJ8rVP"
      },
      "source": [
        ""
      ],
      "execution_count": 35,
      "outputs": []
    }
  ]
}