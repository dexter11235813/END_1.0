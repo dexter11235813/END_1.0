{
  "nbformat": 4,
  "nbformat_minor": 0,
  "metadata": {
    "colab": {
      "name": "model2_TwitterDataset.ipynb",
      "provenance": [],
      "collapsed_sections": [],
      "authorship_tag": "ABX9TyOjDju/uBHVXKkWDqc9OPSx",
      "include_colab_link": true
    },
    "kernelspec": {
      "name": "python3",
      "display_name": "Python 3"
    },
    "accelerator": "GPU"
  },
  "cells": [
    {
      "cell_type": "markdown",
      "metadata": {
        "id": "view-in-github",
        "colab_type": "text"
      },
      "source": [
        "<a href=\"https://colab.research.google.com/github/dexter11235813/END_1.0/blob/main/assignment_9/model2_TwitterDataset.ipynb\" target=\"_parent\"><img src=\"https://colab.research.google.com/assets/colab-badge.svg\" alt=\"Open In Colab\"/></a>"
      ]
    },
    {
      "cell_type": "code",
      "metadata": {
        "colab": {
          "base_uri": "https://localhost:8080/"
        },
        "id": "xyidPNGZA1Fn",
        "outputId": "e7199230-919a-451c-e0c0-b6ada4e2c5ba"
      },
      "source": [
        "from google.colab import drive\r\n",
        "drive.mount('/content/drive')"
      ],
      "execution_count": 1,
      "outputs": [
        {
          "output_type": "stream",
          "text": [
            "Drive already mounted at /content/drive; to attempt to forcibly remount, call drive.mount(\"/content/drive\", force_remount=True).\n"
          ],
          "name": "stdout"
        }
      ]
    },
    {
      "cell_type": "code",
      "metadata": {
        "id": "kUfKxDeE_nWl"
      },
      "source": [
        "import torch\r\n",
        "import torch.nn as nn\r\n",
        "import torch.optim as optim\r\n",
        "import torch.nn.functional as F\r\n",
        "from torchtext.data import Field, BucketIterator\r\n",
        "from torchtext.data import TabularDataset\r\n",
        "from torchtext.data import Example, Dataset\r\n",
        "import pandas as pd\r\n",
        "import spacy\r\n",
        "import numpy as np\r\n",
        "import time\r\n",
        "import re\r\n",
        "SEED = 1234\r\n",
        "\r\n",
        "np.random.seed(SEED)\r\n",
        "torch.manual_seed(SEED)\r\n",
        "torch.cuda.manual_seed(SEED)\r\n",
        "torch.backends.cudnn.deterministic = True\r\n",
        "path = '/content/drive/MyDrive/Twitter_dataset'"
      ],
      "execution_count": 2,
      "outputs": []
    },
    {
      "cell_type": "markdown",
      "metadata": {
        "id": "R2KuVYLSEe1b"
      },
      "source": [
        "# **Preparing Dataset**"
      ]
    },
    {
      "cell_type": "code",
      "metadata": {
        "id": "nYwDAr58lHGh"
      },
      "source": [
        "def clean_tweet(tweet):\n",
        "    # removes @ mentions, hashtags, emojis, twitter reserved words and numbers\n",
        "    p.set_options(p.OPT.EMOJI, p.OPT.MENTION, p.OPT.RESERVED, p.OPT.SMILEY, p.OPT.NUMBER)\n",
        "    clean = p.clean(tweet)\n",
        " \n",
        "    # transforms every url to \"<url>\" token and every hashtag to \"<hashtag>\" token\n",
        "    p.set_options(p.OPT.EMOJI, p.OPT.MENTION, p.OPT.RESERVED, p.OPT.SMILEY, p.OPT.NUMBER, p.OPT.HASHTAG, p.OPT.URL)\n",
        "    clean = p.tokenize(clean)\n",
        "    clean = re.sub(r'\\$HASHTAG\\$', '<hashtag>', clean)\n",
        "    clean = re.sub(r'\\$URL\\$', '<url>', clean)\n",
        " \n",
        "    # preprocessor doesn't seem to clean all emojis so we run text trough emoji regex to clean leftovers\n",
        "    clean = re.sub(emoji.get_emoji_regexp(), '', clean)\n",
        " \n",
        "    # removing zero-width character which is often bundled with emojis\n",
        "    clean = re.sub(u'\\ufe0f', '', clean)\n",
        " \n",
        "    # remove multiple empty spaces with one\n",
        "    clean = re.sub(r' +', ' ', clean)\n",
        " \n",
        "    # replace &gt; and &lt;\n",
        "    clean = re.sub(r'&gt;', '>', clean)\n",
        "    clean = re.sub(r'&lt;', '<', clean)\n",
        " \n",
        "    # strip any leftover spaces at the beginning and end\n",
        "    clean = clean.strip()\n",
        " \n",
        "    return clean"
      ],
      "execution_count": null,
      "outputs": []
    },
    {
      "cell_type": "code",
      "metadata": {
        "colab": {
          "base_uri": "https://localhost:8080/"
        },
        "id": "5drUDCbYAFTd",
        "outputId": "1e39177b-5415-4f9d-f03c-d3fda989e530"
      },
      "source": [
        "data = pd.read_csv('/content/drive/MyDrive/Twitter_dataset/twcs/twcs.csv')\r\n",
        "data.shape"
      ],
      "execution_count": null,
      "outputs": [
        {
          "output_type": "execute_result",
          "data": {
            "text/plain": [
              "(2811774, 7)"
            ]
          },
          "metadata": {
            "tags": []
          },
          "execution_count": 31
        }
      ]
    },
    {
      "cell_type": "code",
      "metadata": {
        "colab": {
          "base_uri": "https://localhost:8080/"
        },
        "id": "eSTMjwo8B0ex",
        "outputId": "7dfbf274-97a9-4240-8c00-26bc5d8db544"
      },
      "source": [
        "data = data[~data['in_response_to_tweet_id'].isna()]\r\n",
        "data.shape"
      ],
      "execution_count": null,
      "outputs": [
        {
          "output_type": "execute_result",
          "data": {
            "text/plain": [
              "(2017439, 7)"
            ]
          },
          "metadata": {
            "tags": []
          },
          "execution_count": 32
        }
      ]
    },
    {
      "cell_type": "code",
      "metadata": {
        "colab": {
          "base_uri": "https://localhost:8080/"
        },
        "id": "IubVUC8SCUJP",
        "outputId": "402173d1-2142-41c8-b898-6ec46217a93c"
      },
      "source": [
        "data.isna().sum()"
      ],
      "execution_count": null,
      "outputs": [
        {
          "output_type": "execute_result",
          "data": {
            "text/plain": [
              "tweet_id                         0\n",
              "author_id                        0\n",
              "inbound                          0\n",
              "created_at                       0\n",
              "text                             0\n",
              "response_tweet_id          1040629\n",
              "in_response_to_tweet_id          0\n",
              "dtype: int64"
            ]
          },
          "metadata": {
            "tags": []
          },
          "execution_count": 33
        }
      ]
    },
    {
      "cell_type": "code",
      "metadata": {
        "colab": {
          "base_uri": "https://localhost:8080/"
        },
        "id": "ZB6sshvyCf6K",
        "outputId": "707a888b-dc7d-4e8f-a3ef-52c95b338dae"
      },
      "source": [
        "%%time\r\n",
        "data = data[['tweet_id', 'text', 'in_response_to_tweet_id', 'author_id']]\r\n",
        "data_final = pd.merge(data, data, left_on='tweet_id', right_on='in_response_to_tweet_id', how='inner')"
      ],
      "execution_count": null,
      "outputs": [
        {
          "output_type": "stream",
          "text": [
            "CPU times: user 1.65 s, sys: 26.8 ms, total: 1.68 s\n",
            "Wall time: 1.69 s\n"
          ],
          "name": "stdout"
        }
      ]
    },
    {
      "cell_type": "code",
      "metadata": {
        "id": "z2KDDoZ8Egs-"
      },
      "source": [
        "assert data_final['tweet_id_x'].astype(float).equals(data_final['in_response_to_tweet_id_y'])"
      ],
      "execution_count": null,
      "outputs": []
    },
    {
      "cell_type": "code",
      "metadata": {
        "colab": {
          "base_uri": "https://localhost:8080/",
          "height": 204
        },
        "id": "i2K7SyJaKvMN",
        "outputId": "be3e1b73-b3b5-46c3-cb88-0e0a1c357886"
      },
      "source": [
        "data_final.head()"
      ],
      "execution_count": null,
      "outputs": [
        {
          "output_type": "execute_result",
          "data": {
            "text/html": [
              "<div>\n",
              "<style scoped>\n",
              "    .dataframe tbody tr th:only-of-type {\n",
              "        vertical-align: middle;\n",
              "    }\n",
              "\n",
              "    .dataframe tbody tr th {\n",
              "        vertical-align: top;\n",
              "    }\n",
              "\n",
              "    .dataframe thead th {\n",
              "        text-align: right;\n",
              "    }\n",
              "</style>\n",
              "<table border=\"1\" class=\"dataframe\">\n",
              "  <thead>\n",
              "    <tr style=\"text-align: right;\">\n",
              "      <th></th>\n",
              "      <th>tweet_id_x</th>\n",
              "      <th>text_x</th>\n",
              "      <th>in_response_to_tweet_id_x</th>\n",
              "      <th>author_id_x</th>\n",
              "      <th>tweet_id_y</th>\n",
              "      <th>text_y</th>\n",
              "      <th>in_response_to_tweet_id_y</th>\n",
              "      <th>author_id_y</th>\n",
              "    </tr>\n",
              "  </thead>\n",
              "  <tbody>\n",
              "    <tr>\n",
              "      <th>0</th>\n",
              "      <td>1</td>\n",
              "      <td>@115712 I understand. I would like to assist y...</td>\n",
              "      <td>3.0</td>\n",
              "      <td>sprintcare</td>\n",
              "      <td>2</td>\n",
              "      <td>@sprintcare and how do you propose we do that</td>\n",
              "      <td>1.0</td>\n",
              "      <td>115712</td>\n",
              "    </tr>\n",
              "    <tr>\n",
              "      <th>1</th>\n",
              "      <td>3</td>\n",
              "      <td>@sprintcare I have sent several private messag...</td>\n",
              "      <td>4.0</td>\n",
              "      <td>115712</td>\n",
              "      <td>1</td>\n",
              "      <td>@115712 I understand. I would like to assist y...</td>\n",
              "      <td>3.0</td>\n",
              "      <td>sprintcare</td>\n",
              "    </tr>\n",
              "    <tr>\n",
              "      <th>2</th>\n",
              "      <td>4</td>\n",
              "      <td>@115712 Please send us a Private Message so th...</td>\n",
              "      <td>5.0</td>\n",
              "      <td>sprintcare</td>\n",
              "      <td>3</td>\n",
              "      <td>@sprintcare I have sent several private messag...</td>\n",
              "      <td>4.0</td>\n",
              "      <td>115712</td>\n",
              "    </tr>\n",
              "    <tr>\n",
              "      <th>3</th>\n",
              "      <td>5</td>\n",
              "      <td>@sprintcare I did.</td>\n",
              "      <td>6.0</td>\n",
              "      <td>115712</td>\n",
              "      <td>4</td>\n",
              "      <td>@115712 Please send us a Private Message so th...</td>\n",
              "      <td>5.0</td>\n",
              "      <td>sprintcare</td>\n",
              "    </tr>\n",
              "    <tr>\n",
              "      <th>4</th>\n",
              "      <td>6</td>\n",
              "      <td>@115712 Can you please send us a private messa...</td>\n",
              "      <td>8.0</td>\n",
              "      <td>sprintcare</td>\n",
              "      <td>5</td>\n",
              "      <td>@sprintcare I did.</td>\n",
              "      <td>6.0</td>\n",
              "      <td>115712</td>\n",
              "    </tr>\n",
              "  </tbody>\n",
              "</table>\n",
              "</div>"
            ],
            "text/plain": [
              "   tweet_id_x  ... author_id_y\n",
              "0           1  ...      115712\n",
              "1           3  ...  sprintcare\n",
              "2           4  ...      115712\n",
              "3           5  ...  sprintcare\n",
              "4           6  ...      115712\n",
              "\n",
              "[5 rows x 8 columns]"
            ]
          },
          "metadata": {
            "tags": []
          },
          "execution_count": 36
        }
      ]
    },
    {
      "cell_type": "code",
      "metadata": {
        "colab": {
          "base_uri": "https://localhost:8080/",
          "height": 204
        },
        "id": "oDUChcKxDc_9",
        "outputId": "45558a62-fc6b-4471-91fb-273acb9d56e1"
      },
      "source": [
        "data_final = data_final[['text_x', 'text_y', 'author_id_x', 'author_id_y']]\r\n",
        "data_final.columns = ['answer', 'question', 'answer_author_id', 'question_author_id']\r\n",
        "data_final.head()"
      ],
      "execution_count": null,
      "outputs": [
        {
          "output_type": "execute_result",
          "data": {
            "text/html": [
              "<div>\n",
              "<style scoped>\n",
              "    .dataframe tbody tr th:only-of-type {\n",
              "        vertical-align: middle;\n",
              "    }\n",
              "\n",
              "    .dataframe tbody tr th {\n",
              "        vertical-align: top;\n",
              "    }\n",
              "\n",
              "    .dataframe thead th {\n",
              "        text-align: right;\n",
              "    }\n",
              "</style>\n",
              "<table border=\"1\" class=\"dataframe\">\n",
              "  <thead>\n",
              "    <tr style=\"text-align: right;\">\n",
              "      <th></th>\n",
              "      <th>answer</th>\n",
              "      <th>question</th>\n",
              "      <th>answer_author_id</th>\n",
              "      <th>question_author_id</th>\n",
              "    </tr>\n",
              "  </thead>\n",
              "  <tbody>\n",
              "    <tr>\n",
              "      <th>0</th>\n",
              "      <td>@115712 I understand. I would like to assist y...</td>\n",
              "      <td>@sprintcare and how do you propose we do that</td>\n",
              "      <td>sprintcare</td>\n",
              "      <td>115712</td>\n",
              "    </tr>\n",
              "    <tr>\n",
              "      <th>1</th>\n",
              "      <td>@sprintcare I have sent several private messag...</td>\n",
              "      <td>@115712 I understand. I would like to assist y...</td>\n",
              "      <td>115712</td>\n",
              "      <td>sprintcare</td>\n",
              "    </tr>\n",
              "    <tr>\n",
              "      <th>2</th>\n",
              "      <td>@115712 Please send us a Private Message so th...</td>\n",
              "      <td>@sprintcare I have sent several private messag...</td>\n",
              "      <td>sprintcare</td>\n",
              "      <td>115712</td>\n",
              "    </tr>\n",
              "    <tr>\n",
              "      <th>3</th>\n",
              "      <td>@sprintcare I did.</td>\n",
              "      <td>@115712 Please send us a Private Message so th...</td>\n",
              "      <td>115712</td>\n",
              "      <td>sprintcare</td>\n",
              "    </tr>\n",
              "    <tr>\n",
              "      <th>4</th>\n",
              "      <td>@115712 Can you please send us a private messa...</td>\n",
              "      <td>@sprintcare I did.</td>\n",
              "      <td>sprintcare</td>\n",
              "      <td>115712</td>\n",
              "    </tr>\n",
              "  </tbody>\n",
              "</table>\n",
              "</div>"
            ],
            "text/plain": [
              "                                              answer  ... question_author_id\n",
              "0  @115712 I understand. I would like to assist y...  ...             115712\n",
              "1  @sprintcare I have sent several private messag...  ...         sprintcare\n",
              "2  @115712 Please send us a Private Message so th...  ...             115712\n",
              "3                                 @sprintcare I did.  ...         sprintcare\n",
              "4  @115712 Can you please send us a private messa...  ...             115712\n",
              "\n",
              "[5 rows x 4 columns]"
            ]
          },
          "metadata": {
            "tags": []
          },
          "execution_count": 37
        }
      ]
    },
    {
      "cell_type": "code",
      "metadata": {
        "colab": {
          "base_uri": "https://localhost:8080/"
        },
        "id": "LKY5F05-JsnZ",
        "outputId": "ea3eda9c-025d-481a-b247-6c4609a44a5d"
      },
      "source": [
        "data.tweet_id.nunique(), data.in_response_to_tweet_id.nunique(), data_final.shape"
      ],
      "execution_count": null,
      "outputs": [
        {
          "output_type": "execute_result",
          "data": {
            "text/plain": [
              "(2017439, 1774822, (1118063, 4))"
            ]
          },
          "metadata": {
            "tags": []
          },
          "execution_count": 38
        }
      ]
    },
    {
      "cell_type": "code",
      "metadata": {
        "colab": {
          "base_uri": "https://localhost:8080/"
        },
        "id": "D4VLXmibF8XD",
        "outputId": "c4b5b7d7-e47c-456a-d41d-2a53a502ba0f"
      },
      "source": [
        "i = 200\r\n",
        "print(f\"question: {data_final.loc[i]['question']}, \\nanswer: {data_final.loc[i].answer}, answer_author_id: {data_final.loc[i].answer_author_id}, question_author_id: {data_final.loc[i].question_author_id}\")"
      ],
      "execution_count": null,
      "outputs": [
        {
          "output_type": "stream",
          "text": [
            "question: @115847 @115821 Yeah idk the shipping company and it says “mike Ziemer” signed for it in the mail room at our building lol, \n",
            "answer: @115846 @115821 Remember my head phones and they brought them within minutes, answer_author_id: 115847, question_author_id: 115846\n"
          ],
          "name": "stdout"
        }
      ]
    },
    {
      "cell_type": "code",
      "metadata": {
        "colab": {
          "base_uri": "https://localhost:8080/",
          "height": 204
        },
        "id": "0rHxb3JZlc4j",
        "outputId": "2d1e8c5f-578d-403b-f06a-46b80dfc9fe2"
      },
      "source": [
        "data_final.head()"
      ],
      "execution_count": null,
      "outputs": [
        {
          "output_type": "execute_result",
          "data": {
            "text/html": [
              "<div>\n",
              "<style scoped>\n",
              "    .dataframe tbody tr th:only-of-type {\n",
              "        vertical-align: middle;\n",
              "    }\n",
              "\n",
              "    .dataframe tbody tr th {\n",
              "        vertical-align: top;\n",
              "    }\n",
              "\n",
              "    .dataframe thead th {\n",
              "        text-align: right;\n",
              "    }\n",
              "</style>\n",
              "<table border=\"1\" class=\"dataframe\">\n",
              "  <thead>\n",
              "    <tr style=\"text-align: right;\">\n",
              "      <th></th>\n",
              "      <th>answer</th>\n",
              "      <th>question</th>\n",
              "      <th>answer_author_id</th>\n",
              "      <th>question_author_id</th>\n",
              "    </tr>\n",
              "  </thead>\n",
              "  <tbody>\n",
              "    <tr>\n",
              "      <th>0</th>\n",
              "      <td>@115712 I understand. I would like to assist y...</td>\n",
              "      <td>@sprintcare and how do you propose we do that</td>\n",
              "      <td>sprintcare</td>\n",
              "      <td>115712</td>\n",
              "    </tr>\n",
              "    <tr>\n",
              "      <th>1</th>\n",
              "      <td>@sprintcare I have sent several private messag...</td>\n",
              "      <td>@115712 I understand. I would like to assist y...</td>\n",
              "      <td>115712</td>\n",
              "      <td>sprintcare</td>\n",
              "    </tr>\n",
              "    <tr>\n",
              "      <th>2</th>\n",
              "      <td>@115712 Please send us a Private Message so th...</td>\n",
              "      <td>@sprintcare I have sent several private messag...</td>\n",
              "      <td>sprintcare</td>\n",
              "      <td>115712</td>\n",
              "    </tr>\n",
              "    <tr>\n",
              "      <th>3</th>\n",
              "      <td>@sprintcare I did.</td>\n",
              "      <td>@115712 Please send us a Private Message so th...</td>\n",
              "      <td>115712</td>\n",
              "      <td>sprintcare</td>\n",
              "    </tr>\n",
              "    <tr>\n",
              "      <th>4</th>\n",
              "      <td>@115712 Can you please send us a private messa...</td>\n",
              "      <td>@sprintcare I did.</td>\n",
              "      <td>sprintcare</td>\n",
              "      <td>115712</td>\n",
              "    </tr>\n",
              "  </tbody>\n",
              "</table>\n",
              "</div>"
            ],
            "text/plain": [
              "                                              answer  ... question_author_id\n",
              "0  @115712 I understand. I would like to assist y...  ...             115712\n",
              "1  @sprintcare I have sent several private messag...  ...         sprintcare\n",
              "2  @115712 Please send us a Private Message so th...  ...             115712\n",
              "3                                 @sprintcare I did.  ...         sprintcare\n",
              "4  @115712 Can you please send us a private messa...  ...             115712\n",
              "\n",
              "[5 rows x 4 columns]"
            ]
          },
          "metadata": {
            "tags": []
          },
          "execution_count": 40
        }
      ]
    },
    {
      "cell_type": "code",
      "metadata": {
        "colab": {
          "base_uri": "https://localhost:8080/"
        },
        "id": "Dn-gM-yQ-PU9",
        "outputId": "867db202-8004-4fa1-c2c3-3df41bc15560"
      },
      "source": [
        "%%time\r\n",
        "data_final['answer'] = data_final['answer'].apply(clean_tweet)\r\n",
        "#print('finshed with answers, transforming questions ...')\r\n",
        "data_final['question'] = data_final['question'].apply(clean_tweet)"
      ],
      "execution_count": null,
      "outputs": [
        {
          "output_type": "stream",
          "text": [
            "CPU times: user 24min 8s, sys: 136 ms, total: 24min 8s\n",
            "Wall time: 24min 8s\n"
          ],
          "name": "stdout"
        }
      ]
    },
    {
      "cell_type": "code",
      "metadata": {
        "id": "GoJgx5wZmFoe"
      },
      "source": [
        "from sklearn.model_selection import train_test_split\r\n",
        "train_ds, valid_ds = train_test_split(data_final, test_size=0.3)\r\n",
        "train_ds = train_ds.reset_index(drop=True)\r\n",
        "valid_ds = valid_ds.reset_index(drop=True)"
      ],
      "execution_count": null,
      "outputs": []
    },
    {
      "cell_type": "code",
      "metadata": {
        "id": "JdDVRVjinFvB"
      },
      "source": [
        "train_ds.to_csv(f'{path}/train_ds.csv', index=False)\r\n",
        "valid_ds.to_csv(f'{path}/valid_ds.csv', index=False)"
      ],
      "execution_count": null,
      "outputs": []
    },
    {
      "cell_type": "code",
      "metadata": {
        "id": "cv4mGxh5EPTG"
      },
      "source": [
        "# top_answer_ids = tds.answer_author_id.value_counts().head(50).index\r\n",
        "# tds = tds[tds.answer_author_id.isin(top_answer_ids)]\r\n",
        "# vds = vds[vds.answer_author_id.isin(top_answer_ids)]\r\n",
        "# tds.to_csv(f'{path}/train_ds_filtered.csv', index=False)\r\n",
        "# vds.to_csv(f'{path}/valid_ds_filtered.csv', index=False)"
      ],
      "execution_count": null,
      "outputs": []
    },
    {
      "cell_type": "markdown",
      "metadata": {
        "id": "DmU_9B5QEQOS"
      },
      "source": [
        "# **Modelling**"
      ]
    },
    {
      "cell_type": "code",
      "metadata": {
        "colab": {
          "base_uri": "https://localhost:8080/"
        },
        "id": "xIQUc7DMrbUE",
        "outputId": "0e4bd15d-bbf7-435a-dd45-08dfa5e5cbf3"
      },
      "source": [
        "# x = pd.read_csv(f'{path}/train_ds_filtered.csv')\r\n",
        "# y = pd.read_csv(f'{path}/valid_ds_filtered.csv')\r\n",
        "# x.shape, y.shape"
      ],
      "execution_count": null,
      "outputs": [
        {
          "output_type": "execute_result",
          "data": {
            "text/plain": [
              "((352879, 4), (150630, 4))"
            ]
          },
          "metadata": {
            "tags": []
          },
          "execution_count": 46
        }
      ]
    },
    {
      "cell_type": "code",
      "metadata": {
        "colab": {
          "base_uri": "https://localhost:8080/"
        },
        "id": "ktRdU_pirpMX",
        "outputId": "22c3c691-c02c-4d6f-e328-2686bc3b6238"
      },
      "source": [
        "# x_trunc = x.iloc[list(np.random.choice(len(x),100000, replace=False))]\r\n",
        "# y_trunc = y.iloc[list(np.random.choice(len(y), 50000, replace=False))]\r\n",
        "# x_trunc.shape, y_trunc.shape"
      ],
      "execution_count": null,
      "outputs": [
        {
          "output_type": "execute_result",
          "data": {
            "text/plain": [
              "((100000, 4), (50000, 4))"
            ]
          },
          "metadata": {
            "tags": []
          },
          "execution_count": 56
        }
      ]
    },
    {
      "cell_type": "code",
      "metadata": {
        "id": "mFWIvHbpsgca"
      },
      "source": [
        "# x_trunc[['question', 'answer']].to_csv(f'{path}/train_ds_100k.csv', index=False)\r\n",
        "# y_trunc[['question', 'answer']].to_csv(f'{path}/valid_ds_50k.csv', index=False)"
      ],
      "execution_count": null,
      "outputs": []
    },
    {
      "cell_type": "code",
      "metadata": {
        "id": "KtK6FeZe5OYB"
      },
      "source": [
        "spacy_en = spacy.load('en')\r\n",
        "def tokenize_en(text):\r\n",
        "    \"\"\"\r\n",
        "    Tokenizes English text from a string into a list of strings\r\n",
        "    \"\"\"\r\n",
        "    return [tok.text for tok in spacy_en.tokenizer(text)]"
      ],
      "execution_count": 3,
      "outputs": []
    },
    {
      "cell_type": "code",
      "metadata": {
        "id": "_zS-y0UxE6bW"
      },
      "source": [
        "QUESTION = Field(\r\n",
        "                   tokenize = tokenize_en,\r\n",
        "                   lower = True,\r\n",
        "                   init_token = '<sos>', \r\n",
        "                   eos_token = '<eos>', \r\n",
        "                   )\r\n",
        "\r\n",
        "ANSWER = Field(tokenize =tokenize_en,\r\n",
        "                     lower = True,\r\n",
        "                      init_token = '<sos>', \r\n",
        "                      eos_token = '<eos>')\r\n",
        "\r\n",
        "fields = [('question', QUESTION), ('answer', ANSWER)]"
      ],
      "execution_count": 4,
      "outputs": []
    },
    {
      "cell_type": "code",
      "metadata": {
        "colab": {
          "base_uri": "https://localhost:8080/"
        },
        "id": "kCyTQ0oeE73F",
        "outputId": "c2c9e460-52ab-402c-bfba-1af704692387"
      },
      "source": [
        "%%time\r\n",
        "train_ds, valid_ds = TabularDataset.splits(\r\n",
        "   path = path,\r\n",
        "   train = 'train_ds_100k.csv',\r\n",
        "   validation = 'valid_ds_50k.csv',\r\n",
        "   format = 'csv',\r\n",
        "   fields = fields,\r\n",
        "   skip_header = True\r\n",
        ")\r\n"
      ],
      "execution_count": 5,
      "outputs": [
        {
          "output_type": "stream",
          "text": [
            "CPU times: user 39.2 s, sys: 556 ms, total: 39.8 s\n",
            "Wall time: 39.8 s\n"
          ],
          "name": "stdout"
        }
      ]
    },
    {
      "cell_type": "code",
      "metadata": {
        "colab": {
          "base_uri": "https://localhost:8080/"
        },
        "id": "iS7zNxAZE70k",
        "outputId": "0224ecbc-7b64-4e8b-8056-c382cc848acc"
      },
      "source": [
        "%%time\r\n",
        "QUESTION.build_vocab(train_ds, min_freq=3)\r\n",
        "ANSWER.build_vocab(train_ds, min_freq=3)"
      ],
      "execution_count": 6,
      "outputs": [
        {
          "output_type": "stream",
          "text": [
            "CPU times: user 1.41 s, sys: 3.03 ms, total: 1.41 s\n",
            "Wall time: 1.42 s\n"
          ],
          "name": "stdout"
        }
      ]
    },
    {
      "cell_type": "code",
      "metadata": {
        "id": "26sEDFW2E7yT"
      },
      "source": [
        "BATCH_SIZE = 64\r\n",
        "device = 'cuda'\r\n",
        "train_iterator, valid_iterator = BucketIterator.splits(\r\n",
        "    (train_ds, valid_ds),\r\n",
        "    sort_key=lambda x: len(x.answer), # the BucketIterator needs to be told what function it should use to group the data.\r\n",
        "    sort_within_batch=True,\r\n",
        "    batch_size=BATCH_SIZE,\r\n",
        "    # repeat=False, # we pass repeat=False because we want to wrap this Iterator layer\r\n",
        "    device = device)"
      ],
      "execution_count": 7,
      "outputs": []
    },
    {
      "cell_type": "code",
      "metadata": {
        "id": "NeObARr_E7mz"
      },
      "source": [
        "class Seq2Seq(nn.Module):\r\n",
        "    def __init__(self, encoder, decoder, device):\r\n",
        "        super().__init__()\r\n",
        "        \r\n",
        "        self.encoder = encoder\r\n",
        "        self.decoder = decoder\r\n",
        "        self.device = device\r\n",
        "        \r\n",
        "    def forward(self, src, trg, teacher_forcing_ratio = 0.5):\r\n",
        "        \r\n",
        "        #src = [src len, batch size]\r\n",
        "        #trg = [trg len, batch size]\r\n",
        "        #teacher_forcing_ratio is probability to use teacher forcing\r\n",
        "        #e.g. if teacher_forcing_ratio is 0.75 we use teacher forcing 75% of the time\r\n",
        "        \r\n",
        "        batch_size = src.shape[1]\r\n",
        "        #print(f'\\nsrc shape from s2s forward : {src.shape}, trg shape from s2s forward: {trg.shape}')\r\n",
        "        trg_len = trg.shape[0]\r\n",
        "        trg_vocab_size = self.decoder.output_dim\r\n",
        "        \r\n",
        "        #tensor to store decoder outputs\r\n",
        "        outputs = torch.zeros(trg_len, batch_size, trg_vocab_size).to(self.device)\r\n",
        "        \r\n",
        "        #encoder_outputs is all hidden states of the input sequence, back and forwards\r\n",
        "        #hidden is the final forward and backward hidden states, passed through a linear layer\r\n",
        "        encoder_outputs, hidden = self.encoder(src)\r\n",
        "                \r\n",
        "        #first input to the decoder is the <sos> tokens\r\n",
        "        input = trg[0,:]\r\n",
        "        \r\n",
        "        for t in range(1, trg_len):\r\n",
        "            \r\n",
        "            #insert input token embedding, previous hidden state and all encoder hidden states\r\n",
        "            #receive output tensor (predictions) and new hidden state\r\n",
        "            output, hidden = self.decoder(input, hidden, encoder_outputs)\r\n",
        "            \r\n",
        "            #place predictions in a tensor holding predictions for each token\r\n",
        "            outputs[t] = output\r\n",
        "            \r\n",
        "            #decide if we are going to use teacher forcing or not\r\n",
        "            teacher_force = np.random.random() < teacher_forcing_ratio\r\n",
        "            \r\n",
        "            #get the highest predicted token from our predictions\r\n",
        "            top1 = output.argmax(1) \r\n",
        "            \r\n",
        "            #if teacher forcing, use actual next token as next input\r\n",
        "            #if not, use predicted token\r\n",
        "            input = trg[t] if teacher_force else top1\r\n",
        "\r\n",
        "        return outputs"
      ],
      "execution_count": 8,
      "outputs": []
    },
    {
      "cell_type": "code",
      "metadata": {
        "id": "VO6AeXD9E7TI"
      },
      "source": [
        "class Encoder(nn.Module):\r\n",
        "    def __init__(self, input_dim, emb_dim, enc_hid_dim, dec_hid_dim, dropout):\r\n",
        "        super().__init__()\r\n",
        "        \r\n",
        "        self.embedding = nn.Embedding(input_dim, emb_dim)\r\n",
        "        \r\n",
        "        self.rnn = nn.GRU(emb_dim, enc_hid_dim, bidirectional = True)\r\n",
        "        \r\n",
        "        self.fc = nn.Linear(enc_hid_dim * 2, dec_hid_dim)\r\n",
        "        \r\n",
        "        self.dropout = nn.Dropout(dropout)\r\n",
        "        \r\n",
        "    def forward(self, src):\r\n",
        "        \r\n",
        "        #src = [src len, batch size]\r\n",
        "        \r\n",
        "        embedded = self.dropout(self.embedding(src))\r\n",
        "        \r\n",
        "        #embedded = [src len, batch size, emb dim]\r\n",
        "        \r\n",
        "        outputs, hidden = self.rnn(embedded)\r\n",
        "                \r\n",
        "        #outputs = [src len, batch size, hid dim * num directions]\r\n",
        "        #hidden = [n layers * num directions, batch size, hid dim]\r\n",
        "        \r\n",
        "        #hidden is stacked [forward_1, backward_1, forward_2, backward_2, ...]\r\n",
        "        #outputs are always from the last layer\r\n",
        "        \r\n",
        "        #hidden [-2, :, : ] is the last of the forwards RNN \r\n",
        "        #hidden [-1, :, : ] is the last of the backwards RNN\r\n",
        "        \r\n",
        "        #initial decoder hidden is final hidden state of the forwards and backwards \r\n",
        "        #  encoder RNNs fed through a linear layer\r\n",
        "        hidden = torch.tanh(self.fc(torch.cat((hidden[-2,:,:], hidden[-1,:,:]), dim = 1)))\r\n",
        "        \r\n",
        "        #outputs = [src len, batch size, enc hid dim * 2]\r\n",
        "        #hidden = [batch size, dec hid dim]\r\n",
        "        \r\n",
        "        return outputs, hidden\r\n",
        "\r\n",
        "\r\n",
        "class Attention(nn.Module):\r\n",
        "    def __init__(self, enc_hid_dim, dec_hid_dim):\r\n",
        "        super().__init__()\r\n",
        "        \r\n",
        "        self.attn = nn.Linear((enc_hid_dim * 2) + dec_hid_dim, dec_hid_dim)\r\n",
        "        self.v = nn.Linear(dec_hid_dim, 1, bias = False)\r\n",
        "        \r\n",
        "    def forward(self, hidden, encoder_outputs):\r\n",
        "\r\n",
        "        \r\n",
        "        \r\n",
        "        #hidden = [batch size, dec hid dim]\r\n",
        "        #encoder_outputs = [src len, batch size, enc hid dim * 2]\r\n",
        "        \r\n",
        "        batch_size = encoder_outputs.shape[1]\r\n",
        "        src_len = encoder_outputs.shape[0]\r\n",
        "        \r\n",
        "        #repeat decoder hidden state src_len times\r\n",
        "        hidden = hidden.unsqueeze(1).repeat(1, src_len, 1)\r\n",
        "        \r\n",
        "        encoder_outputs = encoder_outputs.permute(1, 0, 2)\r\n",
        "        \r\n",
        "        #hidden = [batch size, src len, dec hid dim]\r\n",
        "        #encoder_outputs = [batch size, src len, enc hid dim * 2]\r\n",
        "        \r\n",
        "        energy = torch.tanh(self.attn(torch.cat((hidden, encoder_outputs), dim = 2))) \r\n",
        "        \r\n",
        "        #energy = [batch size, src len, dec hid dim]\r\n",
        "\r\n",
        "        attention = self.v(energy).squeeze(2)\r\n",
        "        \r\n",
        "        #attention= [batch size, src len]\r\n",
        "        \r\n",
        "        return F.softmax(attention, dim=1)\r\n",
        "class Decoder(nn.Module):\r\n",
        "    def __init__(self, output_dim, emb_dim, enc_hid_dim, dec_hid_dim, dropout, attention):\r\n",
        "        super().__init__()\r\n",
        "\r\n",
        "        self.output_dim = output_dim\r\n",
        "        self.attention = attention\r\n",
        "        \r\n",
        "        self.embedding = nn.Embedding(output_dim, emb_dim)\r\n",
        "        \r\n",
        "        self.rnn = nn.GRU((enc_hid_dim * 2) + emb_dim, dec_hid_dim)\r\n",
        "        \r\n",
        "        self.fc_out = nn.Linear((enc_hid_dim * 2) + dec_hid_dim + emb_dim, output_dim)\r\n",
        "        \r\n",
        "        self.dropout = nn.Dropout(dropout)\r\n",
        "        \r\n",
        "    def forward(self, input, hidden, encoder_outputs):\r\n",
        "             \r\n",
        "        #input = [batch size]\r\n",
        "        #hidden = [batch size, dec hid dim]\r\n",
        "        #encoder_outputs = [src len, batch size, enc hid dim * 2]\r\n",
        "\r\n",
        "        input = input.unsqueeze(0)\r\n",
        "        \r\n",
        "        #input = [1, batch size]\r\n",
        "        \r\n",
        "        embedded = self.dropout(self.embedding(input))\r\n",
        "        \r\n",
        "        #embedded = [1, batch size, emb dim]\r\n",
        "        \r\n",
        "        a = self.attention(hidden, encoder_outputs)\r\n",
        "                \r\n",
        "        #a = [batch size, src len]\r\n",
        "        \r\n",
        "        a = a.unsqueeze(1)\r\n",
        "        \r\n",
        "        #a = [batch size, 1, src len]\r\n",
        "        \r\n",
        "        encoder_outputs = encoder_outputs.permute(1, 0, 2)\r\n",
        "        \r\n",
        "        #encoder_outputs = [batch size, src len, enc hid dim * 2]\r\n",
        "        \r\n",
        "        weighted = torch.bmm(a, encoder_outputs)\r\n",
        "        \r\n",
        "        #weighted = [batch size, 1, enc hid dim * 2]\r\n",
        "        \r\n",
        "        weighted = weighted.permute(1, 0, 2)\r\n",
        "        \r\n",
        "        #weighted = [1, batch size, enc hid dim * 2]\r\n",
        "\r\n",
        "        #print(f'embedded: {embedded.shape}, weighted :{weighted.shape}')\r\n",
        "        \r\n",
        "        rnn_input = torch.cat((embedded, weighted), dim = 2)\r\n",
        "        \r\n",
        "        #rnn_input = [1, batch size, (enc hid dim * 2) + emb dim]\r\n",
        "            \r\n",
        "        output, hidden = self.rnn(rnn_input, hidden.unsqueeze(0))\r\n",
        "        \r\n",
        "        #output = [seq len, batch size, dec hid dim * n directions]\r\n",
        "        #hidden = [n layers * n directions, batch size, dec hid dim]\r\n",
        "        \r\n",
        "        #seq len, n layers and n directions will always be 1 in this decoder, therefore:\r\n",
        "        #output = [1, batch size, dec hid dim]\r\n",
        "        #hidden = [1, batch size, dec hid dim]\r\n",
        "        #this also means that output == hidden\r\n",
        "        assert (output == hidden).all()\r\n",
        "        \r\n",
        "        embedded = embedded.squeeze(0)\r\n",
        "        output = output.squeeze(0)\r\n",
        "        weighted = weighted.squeeze(0)\r\n",
        "        \r\n",
        "        prediction = self.fc_out(torch.cat((output, weighted, embedded), dim = 1))\r\n",
        "        \r\n",
        "        #prediction = [batch size, output dim]\r\n",
        "        \r\n",
        "        return prediction, hidden.squeeze(0)"
      ],
      "execution_count": 9,
      "outputs": []
    },
    {
      "cell_type": "code",
      "metadata": {
        "id": "N7XQxUIkdziK"
      },
      "source": [
        "INPUT_DIM = len(QUESTION.vocab)\r\n",
        "OUTPUT_DIM = len(ANSWER.vocab)\r\n",
        "ENC_EMB_DIM = 64\r\n",
        "DEC_EMB_DIM = 64\r\n",
        "ENC_HID_DIM = 128\r\n",
        "DEC_HID_DIM = 128\r\n",
        "ENC_DROPOUT = 0.5\r\n",
        "DEC_DROPOUT = 0.5\r\n",
        "\r\n",
        "attn = Attention(ENC_HID_DIM, DEC_HID_DIM)\r\n",
        "enc = Encoder(INPUT_DIM, ENC_EMB_DIM, ENC_HID_DIM, DEC_HID_DIM, ENC_DROPOUT)\r\n",
        "dec = Decoder(OUTPUT_DIM, DEC_EMB_DIM, ENC_HID_DIM, DEC_HID_DIM, DEC_DROPOUT, attn)\r\n",
        "\r\n",
        "model = Seq2Seq(enc, dec, device).to(device)"
      ],
      "execution_count": 10,
      "outputs": []
    },
    {
      "cell_type": "code",
      "metadata": {
        "colab": {
          "base_uri": "https://localhost:8080/"
        },
        "id": "Cy9P3WbreA4W",
        "outputId": "f70ef5f2-2202-4ee5-aefc-4df8f183b136"
      },
      "source": [
        "def init_weights(m):\r\n",
        "    for name, param in m.named_parameters():\r\n",
        "        if 'weight' in name:\r\n",
        "            nn.init.normal_(param.data, mean=0, std=0.01)\r\n",
        "        else:\r\n",
        "            nn.init.constant_(param.data, 0)\r\n",
        "            \r\n",
        "model.apply(init_weights)"
      ],
      "execution_count": 11,
      "outputs": [
        {
          "output_type": "execute_result",
          "data": {
            "text/plain": [
              "Seq2Seq(\n",
              "  (encoder): Encoder(\n",
              "    (embedding): Embedding(14182, 64)\n",
              "    (rnn): GRU(64, 128, bidirectional=True)\n",
              "    (fc): Linear(in_features=256, out_features=128, bias=True)\n",
              "    (dropout): Dropout(p=0.5, inplace=False)\n",
              "  )\n",
              "  (decoder): Decoder(\n",
              "    (attention): Attention(\n",
              "      (attn): Linear(in_features=384, out_features=128, bias=True)\n",
              "      (v): Linear(in_features=128, out_features=1, bias=False)\n",
              "    )\n",
              "    (embedding): Embedding(12177, 64)\n",
              "    (rnn): GRU(320, 128)\n",
              "    (fc_out): Linear(in_features=448, out_features=12177, bias=True)\n",
              "    (dropout): Dropout(p=0.5, inplace=False)\n",
              "  )\n",
              ")"
            ]
          },
          "metadata": {
            "tags": []
          },
          "execution_count": 11
        }
      ]
    },
    {
      "cell_type": "code",
      "metadata": {
        "id": "GCrk4W18eDJg"
      },
      "source": [
        "optimizer = optim.Adam(model.parameters())\r\n",
        "TRG_PAD_IDX = ANSWER.vocab.stoi[ANSWER.pad_token]\r\n",
        "\r\n",
        "criterion = nn.CrossEntropyLoss(ignore_index = TRG_PAD_IDX)"
      ],
      "execution_count": 12,
      "outputs": []
    },
    {
      "cell_type": "code",
      "metadata": {
        "id": "Bnd_GjVzeM7S"
      },
      "source": [
        "\r\n",
        "from functools import partial\r\n",
        "from tqdm import tqdm\r\n",
        "\r\n",
        "tqdm = partial(tqdm, leave=True, position=0)\r\n",
        "def train(model, iterator, optimizer, criterion, clip):\r\n",
        "    \r\n",
        "    model.train()\r\n",
        "    \r\n",
        "    epoch_loss = 0\r\n",
        "    \r\n",
        "    for i, batch in tqdm(enumerate(iterator), total=len(iterator)):\r\n",
        "        \r\n",
        "        src = batch.question\r\n",
        "        trg = batch.answer\r\n",
        "        \r\n",
        "        #print(f'\\nsrc shape from train : {src.shape}, trg shape from train: {trg.shape}')\r\n",
        "        optimizer.zero_grad()\r\n",
        "        output = model(src, trg)\r\n",
        "        \r\n",
        "        #trg = [trg len, batch size]\r\n",
        "        #output = [trg len, batch size, output dim]\r\n",
        "        \r\n",
        "        output_dim = output.shape[-1]\r\n",
        "        \r\n",
        "        output = output[1:].view(-1, output_dim)\r\n",
        "        trg = trg[1:].view(-1)\r\n",
        "        \r\n",
        "        #trg = [(trg len - 1) * batch size]\r\n",
        "        #output = [(trg len - 1) * batch size, output dim]\r\n",
        "        \r\n",
        "        loss = criterion(output, trg)\r\n",
        "        \r\n",
        "        loss.backward()\r\n",
        "        \r\n",
        "        torch.nn.utils.clip_grad_norm_(model.parameters(), clip)\r\n",
        "        \r\n",
        "        optimizer.step()\r\n",
        "        \r\n",
        "        epoch_loss += loss.item()\r\n",
        "        \r\n",
        "    return epoch_loss / len(iterator)\r\n",
        "\r\n",
        "def evaluate(model, iterator, criterion):\r\n",
        "    \r\n",
        "    model.eval()\r\n",
        "    \r\n",
        "    epoch_loss = 0\r\n",
        "    \r\n",
        "    with torch.no_grad():\r\n",
        "    \r\n",
        "        for i, batch in tqdm(enumerate(iterator), total=len(iterator)):\r\n",
        "\r\n",
        "            src = batch.question\r\n",
        "            trg = batch.answer\r\n",
        "\r\n",
        "            output = model(src, trg, 0) #turn off teacher forcing\r\n",
        "\r\n",
        "            #trg = [trg len, batch size]\r\n",
        "            #output = [trg len, batch size, output dim]\r\n",
        "\r\n",
        "            output_dim = output.shape[-1]\r\n",
        "            \r\n",
        "            output = output[1:].view(-1, output_dim)\r\n",
        "            trg = trg[1:].view(-1)\r\n",
        "\r\n",
        "            #trg = [(trg len - 1) * batch size]\r\n",
        "            #output = [(trg len - 1) * batch size, output dim]\r\n",
        "\r\n",
        "            loss = criterion(output, trg)\r\n",
        "\r\n",
        "            epoch_loss += loss.item()\r\n",
        "        \r\n",
        "    return epoch_loss / len(iterator)"
      ],
      "execution_count": 13,
      "outputs": []
    },
    {
      "cell_type": "code",
      "metadata": {
        "id": "zEQkWyaAeNof"
      },
      "source": [
        "def epoch_time(start_time, end_time):\r\n",
        "    elapsed_time = end_time - start_time\r\n",
        "    elapsed_mins = int(elapsed_time / 60)\r\n",
        "    elapsed_secs = int(elapsed_time - (elapsed_mins * 60))\r\n",
        "    return elapsed_mins, elapsed_secs"
      ],
      "execution_count": 14,
      "outputs": []
    },
    {
      "cell_type": "code",
      "metadata": {
        "colab": {
          "base_uri": "https://localhost:8080/"
        },
        "id": "xbuduFXLeNc0",
        "outputId": "2e2f4a11-50f0-4c7c-c967-2e0e71fe7cf7"
      },
      "source": [
        "N_EPOCHS = 10\r\n",
        "CLIP = 1\r\n",
        "\r\n",
        "best_valid_loss = float('inf')\r\n",
        "\r\n",
        "for epoch in range(N_EPOCHS):\r\n",
        "    \r\n",
        "    start_time = time.time()\r\n",
        "    \r\n",
        "    train_loss = train(model, train_iterator, optimizer, criterion, CLIP)\r\n",
        "    valid_loss = evaluate(model, valid_iterator, criterion)\r\n",
        "    \r\n",
        "    end_time = time.time()\r\n",
        "    \r\n",
        "    epoch_mins, epoch_secs = epoch_time(start_time, end_time)\r\n",
        "    \r\n",
        "    if valid_loss < best_valid_loss:\r\n",
        "        best_valid_loss = valid_loss\r\n",
        "        #torch.save(model.state_dict(), 'tut3-model.pt')\r\n",
        "        print(f'best loss is {best_valid_loss} now')\r\n",
        "    \r\n",
        "    print(f'Epoch: {epoch+1:02} | Time: {epoch_mins}m {epoch_secs}s')\r\n",
        "    print(f'\\tTrain Loss: {train_loss:.3f} | Train PPL: {np.exp(train_loss):7.3f}')\r\n",
        "    print(f'\\t Val. Loss: {valid_loss:.3f} |  Val. PPL: {np.exp(valid_loss):7.3f}')"
      ],
      "execution_count": null,
      "outputs": [
        {
          "output_type": "stream",
          "text": [
            "100%|██████████| 3125/3125 [11:09<00:00,  4.67it/s]\n",
            "100%|██████████| 1563/1563 [01:22<00:00, 18.88it/s]\n",
            "  0%|          | 0/3125 [00:00<?, ?it/s]"
          ],
          "name": "stderr"
        },
        {
          "output_type": "stream",
          "text": [
            "best loss is 6.112677135150248 now\n",
            "Epoch: 01 | Time: 12m 32s\n",
            "\tTrain Loss: 5.110 | Train PPL: 165.654\n",
            "\t Val. Loss: 6.113 |  Val. PPL: 451.546\n"
          ],
          "name": "stdout"
        },
        {
          "output_type": "stream",
          "text": [
            "100%|██████████| 3125/3125 [11:07<00:00,  4.68it/s]\n",
            "100%|██████████| 1563/1563 [01:21<00:00, 19.06it/s]\n",
            "  0%|          | 0/3125 [00:00<?, ?it/s]"
          ],
          "name": "stderr"
        },
        {
          "output_type": "stream",
          "text": [
            "Epoch: 02 | Time: 12m 29s\n",
            "\tTrain Loss: 4.613 | Train PPL: 100.764\n",
            "\t Val. Loss: 6.124 |  Val. PPL: 456.906\n"
          ],
          "name": "stdout"
        },
        {
          "output_type": "stream",
          "text": [
            "  9%|▉         | 294/3125 [01:02<10:50,  4.35it/s]"
          ],
          "name": "stderr"
        }
      ]
    },
    {
      "cell_type": "code",
      "metadata": {
        "id": "oRGmsPN4mAcZ"
      },
      "source": [
        ""
      ],
      "execution_count": null,
      "outputs": []
    },
    {
      "cell_type": "code",
      "metadata": {
        "id": "x1GgIiPs6xin"
      },
      "source": [
        ""
      ],
      "execution_count": null,
      "outputs": []
    }
  ]
}