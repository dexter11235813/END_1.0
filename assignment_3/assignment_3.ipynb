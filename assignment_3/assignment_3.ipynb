{
  "nbformat": 4,
  "nbformat_minor": 0,
  "metadata": {
    "colab": {
      "name": "assignment3.ipynb",
      "provenance": [],
      "collapsed_sections": [],
      "toc_visible": true,
      "authorship_tag": "ABX9TyM9htxfr6yodnH+Lzt/fvvu",
      "include_colab_link": true
    },
    "kernelspec": {
      "name": "python3",
      "display_name": "Python 3"
    }
  },
  "cells": [
    {
      "cell_type": "markdown",
      "metadata": {
        "id": "view-in-github",
        "colab_type": "text"
      },
      "source": [
        "<a href=\"https://colab.research.google.com/github/dexter11235813/END_1.0/blob/main/assignment_3/assignment_3.ipynb\" target=\"_parent\"><img src=\"https://colab.research.google.com/assets/colab-badge.svg\" alt=\"Open In Colab\"/></a>"
      ]
    },
    {
      "cell_type": "code",
      "metadata": {
        "id": "q7KZgVdFCw93"
      },
      "source": [
        "import numpy as np\n",
        "from functools import reduce\n",
        "import re, string\n"
      ],
      "execution_count": 9,
      "outputs": []
    },
    {
      "source": [
        "# Exercise 1"
      ],
      "cell_type": "markdown",
      "metadata": {}
    },
    {
      "cell_type": "code",
      "metadata": {
        "id": "Ht9Mw5HBFLeL",
        "outputId": "53f299f2-e658-4d08-94f6-94c59554c947",
        "colab": {
          "base_uri": "https://localhost:8080/"
        }
      },
      "source": [
        "\n",
        "# Generating Fibonacci\n",
        "prod = np.zeros(2)\n",
        "init = np.array([0, 1])\n",
        "mat = np.array([[1, 1], [1,0]])\n",
        "fib_numbers = [0]\n",
        "while prod[0] <= 10000:\n",
        "  prod = np.dot(mat, init)\n",
        "  init = prod\n",
        "  if prod[0] <= 10000:\n",
        "    fib_numbers.append(prod[0])\n",
        "\n"
      ],
      "execution_count": 4,
      "outputs": []
    },
    {
      "cell_type": "code",
      "execution_count": 5,
      "metadata": {},
      "outputs": [
        {
          "output_type": "stream",
          "name": "stdout",
          "text": [
            "True\nFalse\n"
          ]
        }
      ],
      "source": [
        "# Exercise 1 \n",
        "def is_fib(n): return np.where(len(list(filter(lambda x: x in fib_numbers, [n]))) > 0, True, False).reshape(-1)[0]\n",
        "print(is_fib(55))\n",
        "print(is_fib(100))"
      ]
    },
    {
      "source": [
        "# Exercise 2"
      ],
      "cell_type": "markdown",
      "metadata": {}
    },
    {
      "cell_type": "code",
      "metadata": {
        "id": "1PAeVajkFMGu"
      },
      "source": [
        "# 1\n",
        "def add_iterables(): \n",
        "  x = np.arange(10)\n",
        "  return [i+j for i,j in zip([i for i in x if i%2==0],[i for i in x if i%2!=0])]\n",
        "# 2\n",
        "def strip_vowel(x): return ''.join([i for i in x if i not in ['a','e','i','o','u']])\n",
        "\n",
        "#3 \n",
        "def relu(x): return [i if i > 0 else 0 for i in x]\n",
        "\n",
        "#4 \n",
        "def sigmoid(x): return [1. / (1 + np.exp(-x)) for x in x]\n",
        "\n",
        "#5 \n",
        "def shift(string): return [chr(ord(x) + 5) if ord(x) <= 118 else chr(ord(x) - 21) for x in string]"
      ],
      "execution_count": 15,
      "outputs": []
    },
    {
      "source": [
        "# Exercise 3"
      ],
      "cell_type": "markdown",
      "metadata": {}
    },
    {
      "cell_type": "code",
      "metadata": {
        "id": "EhcQE5Y4NzdI",
        "outputId": "7f444619-b8da-45c0-9a36-5c8560ba21c3",
        "colab": {
          "base_uri": "https://localhost:8080/",
          "height": 53
        }
      },
      "source": [
        "\n",
        "raw_text = 'This is not a fucking song. This is not a cunt song. This is not a motherfucker song. This is not a bellend song. This is not an ass song. This is not a dick song. This is not a dickhead song. This is not an anus song.'\n",
        "regex = re.compile('[%s]' % re.escape(string.punctuation))\n",
        "\n",
        "file='swear_words.txt'\n",
        "with open(file, 'r') as f:\n",
        "  text = f.readlines()\n",
        "swear_words = list(map(lambda x: x[:-1].strip(), text))\n",
        "\n",
        "# Exercise 3\n",
        "def clean_raw_text(text):\n",
        "  return ' '.join([t for t in raw_text.split(' ') if regex.sub('',t).lower() not in swear_words ])\n",
        "def contains(text):\n",
        "  return [(i, t) for i, t in enumerate(raw_text.split(' ')) if regex.sub('', t) in swear_words]\n",
        "\n",
        "clean_raw_text(raw_text)"
      ],
      "execution_count": 22,
      "outputs": [
        {
          "output_type": "execute_result",
          "data": {
            "application/vnd.google.colaboratory.intrinsic+json": {
              "type": "string"
            },
            "text/plain": [
              "'This is not a song. This is not a song. This is not a song. This is not a song. This is not an song. This is not a song. This is not a song. This is not an song.'"
            ]
          },
          "metadata": {
            "tags": []
          },
          "execution_count": 22
        }
      ]
    },
    {
      "source": [
        "# Exercise 4"
      ],
      "cell_type": "markdown",
      "metadata": {
        "id": "kYKdxfrBfo84"
      }
    },
    {
      "cell_type": "code",
      "metadata": {
        "id": "952gvCp3qCty"
      },
      "source": [
        "lst = np.arange(10)\n",
        "# 1\n",
        "sum_even = reduce(lambda x, y: x+y, list(filter(lambda x: x%2==0, lst)))\n",
        "\n",
        "#2 \n",
        "biggest_char = reduce(lambda x,y: x if x>y else y, 'ziggurat')\n",
        "\n",
        "#3 \n",
        "sum_third = reduce(lambda x, y: x + y, lst[::3])\n"
      ],
      "execution_count": null,
      "outputs": []
    },
    {
      "source": [
        "# Exercise 5"
      ],
      "cell_type": "markdown",
      "metadata": {
        "id": "5PuH8ItKj5RC"
      }
    },
    {
      "cell_type": "code",
      "metadata": {
        "id": "U-OyTeg_5rDd",
        "outputId": "1886d7e5-3468-47b5-d7da-96d306c7694e",
        "colab": {
          "base_uri": "https://localhost:8080/"
        }
      },
      "source": [
        "# Exercise 5\n",
        "\n",
        "def expr1():\n",
        "  return [''.join(['KA',str(np.random.randint(low=10, high=99)),''.join(np.random.choice(list(string.ascii_uppercase), 2)) ,str(np.random.randint(low=1000, high=9999))]) for _ in range(15)]\n",
        "\n",
        "\n",
        "\n",
        "print(expr1())\n",
        "\n"
      ],
      "execution_count": 10,
      "outputs": [
        {
          "output_type": "stream",
          "name": "stdout",
          "text": [
            "['KA88XU8132', 'KA94WT7418', 'KA44KS9940', 'KA10KW5171', 'KA17GH1987', 'KA40WR9602', 'KA80QT9290', 'KA57NA8809', 'KA72PU2929', 'KA91EH2708', 'KA39WX6011', 'KA54YI1091', 'KA12CN7950', 'KA59LJ1812', 'KA84OL3168']\n"
          ]
        }
      ]
    },
    {
      "source": [
        "# Exercise 6"
      ],
      "cell_type": "markdown",
      "metadata": {
        "id": "TZuaZOh887eq"
      }
    },
    {
      "cell_type": "code",
      "metadata": {
        "id": "kJIDruwh9EOC"
      },
      "source": [
        "def expr2(prefix='KA',lower=1000,upper=9999):\n",
        "  if lower > upper:\n",
        "    raise ValueError('lower should be less than upper')\n",
        "  return [''.join([prefix,str(np.random.randint(low=10, high=99)),''.join(np.random.choice(list(string.ascii_uppercase), 2)) ,str(np.random.randint(low=lower, high=upper))]) for _ in range(15)]\n",
        "\n",
        "print(expr2())\n",
        "print(expr2(prefix='DL', lower=5000, upper=9999))"
      ],
      "execution_count": 11,
      "outputs": [
        {
          "output_type": "stream",
          "name": "stdout",
          "text": [
            "['KA42EZ4266', 'KA30AU1190', 'KA96KW1674', 'KA79FO3246', 'KA80XD1983', 'KA79BX8979', 'KA28OD5396', 'KA58QK4816', 'KA87CB8230', 'KA97MU6443', 'KA28UD7477', 'KA23AY8020', 'KA68RZ2951', 'KA85NY9289', 'KA96LS6405']\n['DL69AD7694', 'DL71FH8871', 'DL95MS8071', 'DL35IG5103', 'DL70XQ7899', 'DL43IZ8902', 'DL60XR9068', 'DL15IT7397', 'DL87SS8060', 'DL12KR5575', 'DL68CH7642', 'DL23WV9131', 'DL73YT8664', 'DL43SD9252', 'DL58UK9042']\n"
          ]
        }
      ]
    }
  ]
}