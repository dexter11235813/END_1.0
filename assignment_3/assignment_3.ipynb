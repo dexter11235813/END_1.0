{
  "nbformat": 4,
  "nbformat_minor": 0,
  "metadata": {
    "colab": {
      "name": "assignment3.ipynb",
      "provenance": [],
      "collapsed_sections": [],
      "toc_visible": true,
      "authorship_tag": "ABX9TyM9htxfr6yodnH+Lzt/fvvu",
      "include_colab_link": true
    },
    "kernelspec": {
      "name": "python3",
      "display_name": "Python 3"
    }
  },
  "cells": [
    {
      "cell_type": "markdown",
      "metadata": {
        "id": "view-in-github",
        "colab_type": "text"
      },
      "source": [
        "<a href=\"https://colab.research.google.com/github/dexter11235813/END_1.0/blob/main/assignment_3/assignment_3.ipynb\" target=\"_parent\"><img src=\"https://colab.research.google.com/assets/colab-badge.svg\" alt=\"Open In Colab\"/></a>"
      ]
    },
    {
      "cell_type": "code",
      "metadata": {
        "id": "q7KZgVdFCw93"
      },
      "source": [
        "import numpy as np\n",
        "from functools import reduce"
      ],
      "execution_count": null,
      "outputs": []
    },
    {
      "cell_type": "code",
      "metadata": {
        "id": "Ht9Mw5HBFLeL",
        "outputId": "53f299f2-e658-4d08-94f6-94c59554c947",
        "colab": {
          "base_uri": "https://localhost:8080/"
        }
      },
      "source": [
        "\n",
        "# Generating Fibonacci init = np.array([0, 1])\n",
        "prod = np.zeros(2)\n",
        "init = np.array([0, 1])\n",
        "mat = np.array([[1, 1], [1,0]])\n",
        "fib_numbers = [0]\n",
        "while prod[0] <= 10000:\n",
        "  prod = np.dot(mat, init)\n",
        "  init = prod\n",
        "  if prod[0] <= 10000:\n",
        "    fib_numbers.append(prod[0])\n",
        "\n",
        "# Exercise 1 \n",
        "def is_fib(n): return np.where(len(list(filter(lambda x: x in fib_numbers, [n]))) > 0, True, False).reshape(-1)[0]\n",
        "print(is_fib(55))\n",
        "print(is_fib(100))"
      ],
      "execution_count": null,
      "outputs": [
        {
          "output_type": "stream",
          "text": [
            "True\n",
            "False\n"
          ],
          "name": "stdout"
        }
      ]
    },
    {
      "cell_type": "code",
      "metadata": {
        "id": "1PAeVajkFMGu"
      },
      "source": [
        "# Excercise 2\n",
        "# 1\n",
        "def add_iterables(): \n",
        "  x = np.arange(10)\n",
        "  return [i+j for i,j in zip([i for i in x if i%2==0],[i for i in x if i%2!=0])]\n",
        "# 2\n",
        "def strip_vowel(x): return [i for i in x if i not in ['a','e','i','o','u']]\n",
        "\n",
        "#3 \n",
        "def relu(x): return [i if i > 0 else 0 for i in x]\n",
        "\n",
        "#4 \n",
        "def sigmoid(x): return [1. / (1 + np.exp(-x)) for x in x]\n",
        "\n",
        "#5 \n",
        "def shift(string): return [chr(ord(x) + 5) if ord(x) <= 118 else chr(ord(x) - 21) for x in string]"
      ],
      "execution_count": null,
      "outputs": []
    },
    {
      "cell_type": "code",
      "metadata": {
        "id": "EhcQE5Y4NzdI",
        "outputId": "7f444619-b8da-45c0-9a36-5c8560ba21c3",
        "colab": {
          "base_uri": "https://localhost:8080/",
          "height": 53
        }
      },
      "source": [
        "import re, string\n",
        "\n",
        "raw_text = 'This is not a fucking song. This is not a cunt song. This is not a motherfucker song. This is not a bellend song. This is not an ass song. This is not a dick song. This is not a dickhead song. This is not an anus song.'\n",
        "regex = re.compile('[%s]' % re.escape(string.punctuation))\n",
        "\n",
        "# Exercise 3\n",
        "file='swear_words.txt'\n",
        "with open(file, 'r') as f:\n",
        "  text = f.readlines()\n",
        "swear_words = list(map(lambda x: x[:-1].strip(), text))\n",
        "\n",
        "def clean_raw_text(text):\n",
        "  return ' '.join([t for t in raw_text.split(' ') if regex.sub('',t).lower() not in swear_words ])\n",
        "def contains(text):\n",
        "  return [(i, t) for i, t in enumerate(raw_text.split(' ')) if regex.sub('', t) in swear_words]\n",
        "\n",
        "clean_raw_text(raw_text)"
      ],
      "execution_count": 22,
      "outputs": [
        {
          "output_type": "execute_result",
          "data": {
            "application/vnd.google.colaboratory.intrinsic+json": {
              "type": "string"
            },
            "text/plain": [
              "'This is not a song. This is not a song. This is not a song. This is not a song. This is not an song. This is not a song. This is not a song. This is not an song.'"
            ]
          },
          "metadata": {
            "tags": []
          },
          "execution_count": 22
        }
      ]
    },
    {
      "cell_type": "code",
      "metadata": {
        "id": "QZPg2ZwYnmFH"
      },
      "source": [
        "\n"
      ],
      "execution_count": 21,
      "outputs": []
    },
    {
      "cell_type": "code",
      "metadata": {
        "id": "kYKdxfrBfo84"
      },
      "source": [
        ""
      ],
      "execution_count": null,
      "outputs": []
    },
    {
      "cell_type": "code",
      "metadata": {
        "id": "952gvCp3qCty"
      },
      "source": [
        "# Exercise 4\n",
        "lst = np.arange(10)\n",
        "# 1\n",
        "sum_even = reduce(lambda x, y: x+y, list(filter(lambda x: x%2==0, lst)))\n",
        "\n",
        "#2 \n",
        "biggest_char = reduce(lambda x,y: x if x>y else y, 'ziggurat')\n",
        "\n",
        "#3 \n",
        "sum_third = reduce(lambda x, y: x + y, lst[::3])\n"
      ],
      "execution_count": null,
      "outputs": []
    },
    {
      "cell_type": "code",
      "metadata": {
        "id": "5PuH8ItKj5RC"
      },
      "source": [
        ""
      ],
      "execution_count": null,
      "outputs": []
    },
    {
      "cell_type": "code",
      "metadata": {
        "id": "U-OyTeg_5rDd",
        "outputId": "1886d7e5-3468-47b5-d7da-96d306c7694e",
        "colab": {
          "base_uri": "https://localhost:8080/"
        }
      },
      "source": [
        "# Exercise 5\n",
        "\n",
        "def expr1():\n",
        "  return [''.join(['KA',str(np.random.randint(low=10, high=99)),''.join(np.random.choice(list(string.ascii_uppercase), 2)) ,str(np.random.randint(low=1000, high=9999))]) for _ in range(15)]\n",
        "\n",
        "# Exercise 6\n",
        "def expr2(prefix='KA',lower=1000,upper=9999):\n",
        "  if lower > upper:\n",
        "    raise ValueError('lower should be less than upper')\n",
        "  return [''.join([prefix,str(np.random.randint(low=10, high=99)),''.join(np.random.choice(list(string.ascii_uppercase), 2)) ,str(np.random.randint(low=lower, high=upper))]) for _ in range(15)]\n",
        "\n",
        "\n",
        "print(expr1())\n",
        "print(expr2())\n",
        "print(expr2(prefix='DL', lower=5000, upper=9999))\n"
      ],
      "execution_count": 24,
      "outputs": [
        {
          "output_type": "stream",
          "text": [
            "['KA69OQ6679', 'KA74MZ6218', 'KA48QW5114', 'KA27SU3514', 'KA75CT7517', 'KA36CJ4399', 'KA20KD4263', 'KA94BX8921', 'KA77MA6795', 'KA65IA4739', 'KA19FF9168', 'KA52YT4406', 'KA92SO6562', 'KA45IC2075', 'KA33IO6958']\n",
            "['KA63QC1466', 'KA84UH6519', 'KA66GK2399', 'KA24ZM1867', 'KA52GD2689', 'KA16CQ5481', 'KA72ZF3718', 'KA70ZM6960', 'KA62HF1839', 'KA20VA7260', 'KA23CD5332', 'KA17BG6771', 'KA13OA6302', 'KA85YE5739', 'KA49BS8103']\n",
            "['DL42BU6252', 'DL39DK6727', 'DL96JB5668', 'DL88TJ6683', 'DL39NE6074', 'DL82RP6763', 'DL97NE5435', 'DL26XL8413', 'DL58QL8079', 'DL66FD5782', 'DL96DS7018', 'DL50DF5561', 'DL92UE8985', 'DL53RX5929', 'DL16DX5083']\n"
          ],
          "name": "stdout"
        }
      ]
    },
    {
      "cell_type": "code",
      "metadata": {
        "id": "TZuaZOh887eq"
      },
      "source": [
        ""
      ],
      "execution_count": 22,
      "outputs": []
    },
    {
      "cell_type": "code",
      "metadata": {
        "id": "kJIDruwh9EOC"
      },
      "source": [
        ""
      ],
      "execution_count": 22,
      "outputs": []
    }
  ]
}