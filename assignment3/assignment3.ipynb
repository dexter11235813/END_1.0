{
  "nbformat": 4,
  "nbformat_minor": 0,
  "metadata": {
    "colab": {
      "name": "assignment3.ipynb",
      "provenance": [],
      "collapsed_sections": [],
      "toc_visible": true,
      "authorship_tag": "ABX9TyNlF46/odOtDWxqTOSDRp9N",
      "include_colab_link": true
    },
    "kernelspec": {
      "name": "python3",
      "display_name": "Python 3"
    }
  },
  "cells": [
    {
      "cell_type": "markdown",
      "metadata": {
        "id": "view-in-github",
        "colab_type": "text"
      },
      "source": [
        "<a href=\"https://colab.research.google.com/github/dexter11235813/END_1.0/blob/main/assignment3/assignment3.ipynb\" target=\"_parent\"><img src=\"https://colab.research.google.com/assets/colab-badge.svg\" alt=\"Open In Colab\"/></a>"
      ]
    },
    {
      "cell_type": "code",
      "metadata": {
        "id": "q7KZgVdFCw93"
      },
      "source": [
        "import numpy as np\n",
        "from functools import reduce"
      ],
      "execution_count": null,
      "outputs": []
    },
    {
      "cell_type": "code",
      "metadata": {
        "id": "Ht9Mw5HBFLeL",
        "outputId": "53f299f2-e658-4d08-94f6-94c59554c947",
        "colab": {
          "base_uri": "https://localhost:8080/"
        }
      },
      "source": [
        "\n",
        "# Generating Fibonacci init = np.array([0, 1])\n",
        "prod = np.zeros(2)\n",
        "init = np.array([0, 1])\n",
        "mat = np.array([[1, 1], [1,0]])\n",
        "fib_numbers = [0]\n",
        "while prod[0] <= 10000:\n",
        "  prod = np.dot(mat, init)\n",
        "  init = prod\n",
        "  if prod[0] <= 10000:\n",
        "    fib_numbers.append(prod[0])\n",
        "\n",
        "# Exercise 1 \n",
        "def is_fib(n): return np.where(len(list(filter(lambda x: x in fib_numbers, [n]))) > 0, True, False).reshape(-1)[0]\n",
        "print(is_fib(55))\n",
        "print(is_fib(100))"
      ],
      "execution_count": null,
      "outputs": [
        {
          "output_type": "stream",
          "text": [
            "True\n",
            "False\n"
          ],
          "name": "stdout"
        }
      ]
    },
    {
      "cell_type": "code",
      "metadata": {
        "id": "1PAeVajkFMGu"
      },
      "source": [
        "# Excercise 2\n",
        "# 1\n",
        "def add_iterables(): \n",
        "  x = np.arange(10)\n",
        "  return [i+j for i,j in zip([i for i in x if i%2==0],[i for i in x if i%2!=0])]\n",
        "# 2\n",
        "def strip_vowel(x): return [i for i in x if i not in ['a','e','i','o','u']]\n",
        "\n",
        "#3 \n",
        "def relu(x): return [i if i > 0 else 0 for i in x]\n",
        "\n",
        "#4 \n",
        "def sigmoid(x): return [1. / (1 + np.exp(-x)) for x in x]\n",
        "\n",
        "#5 \n",
        "def shift(string): return [chr(ord(x) + 5) if ord(x) <= 118 else chr(ord(x) - 21) for x in string]"
      ],
      "execution_count": null,
      "outputs": []
    },
    {
      "cell_type": "code",
      "metadata": {
        "id": "EhcQE5Y4NzdI"
      },
      "source": [
        "import re, string\n",
        "\n",
        "raw_text = \"This is my impression, of what it would be like, to look at Anurag Kashyap's creative flow : it goes like ... bollock shit cunt: alec, motherfucker cock\"\n",
        "regex = re.compile('[%s]' % re.escape(string.punctuation))\n",
        "\n",
        "# Exercise 3\n",
        "file='swear_words.txt'\n",
        "with open(file, 'r') as f:\n",
        "  text = f.readlines()\n",
        "swear_words = list(map(lambda x: x[:-1].strip(), text))\n",
        "\n",
        "def clean_raw_text(text):\n",
        "  return ' '.join([t for t in raw_text.split(' ') if regex.sub('',t).lower() not in swear_words ])\n",
        "def contains(text):\n",
        "  return [(i, t) for i, t in enumerate(raw_text.split(' ')) if regex.sub('', t) in swear_words]"
      ],
      "execution_count": null,
      "outputs": []
    },
    {
      "cell_type": "code",
      "metadata": {
        "id": "QZPg2ZwYnmFH",
        "outputId": "be9666d9-43fe-4d4d-a95e-e66000a8df6d",
        "colab": {
          "base_uri": "https://localhost:8080/",
          "height": 35
        }
      },
      "source": [
        "\n",
        "clean_raw_text(raw_text)"
      ],
      "execution_count": null,
      "outputs": [
        {
          "output_type": "execute_result",
          "data": {
            "application/vnd.google.colaboratory.intrinsic+json": {
              "type": "string"
            },
            "text/plain": [
              "\"This is my impression, of what it would be like, to look at Anurag Kashyap's creative flow : it goes like ... alec,\""
            ]
          },
          "metadata": {
            "tags": []
          },
          "execution_count": 7
        }
      ]
    },
    {
      "cell_type": "code",
      "metadata": {
        "id": "kYKdxfrBfo84"
      },
      "source": [
        ""
      ],
      "execution_count": null,
      "outputs": []
    },
    {
      "cell_type": "code",
      "metadata": {
        "id": "952gvCp3qCty"
      },
      "source": [
        "# Exercise 4\n",
        "lst = np.arange(10)\n",
        "# 1\n",
        "sum_even = reduce(lambda x, y: x+y, list(filter(lambda x: x%2==0, lst)))\n",
        "\n",
        "#2 \n",
        "biggest_char = reduce(lambda x,y: x if x>y else y, 'ziggurat')\n",
        "\n",
        "#3 \n",
        "sum_third = reduce(lambda x, y: x + y, lst[::3])\n"
      ],
      "execution_count": null,
      "outputs": []
    },
    {
      "cell_type": "code",
      "metadata": {
        "id": "5PuH8ItKj5RC"
      },
      "source": [
        ""
      ],
      "execution_count": null,
      "outputs": []
    },
    {
      "cell_type": "code",
      "metadata": {
        "id": "U-OyTeg_5rDd"
      },
      "source": [
        "# Exercise 5\n",
        "\n",
        "def expr1():\n",
        "  return [''.join(['KA',str(np.random.randint(low=10, high=99)),''.join(np.random.choice(list(string.ascii_uppercase), 2)) ,str(np.random.randint(low=1000, high=9999))]) for _ in range(15)]\n",
        "\n",
        "# Exercise 6\n",
        "def expr2(prefix='KA',lower=1000,upper=9999):\n",
        "  if lower > upper:\n",
        "    raise ValueError('lower should be less than upper')\n",
        "  return [''.join([prefix,str(np.random.randint(low=10, high=99)),''.join(np.random.choice(list(string.ascii_uppercase), 2)) ,str(np.random.randint(low=lower, high=upper))]) for _ in range(15)]\n"
      ],
      "execution_count": null,
      "outputs": []
    },
    {
      "cell_type": "code",
      "metadata": {
        "id": "TZuaZOh887eq",
        "outputId": "7def7f1d-4e3b-4ca7-d148-d0718805efae",
        "colab": {
          "base_uri": "https://localhost:8080/"
        }
      },
      "source": [
        "expr2(prefix='DL')"
      ],
      "execution_count": null,
      "outputs": [
        {
          "output_type": "execute_result",
          "data": {
            "text/plain": [
              "['DL22ZX7882',\n",
              " 'DL58LQ4857',\n",
              " 'DL81PW2478',\n",
              " 'DL51HZ2785',\n",
              " 'DL82GE4422',\n",
              " 'DL46RS9504',\n",
              " 'DL52ZE4704',\n",
              " 'DL44JP9909',\n",
              " 'DL56BU6647',\n",
              " 'DL75TA1359',\n",
              " 'DL89EQ4801',\n",
              " 'DL96SM2174',\n",
              " 'DL32JL5138',\n",
              " 'DL55VN7596',\n",
              " 'DL54KA4501']"
            ]
          },
          "metadata": {
            "tags": []
          },
          "execution_count": 61
        }
      ]
    },
    {
      "cell_type": "code",
      "metadata": {
        "id": "kJIDruwh9EOC"
      },
      "source": [
        ""
      ],
      "execution_count": null,
      "outputs": []
    }
  ]
}