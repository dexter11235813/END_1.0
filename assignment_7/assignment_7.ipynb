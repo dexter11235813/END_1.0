{
  "nbformat": 4,
  "nbformat_minor": 0,
  "metadata": {
    "colab": {
      "name": "Copy of Sentiment Analysis using LSTM RNN.ipynb",
      "provenance": [],
      "collapsed_sections": [],
      "include_colab_link": true
    },
    "kernelspec": {
      "name": "python3",
      "display_name": "Python 3"
    },
    "accelerator": "GPU"
  },
  "cells": [
    {
      "cell_type": "markdown",
      "metadata": {
        "id": "view-in-github",
        "colab_type": "text"
      },
      "source": [
        "<a href=\"https://colab.research.google.com/github/dexter11235813/END_1.0/blob/main/assignment_7/assignment_7.ipynb\" target=\"_parent\"><img src=\"https://colab.research.google.com/assets/colab-badge.svg\" alt=\"Open In Colab\"/></a>"
      ]
    },
    {
      "cell_type": "markdown",
      "metadata": {
        "id": "GYiRsFGD6iUC"
      },
      "source": [
        "# 0 TorchText"
      ]
    },
    {
      "cell_type": "code",
      "metadata": {
        "colab": {
          "base_uri": "https://localhost:8080/"
        },
        "id": "zWIOADP9gKhY",
        "outputId": "299ba8e0-3254-4a0e-ac4c-d798c46adff8"
      },
      "source": [
        "!nvidia-smi"
      ],
      "execution_count": 1,
      "outputs": [
        {
          "output_type": "stream",
          "text": [
            "Thu Dec 10 22:44:53 2020       \n",
            "+-----------------------------------------------------------------------------+\n",
            "| NVIDIA-SMI 455.45.01    Driver Version: 418.67       CUDA Version: 10.1     |\n",
            "|-------------------------------+----------------------+----------------------+\n",
            "| GPU  Name        Persistence-M| Bus-Id        Disp.A | Volatile Uncorr. ECC |\n",
            "| Fan  Temp  Perf  Pwr:Usage/Cap|         Memory-Usage | GPU-Util  Compute M. |\n",
            "|                               |                      |               MIG M. |\n",
            "|===============================+======================+======================|\n",
            "|   0  Tesla T4            Off  | 00000000:00:04.0 Off |                    0 |\n",
            "| N/A   63C    P8    11W /  70W |      0MiB / 15079MiB |      0%      Default |\n",
            "|                               |                      |                 ERR! |\n",
            "+-------------------------------+----------------------+----------------------+\n",
            "                                                                               \n",
            "+-----------------------------------------------------------------------------+\n",
            "| Processes:                                                                  |\n",
            "|  GPU   GI   CI        PID   Type   Process name                  GPU Memory |\n",
            "|        ID   ID                                                   Usage      |\n",
            "|=============================================================================|\n",
            "|  No running processes found                                                 |\n",
            "+-----------------------------------------------------------------------------+\n"
          ],
          "name": "stdout"
        }
      ]
    },
    {
      "cell_type": "code",
      "metadata": {
        "id": "eI9fQjoLB0CR",
        "colab": {
          "base_uri": "https://localhost:8080/"
        },
        "outputId": "77a7793a-86b3-48ed-dba5-381bf2070a3e"
      },
      "source": [
        "!pip install pytreebank googletrans==3.1.0a0"
      ],
      "execution_count": 2,
      "outputs": [
        {
          "output_type": "stream",
          "text": [
            "Collecting pytreebank\n",
            "  Downloading https://files.pythonhosted.org/packages/e0/12/626ead6f6c0a0a9617396796b965961e9dfa5e78b36c17a81ea4c43554b1/pytreebank-0.2.7.tar.gz\n",
            "Collecting googletrans==3.1.0a0\n",
            "  Downloading https://files.pythonhosted.org/packages/19/3d/4e3a1609bf52f2f7b00436cc751eb977e27040665dde2bd57e7152989672/googletrans-3.1.0a0.tar.gz\n",
            "Collecting httpx==0.13.3\n",
            "\u001b[?25l  Downloading https://files.pythonhosted.org/packages/54/b4/698b284c6aed4d7c2b4fe3ba5df1fcf6093612423797e76fbb24890dd22f/httpx-0.13.3-py3-none-any.whl (55kB)\n",
            "\u001b[K     |████████████████████████████████| 61kB 8.6MB/s \n",
            "\u001b[?25hCollecting hstspreload\n",
            "\u001b[?25l  Downloading https://files.pythonhosted.org/packages/d3/3c/cdeaf9ab0404853e77c45d9e8021d0d2c01f70a1bb26e460090926fe2a5e/hstspreload-2020.11.21-py3-none-any.whl (981kB)\n",
            "\u001b[K     |████████████████████████████████| 983kB 12.5MB/s \n",
            "\u001b[?25hCollecting rfc3986<2,>=1.3\n",
            "  Downloading https://files.pythonhosted.org/packages/78/be/7b8b99fd74ff5684225f50dd0e865393d2265656ef3b4ba9eaaaffe622b8/rfc3986-1.4.0-py2.py3-none-any.whl\n",
            "Requirement already satisfied: chardet==3.* in /usr/local/lib/python3.6/dist-packages (from httpx==0.13.3->googletrans==3.1.0a0) (3.0.4)\n",
            "Requirement already satisfied: idna==2.* in /usr/local/lib/python3.6/dist-packages (from httpx==0.13.3->googletrans==3.1.0a0) (2.10)\n",
            "Collecting sniffio\n",
            "  Downloading https://files.pythonhosted.org/packages/52/b0/7b2e028b63d092804b6794595871f936aafa5e9322dcaaad50ebf67445b3/sniffio-1.2.0-py3-none-any.whl\n",
            "Requirement already satisfied: certifi in /usr/local/lib/python3.6/dist-packages (from httpx==0.13.3->googletrans==3.1.0a0) (2020.12.5)\n",
            "Collecting httpcore==0.9.*\n",
            "\u001b[?25l  Downloading https://files.pythonhosted.org/packages/dd/d5/e4ff9318693ac6101a2095e580908b591838c6f33df8d3ee8dd953ba96a8/httpcore-0.9.1-py3-none-any.whl (42kB)\n",
            "\u001b[K     |████████████████████████████████| 51kB 9.7MB/s \n",
            "\u001b[?25hCollecting contextvars>=2.1; python_version < \"3.7\"\n",
            "  Downloading https://files.pythonhosted.org/packages/83/96/55b82d9f13763be9d672622e1b8106c85acb83edd7cc2fa5bc67cd9877e9/contextvars-2.4.tar.gz\n",
            "Collecting h11<0.10,>=0.8\n",
            "\u001b[?25l  Downloading https://files.pythonhosted.org/packages/5a/fd/3dad730b0f95e78aeeb742f96fa7bbecbdd56a58e405d3da440d5bfb90c6/h11-0.9.0-py2.py3-none-any.whl (53kB)\n",
            "\u001b[K     |████████████████████████████████| 61kB 11.7MB/s \n",
            "\u001b[?25hCollecting h2==3.*\n",
            "\u001b[?25l  Downloading https://files.pythonhosted.org/packages/25/de/da019bcc539eeab02f6d45836f23858ac467f584bfec7a526ef200242afe/h2-3.2.0-py2.py3-none-any.whl (65kB)\n",
            "\u001b[K     |████████████████████████████████| 71kB 12.4MB/s \n",
            "\u001b[?25hCollecting immutables>=0.9\n",
            "\u001b[?25l  Downloading https://files.pythonhosted.org/packages/99/e0/ea6fd4697120327d26773b5a84853f897a68e33d3f9376b00a8ff96e4f63/immutables-0.14-cp36-cp36m-manylinux1_x86_64.whl (98kB)\n",
            "\u001b[K     |████████████████████████████████| 102kB 15.2MB/s \n",
            "\u001b[?25hCollecting hyperframe<6,>=5.2.0\n",
            "  Downloading https://files.pythonhosted.org/packages/19/0c/bf88182bcb5dce3094e2f3e4fe20db28a9928cb7bd5b08024030e4b140db/hyperframe-5.2.0-py2.py3-none-any.whl\n",
            "Collecting hpack<4,>=3.0\n",
            "  Downloading https://files.pythonhosted.org/packages/8a/cc/e53517f4a1e13f74776ca93271caef378dadec14d71c61c949d759d3db69/hpack-3.0.0-py2.py3-none-any.whl\n",
            "Building wheels for collected packages: pytreebank, googletrans, contextvars\n",
            "  Building wheel for pytreebank (setup.py) ... \u001b[?25l\u001b[?25hdone\n",
            "  Created wheel for pytreebank: filename=pytreebank-0.2.7-cp36-none-any.whl size=37072 sha256=a63c7fc55fee7a84dd6e1f4f89896e11d86e16f537c78f92a22489d1429e0419\n",
            "  Stored in directory: /root/.cache/pip/wheels/e0/b6/91/e9edcdbf464f623628d5c3aa9de28888c726e270b9a29f2368\n",
            "  Building wheel for googletrans (setup.py) ... \u001b[?25l\u001b[?25hdone\n",
            "  Created wheel for googletrans: filename=googletrans-3.1.0a0-cp36-none-any.whl size=16369 sha256=38f54ef3e0a1308f1d29fa21da8aa40b55f5e6ba1b3879a069ece4f0daf9e384\n",
            "  Stored in directory: /root/.cache/pip/wheels/27/7a/a0/aff3babbb775549ce6813cb8fa7ff3c0848c4dc62c20f8fdac\n",
            "  Building wheel for contextvars (setup.py) ... \u001b[?25l\u001b[?25hdone\n",
            "  Created wheel for contextvars: filename=contextvars-2.4-cp36-none-any.whl size=7666 sha256=91591535dcb7b8364d54f21e195834788a1c4bfa0e86a64d8c79d2b91d75bab4\n",
            "  Stored in directory: /root/.cache/pip/wheels/a5/7d/68/1ebae2668bda2228686e3c1cf16f2c2384cea6e9334ad5f6de\n",
            "Successfully built pytreebank googletrans contextvars\n",
            "Installing collected packages: pytreebank, hstspreload, rfc3986, immutables, contextvars, sniffio, h11, hyperframe, hpack, h2, httpcore, httpx, googletrans\n",
            "Successfully installed contextvars-2.4 googletrans-3.1.0a0 h11-0.9.0 h2-3.2.0 hpack-3.0.0 hstspreload-2020.11.21 httpcore-0.9.1 httpx-0.13.3 hyperframe-5.2.0 immutables-0.14 pytreebank-0.2.7 rfc3986-1.4.0 sniffio-1.2.0\n"
          ],
          "name": "stdout"
        }
      ]
    },
    {
      "cell_type": "code",
      "metadata": {
        "id": "ipegPn04Fh53",
        "colab": {
          "base_uri": "https://localhost:8080/"
        },
        "outputId": "43ac462f-bb5f-4509-b4dc-7c23aaba6702"
      },
      "source": [
        "!mkdir sentimentData\r\n",
        "!mv *.* sentimentData"
      ],
      "execution_count": 3,
      "outputs": [
        {
          "output_type": "stream",
          "text": [
            "mv: cannot stat '*.*': No such file or directory\n"
          ],
          "name": "stdout"
        }
      ]
    },
    {
      "cell_type": "code",
      "metadata": {
        "id": "W4Gh2P4GFZFw"
      },
      "source": [
        "import pytreebank\r\n",
        "dataset = pytreebank.load_sst(\"/content/sentimentData\")"
      ],
      "execution_count": 4,
      "outputs": []
    },
    {
      "cell_type": "code",
      "metadata": {
        "id": "AXeBjh4B9qjr"
      },
      "source": [
        "for category in [\"train\", \"test\", \"dev\"]:\r\n",
        "    with open(\"sst_{}.txt\".format(category), \"w\") as outfile:\r\n",
        "        for item in dataset[category]:\r\n",
        "            outfile.write(\r\n",
        "                \"{}\\t{}\\n\".format(\r\n",
        "                    item.to_labeled_lines()[0][0] + 1, item.to_labeled_lines()[0][1]\r\n",
        "                )\r\n",
        "            )"
      ],
      "execution_count": 5,
      "outputs": []
    },
    {
      "cell_type": "code",
      "metadata": {
        "colab": {
          "base_uri": "https://localhost:8080/"
        },
        "id": "abBIKS3vAQNz",
        "outputId": "839ccd4c-694d-471b-d1d5-ff4042015d2e"
      },
      "source": [
        "!wc -l sst_test.txt\r\n",
        "!wc -l sst_train.txt"
      ],
      "execution_count": 6,
      "outputs": [
        {
          "output_type": "stream",
          "text": [
            "2210 sst_test.txt\n",
            "8544 sst_train.txt\n"
          ],
          "name": "stdout"
        }
      ]
    },
    {
      "cell_type": "markdown",
      "metadata": {
        "id": "tp5IzBGsPGHs"
      },
      "source": [
        "## Dataset Preview and Augmentation\n",
        "\n",
        "Your first step to deep learning in NLP. We will be mostly using PyTorch. Just like torchvision, PyTorch provides an official library, torchtext, for handling text-processing pipelines. \n",
        "\n",
        "We will be using previous session tweet dataset. Let's just preview the dataset."
      ]
    },
    {
      "cell_type": "code",
      "metadata": {
        "id": "o1-Yz-5RRFYc"
      },
      "source": [
        "import pandas as pd\n",
        "train_df = pd.read_csv('sst_train.txt', sep='\\t', names=['label', 'review'], converters = {1:str} )\n",
        "test_df = pd.read_csv('sst_test.txt', sep='\\t', names=['label', 'review'], converters = {1:str} )"
      ],
      "execution_count": 77,
      "outputs": []
    },
    {
      "cell_type": "code",
      "metadata": {
        "id": "tjqBm7rogQqg"
      },
      "source": [
        "import random\r\n",
        "import googletrans\r\n",
        "from  googletrans import Translator\r\n",
        "\r\n",
        "# Back translate a sentence back to english\r\n",
        "def back_translate(sentence):\r\n",
        "\r\n",
        "    translator = Translator()\r\n",
        "    sentence = [sentence]\r\n",
        "    available_langs = list(googletrans.LANGUAGES.keys())\r\n",
        "    trans_lang = random.choice(available_langs)\r\n",
        "    # print(f\"Translating to {googletrans.LANGUAGES[trans_lang]}\")\r\n",
        "\r\n",
        "    translations = translator.translate(sentence, dest=trans_lang)\r\n",
        "    t_text = [t.text for t in translations]\r\n",
        "    # print(t_text)\r\n",
        "\r\n",
        "    translations_en_random = translator.translate(t_text, src=trans_lang, dest='en')\r\n",
        "    # en_text = [t.text for t in translations_en_random]\r\n",
        "    en_text = translations_en_random[0].text\r\n",
        "    return en_text\r\n",
        "\r\n",
        "\r\n",
        "#randomly deletes words from a sentence\r\n",
        "def random_deletion(sentence, p=0.2):\r\n",
        "    words = str(sentence).split()\r\n",
        "    if len(words) == 1: # return if single word\r\n",
        "        return words\r\n",
        "    remaining = list(filter(lambda x: random.uniform(0,1) > p,words))\r\n",
        "    if len(remaining) == 0: # if not left, sample a random word\r\n",
        "        return ' '.join([random.choice(words)])\r\n",
        "    else:\r\n",
        "        return ' '.join(remaining)\r\n",
        "\r\n",
        "#Randomly swap words in a sentence\r\n",
        "def random_swap(sentence, n=3):\r\n",
        "    words = str(sentence).split()\r\n",
        "    length = range(len(words))\r\n",
        "    if len(words) > n+2:\r\n",
        "        for _ in range(n):\r\n",
        "            idx1, idx2 = random.sample(length, 2)\r\n",
        "            words[idx1], words[idx2] = words[idx2], words[idx1]\r\n",
        "    return ' '.join(words)"
      ],
      "execution_count": 78,
      "outputs": []
    },
    {
      "cell_type": "markdown",
      "metadata": {
        "id": "25yVgZVdbGL6"
      },
      "source": [
        ""
      ]
    },
    {
      "cell_type": "code",
      "metadata": {
        "colab": {
          "base_uri": "https://localhost:8080/"
        },
        "id": "wtOlgiA9gtDo",
        "outputId": "fa967108-4920-4c96-ae87-7917a594c80a"
      },
      "source": [
        "%%time\r\n",
        "#Add back translate on 3% of train data\r\n",
        "df_percent = train_df.sample(frac=0.03)\r\n",
        "print(df_percent.shape, train_df.shape)\r\n",
        "df_percent['review'] =  df_percent['review'].apply(back_translate)\r\n",
        "train_df = train_df.append(df_percent)\r\n",
        "train_df.shape"
      ],
      "execution_count": 79,
      "outputs": [
        {
          "output_type": "stream",
          "text": [
            "(256, 2) (8544, 2)\n"
          ],
          "name": "stdout"
        },
        {
          "output_type": "execute_result",
          "data": {
            "text/plain": [
              "(8800, 2)"
            ]
          },
          "metadata": {
            "tags": []
          },
          "execution_count": 79
        }
      ]
    },
    {
      "cell_type": "code",
      "metadata": {
        "colab": {
          "base_uri": "https://localhost:8080/"
        },
        "id": "8YLDPzVks70l",
        "outputId": "f19f9ba0-49e0-416b-a8d2-ef956c8c8ad4"
      },
      "source": [
        "#Add random deletion on 40% of train data\r\n",
        "df_percent = train_df.sample(frac=0.4)\r\n",
        "print(df_percent.shape, train_df.shape)\r\n",
        "df_percent['review'] =  df_percent['review'].apply(random_deletion)\r\n",
        "train_df = train_df.append(df_percent)\r\n",
        "train_df.shape"
      ],
      "execution_count": 80,
      "outputs": [
        {
          "output_type": "stream",
          "text": [
            "(3520, 2) (8800, 2)\n"
          ],
          "name": "stdout"
        },
        {
          "output_type": "execute_result",
          "data": {
            "text/plain": [
              "(12320, 2)"
            ]
          },
          "metadata": {
            "tags": []
          },
          "execution_count": 80
        }
      ]
    },
    {
      "cell_type": "code",
      "metadata": {
        "colab": {
          "base_uri": "https://localhost:8080/"
        },
        "id": "5h4O926gwOyF",
        "outputId": "c61eef5c-d563-4b7c-b654-c6c9893d9712"
      },
      "source": [
        "#Add random swap on 40% of train data\r\n",
        "df_percent = train_df.sample(frac=0.4)\r\n",
        "print(df_percent.shape, train_df.shape)\r\n",
        "df_percent['review'] =  df_percent['review'].apply(random_swap)\r\n",
        "train_df = train_df.append(df_percent)\r\n",
        "train_df.shape"
      ],
      "execution_count": 81,
      "outputs": [
        {
          "output_type": "stream",
          "text": [
            "(4928, 2) (12320, 2)\n"
          ],
          "name": "stdout"
        },
        {
          "output_type": "execute_result",
          "data": {
            "text/plain": [
              "(17248, 2)"
            ]
          },
          "metadata": {
            "tags": []
          },
          "execution_count": 81
        }
      ]
    },
    {
      "cell_type": "code",
      "metadata": {
        "id": "R7JdpCW-YbAG",
        "colab": {
          "base_uri": "https://localhost:8080/"
        },
        "outputId": "1dc87b0a-20a8-44b0-d42a-17178ac3266a"
      },
      "source": [
        "train_df.shape, test_df.shape"
      ],
      "execution_count": 82,
      "outputs": [
        {
          "output_type": "execute_result",
          "data": {
            "text/plain": [
              "((17248, 2), (2210, 2))"
            ]
          },
          "metadata": {
            "tags": []
          },
          "execution_count": 82
        }
      ]
    },
    {
      "cell_type": "code",
      "metadata": {
        "colab": {
          "base_uri": "https://localhost:8080/"
        },
        "id": "JP2YisUZ1Htz",
        "outputId": "4ddfb1bf-8139-4e22-e438-54055ecd0f07"
      },
      "source": [
        "import string\r\n",
        "from nltk.corpus import stopwords\r\n",
        "import nltk\r\n",
        "nltk.download('stopwords')\r\n",
        "\r\n",
        "stops = stopwords.words('english')\r\n",
        "def pd_translate(df):\r\n",
        "    df = df.copy()\r\n",
        "    punct = string.punctuation.replace('|', '')\r\n",
        "    transtab = str.maketrans(dict.fromkeys(punct, ''))\r\n",
        "    df = df.assign(review=df['review'].str.translate(transtab))\r\n",
        "    df['review'] = df[\"review\"].apply(lambda words: ' '.join(word.lower() for word in words.split() if word not in stops))\r\n",
        "    return df\r\n"
      ],
      "execution_count": 147,
      "outputs": [
        {
          "output_type": "stream",
          "text": [
            "[nltk_data] Downloading package stopwords to /root/nltk_data...\n",
            "[nltk_data]   Package stopwords is already up-to-date!\n"
          ],
          "name": "stdout"
        }
      ]
    },
    {
      "cell_type": "code",
      "metadata": {
        "id": "azrTeEuJ1OuH"
      },
      "source": [
        "train_df = pd_translate(train_df)\r\n",
        "test_df = pd_translate(test_df)\r\n",
        "\r\n",
        "train_df['length_review'] = train_df.review.str.len()\r\n",
        "test_df['length_review'] = test_df.review.str.len() \r\n",
        "train_df = train_df[train_df.length_review > 15].drop(columns='length_review').reset_index(drop=True)\r\n",
        "test_df = test_df[test_df.length_review > 15].drop(columns='length_review').reset_index(drop=True)\r\n"
      ],
      "execution_count": 148,
      "outputs": []
    },
    {
      "cell_type": "code",
      "metadata": {
        "id": "zqRsoF6xYdgl",
        "colab": {
          "base_uri": "https://localhost:8080/"
        },
        "outputId": "4d4b4154-ac0f-4d12-90a9-d66942fc426f"
      },
      "source": [
        "print(train_df.shape, test_df.shape)\r\n",
        "print(train_df.label.value_counts())\r\n",
        "print(test_df.label.value_counts())"
      ],
      "execution_count": 149,
      "outputs": [
        {
          "output_type": "stream",
          "text": [
            "(16497, 2) (2142, 2)\n",
            "4    4562\n",
            "2    4262\n",
            "3    3029\n",
            "5    2533\n",
            "1    2111\n",
            "Name: label, dtype: int64\n",
            "2    614\n",
            "4    502\n",
            "5    389\n",
            "3    365\n",
            "1    272\n",
            "Name: label, dtype: int64\n"
          ],
          "name": "stdout"
        }
      ]
    },
    {
      "cell_type": "code",
      "metadata": {
        "colab": {
          "base_uri": "https://localhost:8080/",
          "height": 195
        },
        "id": "OPp_H9LEAMUm",
        "outputId": "42c8a239-76d7-496d-9256-ff7524453069"
      },
      "source": [
        "test_df.head()"
      ],
      "execution_count": 173,
      "outputs": [
        {
          "output_type": "execute_result",
          "data": {
            "text/html": [
              "<div>\n",
              "<style scoped>\n",
              "    .dataframe tbody tr th:only-of-type {\n",
              "        vertical-align: middle;\n",
              "    }\n",
              "\n",
              "    .dataframe tbody tr th {\n",
              "        vertical-align: top;\n",
              "    }\n",
              "\n",
              "    .dataframe thead th {\n",
              "        text-align: right;\n",
              "    }\n",
              "</style>\n",
              "<table border=\"1\" class=\"dataframe\">\n",
              "  <thead>\n",
              "    <tr style=\"text-align: right;\">\n",
              "      <th></th>\n",
              "      <th>label</th>\n",
              "      <th>review</th>\n",
              "    </tr>\n",
              "  </thead>\n",
              "  <tbody>\n",
              "    <tr>\n",
              "      <th>0</th>\n",
              "      <td>3</td>\n",
              "      <td>effective tootepid biopic</td>\n",
              "    </tr>\n",
              "    <tr>\n",
              "      <th>1</th>\n",
              "      <td>4</td>\n",
              "      <td>if sometimes like go movies fun wasabi good pl...</td>\n",
              "    </tr>\n",
              "    <tr>\n",
              "      <th>2</th>\n",
              "      <td>5</td>\n",
              "      <td>emerges something rare issue movie honest keen...</td>\n",
              "    </tr>\n",
              "    <tr>\n",
              "      <th>3</th>\n",
              "      <td>3</td>\n",
              "      <td>the film provides great insight neurotic minds...</td>\n",
              "    </tr>\n",
              "    <tr>\n",
              "      <th>4</th>\n",
              "      <td>5</td>\n",
              "      <td>offers rare combination entertainment education</td>\n",
              "    </tr>\n",
              "  </tbody>\n",
              "</table>\n",
              "</div>"
            ],
            "text/plain": [
              "   label                                             review\n",
              "0      3                          effective tootepid biopic\n",
              "1      4  if sometimes like go movies fun wasabi good pl...\n",
              "2      5  emerges something rare issue movie honest keen...\n",
              "3      3  the film provides great insight neurotic minds...\n",
              "4      5    offers rare combination entertainment education"
            ]
          },
          "metadata": {
            "tags": []
          },
          "execution_count": 173
        }
      ]
    },
    {
      "cell_type": "code",
      "metadata": {
        "colab": {
          "base_uri": "https://localhost:8080/",
          "height": 195
        },
        "id": "xN5N9P5jAHdV",
        "outputId": "f121bd56-de64-4684-b868-d2b9bb8f0069"
      },
      "source": [
        "train_df.head()"
      ],
      "execution_count": 172,
      "outputs": [
        {
          "output_type": "execute_result",
          "data": {
            "text/html": [
              "<div>\n",
              "<style scoped>\n",
              "    .dataframe tbody tr th:only-of-type {\n",
              "        vertical-align: middle;\n",
              "    }\n",
              "\n",
              "    .dataframe tbody tr th {\n",
              "        vertical-align: top;\n",
              "    }\n",
              "\n",
              "    .dataframe thead th {\n",
              "        text-align: right;\n",
              "    }\n",
              "</style>\n",
              "<table border=\"1\" class=\"dataframe\">\n",
              "  <thead>\n",
              "    <tr style=\"text-align: right;\">\n",
              "      <th></th>\n",
              "      <th>label</th>\n",
              "      <th>review</th>\n",
              "    </tr>\n",
              "  </thead>\n",
              "  <tbody>\n",
              "    <tr>\n",
              "      <th>0</th>\n",
              "      <td>4</td>\n",
              "      <td>the rock destined 21st century new conan going...</td>\n",
              "    </tr>\n",
              "    <tr>\n",
              "      <th>1</th>\n",
              "      <td>5</td>\n",
              "      <td>the gorgeously elaborate continuation the lord...</td>\n",
              "    </tr>\n",
              "    <tr>\n",
              "      <th>2</th>\n",
              "      <td>4</td>\n",
              "      <td>singercomposer bryan adams contributes slew so...</td>\n",
              "    </tr>\n",
              "    <tr>\n",
              "      <th>3</th>\n",
              "      <td>3</td>\n",
              "      <td>you think america would enough plucky british ...</td>\n",
              "    </tr>\n",
              "    <tr>\n",
              "      <th>4</th>\n",
              "      <td>4</td>\n",
              "      <td>yet act still charming</td>\n",
              "    </tr>\n",
              "  </tbody>\n",
              "</table>\n",
              "</div>"
            ],
            "text/plain": [
              "   label                                             review\n",
              "0      4  the rock destined 21st century new conan going...\n",
              "1      5  the gorgeously elaborate continuation the lord...\n",
              "2      4  singercomposer bryan adams contributes slew so...\n",
              "3      3  you think america would enough plucky british ...\n",
              "4      4                             yet act still charming"
            ]
          },
          "metadata": {
            "tags": []
          },
          "execution_count": 172
        }
      ]
    },
    {
      "cell_type": "markdown",
      "metadata": {
        "id": "XJ6o_79ISSVb"
      },
      "source": [
        "## Defining Fields"
      ]
    },
    {
      "cell_type": "markdown",
      "metadata": {
        "id": "e63g08ijOrf7"
      },
      "source": [
        "Now we shall be defining LABEL as a LabelField, which is a subclass of Field that sets sequen tial to False (as it’s our numerical category class). TWEET is a standard Field object, where we have decided to use the spaCy tokenizer and convert all the text to lower‐ case."
      ]
    },
    {
      "cell_type": "code",
      "metadata": {
        "id": "qk8IP4SK1Lrp",
        "colab": {
          "base_uri": "https://localhost:8080/"
        },
        "outputId": "e059985d-5c81-4cb8-82b3-28d75e35eaa6"
      },
      "source": [
        "# Import Library\n",
        "import random\n",
        "import torch, torchtext\n",
        "from torchtext import data \n",
        "\n",
        "# Manual Seed\n",
        "SEED = 43\n",
        "torch.manual_seed(SEED)"
      ],
      "execution_count": 203,
      "outputs": [
        {
          "output_type": "execute_result",
          "data": {
            "text/plain": [
              "<torch._C.Generator at 0x7f5edfdb4768>"
            ]
          },
          "metadata": {
            "tags": []
          },
          "execution_count": 203
        }
      ]
    },
    {
      "cell_type": "code",
      "metadata": {
        "id": "u6bKQax2Mf_U"
      },
      "source": [
        "Review = data.Field(sequential = True, tokenize = 'spacy', batch_first =True, include_lengths=True)\n",
        "Label = data.LabelField(tokenize ='spacy', is_target=True, batch_first =True, sequential =False)"
      ],
      "execution_count": 204,
      "outputs": []
    },
    {
      "cell_type": "markdown",
      "metadata": {
        "id": "mX-lYIe_O7Vy"
      },
      "source": [
        "Having defined those fields, we now need to produce a list that maps them onto the list of rows that are in the CSV:"
      ]
    },
    {
      "cell_type": "code",
      "metadata": {
        "id": "VawdWq36O6td"
      },
      "source": [
        "fields = [('review', Review),('labels',Label)]"
      ],
      "execution_count": 205,
      "outputs": []
    },
    {
      "cell_type": "code",
      "metadata": {
        "colab": {
          "base_uri": "https://localhost:8080/",
          "height": 35
        },
        "id": "7PhEEeZD1FgV",
        "outputId": "9849c3e3-dc74-461a-b23c-45686a909ea9"
      },
      "source": [
        "train_df.review.iloc[8543]"
      ],
      "execution_count": 206,
      "outputs": [
        {
          "output_type": "execute_result",
          "data": {
            "application/vnd.google.colaboratory.intrinsic+json": {
              "type": "string"
            },
            "text/plain": [
              "'twenty years later reggio still knows point poetic imagery ability startle stifled prevalence fastforward technology stringently takes'"
            ]
          },
          "metadata": {
            "tags": []
          },
          "execution_count": 206
        }
      ]
    },
    {
      "cell_type": "markdown",
      "metadata": {
        "id": "ZbtZ-Ph2P1xL"
      },
      "source": [
        "Armed with our declared fields, lets convert from pandas to list to torchtext. We could also use TabularDataset to apply that definition to the CSV directly but showing an alternative approach too."
      ]
    },
    {
      "cell_type": "code",
      "metadata": {
        "id": "L3OLcJ5B7rHz",
        "colab": {
          "base_uri": "https://localhost:8080/"
        },
        "outputId": "0309e915-66ba-4fb1-a77d-737809802469"
      },
      "source": [
        "train_example = [data.Example.fromlist([train_df.review.iloc[i],train_df.label.iloc[i]], fields) for i in range(train_df.shape[0])] \r\n",
        "test_example = [data.Example.fromlist([test_df.review.iloc[i],test_df.label.iloc[i]], fields) for i in range(test_df.shape[0])] \r\n",
        "len(train_example), len(test_example)"
      ],
      "execution_count": 207,
      "outputs": [
        {
          "output_type": "execute_result",
          "data": {
            "text/plain": [
              "(16497, 2142)"
            ]
          },
          "metadata": {
            "tags": []
          },
          "execution_count": 207
        }
      ]
    },
    {
      "cell_type": "code",
      "metadata": {
        "id": "nT-flpH-P1cd"
      },
      "source": [
        "# Creating dataset\n",
        "#twitterDataset = data.TabularDataset(path=\"tweets.csv\", format=\"CSV\", fields=fields, skip_header=True)\n",
        "\n",
        "train_set = data.Dataset(train_example, fields)\n",
        "test_set = data.Dataset(test_example, fields)"
      ],
      "execution_count": 208,
      "outputs": []
    },
    {
      "cell_type": "code",
      "metadata": {
        "id": "ykvsCGQMR6UD",
        "colab": {
          "base_uri": "https://localhost:8080/"
        },
        "outputId": "23202346-510f-4f1c-a774-28717a52e3d2"
      },
      "source": [
        "(len(train_set), len(test_set))"
      ],
      "execution_count": 209,
      "outputs": [
        {
          "output_type": "execute_result",
          "data": {
            "text/plain": [
              "(16497, 2142)"
            ]
          },
          "metadata": {
            "tags": []
          },
          "execution_count": 209
        }
      ]
    },
    {
      "cell_type": "markdown",
      "metadata": {
        "id": "kix8P2IKSBaV"
      },
      "source": [
        "An example from the dataset:"
      ]
    },
    {
      "cell_type": "code",
      "metadata": {
        "id": "dUpEOQruR9JL",
        "colab": {
          "base_uri": "https://localhost:8080/"
        },
        "outputId": "666b3145-f2ef-459a-f32b-8d05eacda78d"
      },
      "source": [
        "vars(train_set.examples[1])"
      ],
      "execution_count": 210,
      "outputs": [
        {
          "output_type": "execute_result",
          "data": {
            "text/plain": [
              "{'labels': 5,\n",
              " 'review': ['the',\n",
              "  'gorgeously',\n",
              "  'elaborate',\n",
              "  'continuation',\n",
              "  'the',\n",
              "  'lord',\n",
              "  'rings',\n",
              "  'trilogy',\n",
              "  'huge',\n",
              "  'column',\n",
              "  'words',\n",
              "  'adequately',\n",
              "  'describe',\n",
              "  'cowriterdirector',\n",
              "  'peter',\n",
              "  'jackson',\n",
              "  'expanded',\n",
              "  'vision',\n",
              "  'jrr',\n",
              "  'tolkien',\n",
              "  'middleearth']}"
            ]
          },
          "metadata": {
            "tags": []
          },
          "execution_count": 210
        }
      ]
    },
    {
      "cell_type": "markdown",
      "metadata": {
        "id": "AKdllP3FST4N"
      },
      "source": [
        "## Building Vocabulary"
      ]
    },
    {
      "cell_type": "markdown",
      "metadata": {
        "id": "SuvWQ-SpSmSz"
      },
      "source": [
        "At this point we would have built a one-hot encoding of each word that is present in the dataset—a rather tedious process. Thankfully, torchtext will do this for us, and will also allow a max_size parameter to be passed in to limit the vocabu‐ lary to the most common words. This is normally done to prevent the construction of a huge, memory-hungry model. We don’t want our GPUs too overwhelmed, after all. \n",
        "\n",
        "Let’s limit the vocabulary to a maximum of 5000 words in our training set:\n"
      ]
    },
    {
      "cell_type": "code",
      "metadata": {
        "id": "mx955u93SGeY",
        "colab": {
          "base_uri": "https://localhost:8080/"
        },
        "outputId": "801db5d4-7c63-45c7-e504-22130da28a89"
      },
      "source": [
        "Review.build_vocab(train_set, vectors = \"glove.6B.100d\", \n",
        "                 unk_init = torch.Tensor.normal_)\n",
        "Label.build_vocab(train_set)"
      ],
      "execution_count": 211,
      "outputs": [
        {
          "output_type": "stream",
          "text": [
            ".vector_cache/glove.6B.zip: 862MB [06:30, 2.21MB/s]                           \n",
            "100%|█████████▉| 398524/400000 [00:19<00:00, 26049.86it/s]"
          ],
          "name": "stderr"
        }
      ]
    },
    {
      "cell_type": "markdown",
      "metadata": {
        "id": "xvyEeEjXTGhX"
      },
      "source": [
        "By default, torchtext will add two more special tokens, <unk> for unknown words and <pad>, a padding token that will be used to pad all our text to roughly the same size to help with efficient batching on the GPU."
      ]
    },
    {
      "cell_type": "code",
      "metadata": {
        "id": "rA3tIESdcJdN",
        "colab": {
          "base_uri": "https://localhost:8080/"
        },
        "outputId": "a9fb8046-1f2f-4c92-ed3e-64e92c6f97d9"
      },
      "source": [
        "print('Size of input vocab : ', len(Review.vocab))\n",
        "print('Size of label vocab : ', len(Label.vocab))\n",
        "print('Top 10 words appreared repeatedly :', list(Review.vocab.freqs.most_common(10)))\n",
        "print('Labels : ', Label.vocab.stoi)"
      ],
      "execution_count": 212,
      "outputs": [
        {
          "output_type": "stream",
          "text": [
            "Size of input vocab :  16387\n",
            "Size of label vocab :  5\n",
            "Top 10 words appreared repeatedly : [('the', 2366), ('film', 2214), ('movie', 1848), ('a', 1603), ('nt', 1247), ('it', 1171), ('one', 1039), ('like', 931), ('i', 785), ('story', 666)]\n",
            "Labels :  defaultdict(<function _default_unk_index at 0x7f5e91ff2c80>, {4: 0, 2: 1, 3: 2, 5: 3, 1: 4})\n"
          ],
          "name": "stdout"
        }
      ]
    },
    {
      "cell_type": "markdown",
      "metadata": {
        "id": "rwjD2-ebTeUX"
      },
      "source": [
        "**Lots of stopwords!!**"
      ]
    },
    {
      "cell_type": "markdown",
      "metadata": {
        "id": "sLWW221gTpNs"
      },
      "source": [
        "Now we need to create a data loader to feed into our training loop. Torchtext provides the BucketIterator method that will produce what it calls a Batch, which is almost, but not quite, like the data loader we used on images."
      ]
    },
    {
      "cell_type": "markdown",
      "metadata": {
        "id": "EQqMhMoDUDmn"
      },
      "source": [
        "But at first declare the device we are using."
      ]
    },
    {
      "cell_type": "code",
      "metadata": {
        "id": "Zfo2QhGJUK4l",
        "colab": {
          "base_uri": "https://localhost:8080/"
        },
        "outputId": "dcf31f0e-7209-4943-e2f8-960f69d44b6a"
      },
      "source": [
        "device = torch.device(\"cuda\" if torch.cuda.is_available() else \"cpu\")\r\n",
        "device"
      ],
      "execution_count": 213,
      "outputs": [
        {
          "output_type": "execute_result",
          "data": {
            "text/plain": [
              "device(type='cuda')"
            ]
          },
          "metadata": {
            "tags": []
          },
          "execution_count": 213
        }
      ]
    },
    {
      "cell_type": "code",
      "metadata": {
        "id": "zK2ORoqdTNsM"
      },
      "source": [
        "train_iterator, valid_iterator = data.BucketIterator.splits((train_set, test_set), batch_size = 32, \n",
        "                                                            sort_key = lambda x: len(x.review),\n",
        "                                                            sort_within_batch=True, device = device)"
      ],
      "execution_count": 214,
      "outputs": []
    },
    {
      "cell_type": "markdown",
      "metadata": {
        "id": "Gg7gTFQO4fby"
      },
      "source": [
        "Save the vocabulary for later use"
      ]
    },
    {
      "cell_type": "code",
      "metadata": {
        "id": "niE9Cc6-2bD_"
      },
      "source": [
        "# import os, pickle\n",
        "# with open('tokenizer.pkl', 'wb') as tokens: \n",
        "#     pickle.dump(Review.vocab.stoi, tokens)"
      ],
      "execution_count": 215,
      "outputs": []
    },
    {
      "cell_type": "markdown",
      "metadata": {
        "id": "1AbsQwqkVyAy"
      },
      "source": [
        "## Defining Our Model"
      ]
    },
    {
      "cell_type": "markdown",
      "metadata": {
        "id": "E4PED4HJWH4t"
      },
      "source": [
        "We use the Embedding and LSTM modules in PyTorch to build a simple model for classifying tweets.\n",
        "\n",
        "In this model we create three layers. \n",
        "1. First, the words in our tweets are pushed into an Embedding layer, which we have established as a 300-dimensional vector embedding. \n",
        "2. That’s then fed into a 2 stacked-LSTMs with 100 hidden features (again, we’re compressing down from the 300-dimensional input like we did with images). We are using 2 LSTMs for using the dropout.\n",
        "3. Finally, the output of the LSTM (the final hidden state after processing the incoming tweet) is pushed through a standard fully connected layer with three outputs to correspond to our three possible classes (negative, positive, or neutral)."
      ]
    },
    {
      "cell_type": "code",
      "metadata": {
        "id": "43pVRccMT0bT"
      },
      "source": [
        "import torch.nn as nn\n",
        "import torch.nn.functional as F\n",
        "\n",
        "class classifier(nn.Module):\n",
        "    \n",
        "    # Define all the layers used in model\n",
        "    def __init__(self, vocab_size, embedding_dim, hidden_dim, output_dim, n_layers, dropout):\n",
        "        \n",
        "        super().__init__()          \n",
        "        \n",
        "        # Embedding layer\n",
        "        self.embedding = nn.Embedding(vocab_size, embedding_dim)\n",
        "        \n",
        "        # LSTM layer\n",
        "        self.encoder = nn.LSTM(embedding_dim, \n",
        "                           hidden_dim, \n",
        "                           num_layers=n_layers, \n",
        "                           dropout=dropout,\n",
        "                           batch_first=True)\n",
        "        # try using nn.GRU or nn.RNN here and compare their performances\n",
        "        # try bidirectional and compare their performances\n",
        "        \n",
        "        # Dense layer\n",
        "        self.fc = nn.Linear(hidden_dim, output_dim)\n",
        "        \n",
        "    def forward(self, text, text_lengths):\n",
        "        \n",
        "        # text = [batch size, sent_length]\n",
        "        embedded = self.embedding(text)\n",
        "        # embedded = [batch size, sent_len, emb dim]\n",
        "      \n",
        "        # packed sequence\n",
        "        packed_embedded = nn.utils.rnn.pack_padded_sequence(embedded, text_lengths.cpu(), batch_first=True)\n",
        "        \n",
        "        packed_output, (hidden, cell) = self.encoder(packed_embedded)\n",
        "        #hidden = [batch size, num layers * num directions,hid dim]\n",
        "        #cell = [batch size, num layers * num directions,hid dim]\n",
        "    \n",
        "        # Hidden = [batch size, hid dim * num directions]\n",
        "        dense_outputs = self.fc(hidden)   \n",
        "        \n",
        "        # Final activation function softmax\n",
        "        output = F.softmax(dense_outputs[0], dim=1)\n",
        "            \n",
        "        return output"
      ],
      "execution_count": 216,
      "outputs": []
    },
    {
      "cell_type": "code",
      "metadata": {
        "id": "rwBoGE_X_Fl8"
      },
      "source": [
        "# Define hyperparameters\n",
        "size_of_vocab = len(Review.vocab)\n",
        "embedding_dim = 100\n",
        "num_hidden_nodes = 32\n",
        "num_output_nodes = 5\n",
        "num_layers = 3\n",
        "dropout = 0.3\n",
        "PAD_IDX = Review.vocab.stoi[Review.pad_token]\n",
        "# Instantiate the model\n",
        "model = classifier(size_of_vocab, embedding_dim, num_hidden_nodes, num_output_nodes, num_layers, dropout = dropout)"
      ],
      "execution_count": 246,
      "outputs": []
    },
    {
      "cell_type": "code",
      "metadata": {
        "id": "O-pOMqzJ3eTv",
        "colab": {
          "base_uri": "https://localhost:8080/"
        },
        "outputId": "478ddaa1-c720-44e8-8bae-2eabd5f95c05"
      },
      "source": [
        "print(model)\n",
        "\n",
        "#No. of trianable parameters\n",
        "def count_parameters(model):\n",
        "    return sum(p.numel() for p in model.parameters() if p.requires_grad)\n",
        "    \n",
        "print(f'The model has {count_parameters(model):,} trainable parameters')"
      ],
      "execution_count": 247,
      "outputs": [
        {
          "output_type": "stream",
          "text": [
            "classifier(\n",
            "  (embedding): Embedding(16387, 100)\n",
            "  (encoder): LSTM(100, 32, num_layers=3, batch_first=True, dropout=0.3)\n",
            "  (fc): Linear(in_features=32, out_features=5, bias=True)\n",
            ")\n",
            "The model has 1,672,913 trainable parameters\n"
          ],
          "name": "stdout"
        }
      ]
    },
    {
      "cell_type": "code",
      "metadata": {
        "colab": {
          "base_uri": "https://localhost:8080/"
        },
        "id": "lLM_QTgZCKWZ",
        "outputId": "afddab57-a851-4384-c094-7f596f6a7c42"
      },
      "source": [
        "pretrained_embeddings = Review.vocab.vectors\r\n",
        "\r\n",
        "print(pretrained_embeddings.shape)"
      ],
      "execution_count": 248,
      "outputs": [
        {
          "output_type": "stream",
          "text": [
            "torch.Size([16387, 100])\n"
          ],
          "name": "stdout"
        }
      ]
    },
    {
      "cell_type": "code",
      "metadata": {
        "colab": {
          "base_uri": "https://localhost:8080/"
        },
        "id": "nhyhrpqDCPgk",
        "outputId": "1fc44da0-5fd6-4538-a6ef-03c4e0443247"
      },
      "source": [
        "model.embedding.weight.data.copy_(pretrained_embeddings)\r\n"
      ],
      "execution_count": 249,
      "outputs": [
        {
          "output_type": "execute_result",
          "data": {
            "text/plain": [
              "tensor([[-0.0166, -0.4668,  2.0909,  ..., -1.4692,  0.4476, -0.7223],\n",
              "        [-0.0791, -0.2089, -0.3442,  ...,  0.4657,  0.6297, -1.7395],\n",
              "        [-0.0382, -0.2449,  0.7281,  ..., -0.1459,  0.8278,  0.2706],\n",
              "        ...,\n",
              "        [ 0.5719, -0.7835,  0.4352,  ..., -0.2164, -0.7241,  0.2962],\n",
              "        [ 0.2512,  0.6499, -0.2465,  ...,  0.0659, -0.9114,  0.4129],\n",
              "        [-0.1327, -0.8911,  0.2346,  ..., -0.1750, -0.1385,  0.6226]])"
            ]
          },
          "metadata": {
            "tags": []
          },
          "execution_count": 249
        }
      ]
    },
    {
      "cell_type": "code",
      "metadata": {
        "colab": {
          "base_uri": "https://localhost:8080/"
        },
        "id": "24nEmzCWCQUI",
        "outputId": "4f49b904-3987-429a-bfee-781ca593dd00"
      },
      "source": [
        "UNK_IDX = Review.vocab.stoi[Review.unk_token]\r\n",
        "\r\n",
        "model.embedding.weight.data[UNK_IDX] = torch.zeros(100)\r\n",
        "model.embedding.weight.data[PAD_IDX] = torch.zeros(100)\r\n",
        "\r\n",
        "print(model.embedding.weight.data)"
      ],
      "execution_count": 250,
      "outputs": [
        {
          "output_type": "stream",
          "text": [
            "tensor([[ 0.0000,  0.0000,  0.0000,  ...,  0.0000,  0.0000,  0.0000],\n",
            "        [ 0.0000,  0.0000,  0.0000,  ...,  0.0000,  0.0000,  0.0000],\n",
            "        [-0.0382, -0.2449,  0.7281,  ..., -0.1459,  0.8278,  0.2706],\n",
            "        ...,\n",
            "        [ 0.5719, -0.7835,  0.4352,  ..., -0.2164, -0.7241,  0.2962],\n",
            "        [ 0.2512,  0.6499, -0.2465,  ...,  0.0659, -0.9114,  0.4129],\n",
            "        [-0.1327, -0.8911,  0.2346,  ..., -0.1750, -0.1385,  0.6226]])\n"
          ],
          "name": "stdout"
        }
      ]
    },
    {
      "cell_type": "markdown",
      "metadata": {
        "id": "eXajorf5Xz7t"
      },
      "source": [
        "## Model Training and Evaluation"
      ]
    },
    {
      "cell_type": "markdown",
      "metadata": {
        "id": "PrE9RpMtZ1Vs"
      },
      "source": [
        "First define the optimizer and loss functions"
      ]
    },
    {
      "cell_type": "code",
      "metadata": {
        "id": "-u86JWdlXvu5"
      },
      "source": [
        "import torch.optim as optim\n",
        "\n",
        "# define optimizer and loss\n",
        "optimizer = optim.Adam(model.parameters(), lr=3e-5)\n",
        "criterion = nn.CrossEntropyLoss()\n",
        "\n",
        "# define metric\n",
        "def binary_accuracy(preds, y):\n",
        "    #round predictions to the closest integer\n",
        "    _, predictions = torch.max(preds, 1)\n",
        "    \n",
        "    correct = (predictions == y).float() \n",
        "    acc = correct.sum() / len(correct)\n",
        "    return acc\n",
        "    \n",
        "# push to cuda if available\n",
        "model = model.to(device)\n",
        "criterion = criterion.to(device)"
      ],
      "execution_count": 251,
      "outputs": []
    },
    {
      "cell_type": "markdown",
      "metadata": {
        "id": "3VCJtNb3Zt8w"
      },
      "source": [
        "The main thing to be aware of in this new training loop is that we have to reference `batch.tweets` and `batch.labels` to get the particular fields we’re interested in; they don’t fall out quite as nicely from the enumerator as they do in torchvision."
      ]
    },
    {
      "cell_type": "markdown",
      "metadata": {
        "id": "2WjEPLKsAiS_"
      },
      "source": [
        "**Training Loop**"
      ]
    },
    {
      "cell_type": "code",
      "metadata": {
        "id": "HDWNnGK3Y5oJ"
      },
      "source": [
        "def train(model, iterator, optimizer, criterion):\n",
        "    \n",
        "    # initialize every epoch \n",
        "    epoch_loss = 0\n",
        "    epoch_acc = 0\n",
        "    \n",
        "    # set the model in training phase\n",
        "    model.train()  \n",
        "    \n",
        "    for batch in iterator:\n",
        "        # resets the gradients after every batch\n",
        "        optimizer.zero_grad()   \n",
        "        \n",
        "        # retrieve text and no. of words\n",
        "        review, review_lengths = batch.review   \n",
        "        \n",
        "        # convert to 1D tensor\n",
        "        predictions = model(review, review_lengths).squeeze()  \n",
        "        \n",
        "        # compute the loss\n",
        "        loss = criterion(predictions, batch.labels) \n",
        "        \n",
        "        # compute the binary accuracy\n",
        "        acc = binary_accuracy(predictions, batch.labels)   \n",
        "        \n",
        "        # backpropage the loss and compute the gradients\n",
        "        loss.backward()       \n",
        "        \n",
        "        # update the weights\n",
        "        optimizer.step()      \n",
        "        \n",
        "        # loss and accuracy\n",
        "        epoch_loss += loss.item()  \n",
        "        epoch_acc += acc.item()    \n",
        "        \n",
        "    return epoch_loss / len(iterator), epoch_acc / len(iterator)"
      ],
      "execution_count": 252,
      "outputs": []
    },
    {
      "cell_type": "markdown",
      "metadata": {
        "id": "CZcHhkkvAsCt"
      },
      "source": [
        "**Evaluation Loop**"
      ]
    },
    {
      "cell_type": "code",
      "metadata": {
        "id": "zHEe-zSVAriL"
      },
      "source": [
        "def evaluate(model, iterator, criterion):\n",
        "    \n",
        "    # initialize every epoch\n",
        "    epoch_loss = 0\n",
        "    epoch_acc = 0\n",
        "\n",
        "    # deactivating dropout layers\n",
        "    model.eval()\n",
        "    \n",
        "    # deactivates autograd\n",
        "    with torch.no_grad():\n",
        "    \n",
        "        for batch in iterator:\n",
        "            \n",
        "            # retrieve text and no. of words\n",
        "            review, review_lengths = batch.review   \n",
        "            \n",
        "            # convert to 1d tensor\n",
        "            predictions = model(review, review_lengths).squeeze()\n",
        "            \n",
        "            # compute loss and accuracy\n",
        "            loss = criterion(predictions, batch.labels)\n",
        "            acc = binary_accuracy(predictions, batch.labels)\n",
        "            \n",
        "            # keep track of loss and accuracy\n",
        "            epoch_loss += loss.item()\n",
        "            epoch_acc += acc.item()\n",
        "        \n",
        "    return epoch_loss / len(iterator), epoch_acc / len(iterator)"
      ],
      "execution_count": 253,
      "outputs": []
    },
    {
      "cell_type": "markdown",
      "metadata": {
        "id": "L6LJFW7HaJoV"
      },
      "source": [
        "**Let's Train and Evaluate**"
      ]
    },
    {
      "cell_type": "code",
      "metadata": {
        "id": "tq330XlnaEU9",
        "colab": {
          "base_uri": "https://localhost:8080/"
        },
        "outputId": "c6d5d738-cd39-4239-91c2-e8e0d9463b0f"
      },
      "source": [
        "N_EPOCHS = 50\n",
        "best_valid_loss = float('inf')\n",
        "\n",
        "for epoch in range(N_EPOCHS):\n",
        "     \n",
        "    # train the model\n",
        "    train_loss, train_acc = train(model, train_iterator, optimizer, criterion)\n",
        "    \n",
        "    # evaluate the model\n",
        "    valid_loss, valid_acc = evaluate(model, valid_iterator, criterion)\n",
        "    \n",
        "    # save the best model\n",
        "    # if valid_loss < best_valid_loss:\n",
        "    #     best_valid_loss = valid_loss\n",
        "    #     torch.save(model.state_dict(), 'saved_weights.pt')\n",
        "    print(f'Epoch {epoch+1}/{N_EPOCHS}')\n",
        "    print(f'\\tTrain Loss: {train_loss:.3f} | Train Acc: {train_acc*100:.2f}%')\n",
        "    print(f'\\t Val. Loss: {valid_loss:.3f} |  Val. Acc: {valid_acc*100:.2f}% \\n')"
      ],
      "execution_count": 254,
      "outputs": [
        {
          "output_type": "stream",
          "text": [
            "Epoch 1/50\n",
            "\tTrain Loss: 1.607 | Train Acc: 21.61%\n",
            "\t Val. Loss: 1.603 |  Val. Acc: 28.35% \n",
            "\n",
            "Epoch 2/50\n",
            "\tTrain Loss: 1.601 | Train Acc: 26.18%\n",
            "\t Val. Loss: 1.598 |  Val. Acc: 28.91% \n",
            "\n",
            "Epoch 3/50\n",
            "\tTrain Loss: 1.592 | Train Acc: 29.24%\n",
            "\t Val. Loss: 1.591 |  Val. Acc: 26.50% \n",
            "\n",
            "Epoch 4/50\n",
            "\tTrain Loss: 1.580 | Train Acc: 29.14%\n",
            "\t Val. Loss: 1.585 |  Val. Acc: 24.97% \n",
            "\n",
            "Epoch 5/50\n",
            "\tTrain Loss: 1.573 | Train Acc: 29.59%\n",
            "\t Val. Loss: 1.580 |  Val. Acc: 26.27% \n",
            "\n",
            "Epoch 6/50\n",
            "\tTrain Loss: 1.567 | Train Acc: 31.46%\n",
            "\t Val. Loss: 1.574 |  Val. Acc: 29.64% \n",
            "\n",
            "Epoch 7/50\n",
            "\tTrain Loss: 1.562 | Train Acc: 33.80%\n",
            "\t Val. Loss: 1.569 |  Val. Acc: 32.26% \n",
            "\n",
            "Epoch 8/50\n",
            "\tTrain Loss: 1.555 | Train Acc: 35.29%\n",
            "\t Val. Loss: 1.561 |  Val. Acc: 34.64% \n",
            "\n",
            "Epoch 9/50\n",
            "\tTrain Loss: 1.546 | Train Acc: 36.71%\n",
            "\t Val. Loss: 1.555 |  Val. Acc: 35.62% \n",
            "\n",
            "Epoch 10/50\n",
            "\tTrain Loss: 1.537 | Train Acc: 37.56%\n",
            "\t Val. Loss: 1.546 |  Val. Acc: 36.09% \n",
            "\n",
            "Epoch 11/50\n",
            "\tTrain Loss: 1.528 | Train Acc: 38.40%\n",
            "\t Val. Loss: 1.538 |  Val. Acc: 37.16% \n",
            "\n",
            "Epoch 12/50\n",
            "\tTrain Loss: 1.519 | Train Acc: 39.12%\n",
            "\t Val. Loss: 1.533 |  Val. Acc: 37.58% \n",
            "\n",
            "Epoch 13/50\n",
            "\tTrain Loss: 1.511 | Train Acc: 39.92%\n",
            "\t Val. Loss: 1.530 |  Val. Acc: 37.39% \n",
            "\n",
            "Epoch 14/50\n",
            "\tTrain Loss: 1.504 | Train Acc: 40.52%\n",
            "\t Val. Loss: 1.524 |  Val. Acc: 38.42% \n",
            "\n",
            "Epoch 15/50\n",
            "\tTrain Loss: 1.497 | Train Acc: 41.23%\n",
            "\t Val. Loss: 1.522 |  Val. Acc: 38.19% \n",
            "\n",
            "Epoch 16/50\n",
            "\tTrain Loss: 1.490 | Train Acc: 41.91%\n",
            "\t Val. Loss: 1.520 |  Val. Acc: 38.33% \n",
            "\n",
            "Epoch 17/50\n",
            "\tTrain Loss: 1.484 | Train Acc: 42.49%\n",
            "\t Val. Loss: 1.518 |  Val. Acc: 38.33% \n",
            "\n",
            "Epoch 18/50\n",
            "\tTrain Loss: 1.478 | Train Acc: 43.04%\n",
            "\t Val. Loss: 1.515 |  Val. Acc: 38.61% \n",
            "\n",
            "Epoch 19/50\n",
            "\tTrain Loss: 1.473 | Train Acc: 43.61%\n",
            "\t Val. Loss: 1.515 |  Val. Acc: 38.61% \n",
            "\n",
            "Epoch 20/50\n",
            "\tTrain Loss: 1.468 | Train Acc: 44.08%\n",
            "\t Val. Loss: 1.513 |  Val. Acc: 38.66% \n",
            "\n",
            "Epoch 21/50\n",
            "\tTrain Loss: 1.462 | Train Acc: 44.48%\n",
            "\t Val. Loss: 1.512 |  Val. Acc: 38.89% \n",
            "\n",
            "Epoch 22/50\n",
            "\tTrain Loss: 1.458 | Train Acc: 44.94%\n",
            "\t Val. Loss: 1.511 |  Val. Acc: 38.94% \n",
            "\n",
            "Epoch 23/50\n",
            "\tTrain Loss: 1.453 | Train Acc: 45.30%\n",
            "\t Val. Loss: 1.511 |  Val. Acc: 38.85% \n",
            "\n",
            "Epoch 24/50\n",
            "\tTrain Loss: 1.448 | Train Acc: 45.56%\n",
            "\t Val. Loss: 1.511 |  Val. Acc: 38.85% \n",
            "\n",
            "Epoch 25/50\n",
            "\tTrain Loss: 1.444 | Train Acc: 45.94%\n",
            "\t Val. Loss: 1.510 |  Val. Acc: 38.66% \n",
            "\n",
            "Epoch 26/50\n",
            "\tTrain Loss: 1.440 | Train Acc: 46.22%\n",
            "\t Val. Loss: 1.510 |  Val. Acc: 38.61% \n",
            "\n",
            "Epoch 27/50\n",
            "\tTrain Loss: 1.436 | Train Acc: 46.56%\n",
            "\t Val. Loss: 1.508 |  Val. Acc: 38.52% \n",
            "\n",
            "Epoch 28/50\n",
            "\tTrain Loss: 1.431 | Train Acc: 46.96%\n",
            "\t Val. Loss: 1.508 |  Val. Acc: 38.61% \n",
            "\n",
            "Epoch 29/50\n",
            "\tTrain Loss: 1.427 | Train Acc: 47.19%\n",
            "\t Val. Loss: 1.508 |  Val. Acc: 38.57% \n",
            "\n",
            "Epoch 30/50\n",
            "\tTrain Loss: 1.422 | Train Acc: 47.47%\n",
            "\t Val. Loss: 1.507 |  Val. Acc: 38.71% \n",
            "\n",
            "Epoch 31/50\n",
            "\tTrain Loss: 1.417 | Train Acc: 47.84%\n",
            "\t Val. Loss: 1.506 |  Val. Acc: 38.75% \n",
            "\n",
            "Epoch 32/50\n",
            "\tTrain Loss: 1.413 | Train Acc: 48.14%\n",
            "\t Val. Loss: 1.504 |  Val. Acc: 38.57% \n",
            "\n",
            "Epoch 33/50\n",
            "\tTrain Loss: 1.407 | Train Acc: 48.55%\n",
            "\t Val. Loss: 1.504 |  Val. Acc: 38.80% \n",
            "\n",
            "Epoch 34/50\n",
            "\tTrain Loss: 1.402 | Train Acc: 48.97%\n",
            "\t Val. Loss: 1.502 |  Val. Acc: 38.89% \n",
            "\n",
            "Epoch 35/50\n",
            "\tTrain Loss: 1.396 | Train Acc: 49.54%\n",
            "\t Val. Loss: 1.501 |  Val. Acc: 39.36% \n",
            "\n",
            "Epoch 36/50\n",
            "\tTrain Loss: 1.391 | Train Acc: 50.31%\n",
            "\t Val. Loss: 1.500 |  Val. Acc: 39.45% \n",
            "\n",
            "Epoch 37/50\n",
            "\tTrain Loss: 1.385 | Train Acc: 51.70%\n",
            "\t Val. Loss: 1.499 |  Val. Acc: 39.45% \n",
            "\n",
            "Epoch 38/50\n",
            "\tTrain Loss: 1.378 | Train Acc: 53.03%\n",
            "\t Val. Loss: 1.499 |  Val. Acc: 39.54% \n",
            "\n",
            "Epoch 39/50\n",
            "\tTrain Loss: 1.372 | Train Acc: 54.38%\n",
            "\t Val. Loss: 1.500 |  Val. Acc: 39.59% \n",
            "\n",
            "Epoch 40/50\n",
            "\tTrain Loss: 1.365 | Train Acc: 55.69%\n",
            "\t Val. Loss: 1.499 |  Val. Acc: 39.59% \n",
            "\n",
            "Epoch 41/50\n",
            "\tTrain Loss: 1.358 | Train Acc: 56.94%\n",
            "\t Val. Loss: 1.498 |  Val. Acc: 39.45% \n",
            "\n",
            "Epoch 42/50\n",
            "\tTrain Loss: 1.352 | Train Acc: 57.82%\n",
            "\t Val. Loss: 1.497 |  Val. Acc: 39.26% \n",
            "\n",
            "Epoch 43/50\n",
            "\tTrain Loss: 1.345 | Train Acc: 58.63%\n",
            "\t Val. Loss: 1.499 |  Val. Acc: 38.47% \n",
            "\n",
            "Epoch 44/50\n",
            "\tTrain Loss: 1.338 | Train Acc: 59.49%\n",
            "\t Val. Loss: 1.499 |  Val. Acc: 38.61% \n",
            "\n",
            "Epoch 45/50\n",
            "\tTrain Loss: 1.332 | Train Acc: 60.30%\n",
            "\t Val. Loss: 1.499 |  Val. Acc: 38.84% \n",
            "\n",
            "Epoch 46/50\n",
            "\tTrain Loss: 1.325 | Train Acc: 60.92%\n",
            "\t Val. Loss: 1.499 |  Val. Acc: 38.70% \n",
            "\n",
            "Epoch 47/50\n",
            "\tTrain Loss: 1.319 | Train Acc: 61.52%\n",
            "\t Val. Loss: 1.498 |  Val. Acc: 38.61% \n",
            "\n",
            "Epoch 48/50\n",
            "\tTrain Loss: 1.313 | Train Acc: 62.10%\n",
            "\t Val. Loss: 1.499 |  Val. Acc: 38.70% \n",
            "\n",
            "Epoch 49/50\n",
            "\tTrain Loss: 1.307 | Train Acc: 62.79%\n",
            "\t Val. Loss: 1.502 |  Val. Acc: 38.70% \n",
            "\n",
            "Epoch 50/50\n",
            "\tTrain Loss: 1.301 | Train Acc: 63.30%\n",
            "\t Val. Loss: 1.501 |  Val. Acc: 38.80% \n",
            "\n"
          ],
          "name": "stdout"
        }
      ]
    },
    {
      "cell_type": "markdown",
      "metadata": {
        "id": "LZgzB0ZkHVTI"
      },
      "source": [
        "## Model Testing"
      ]
    },
    {
      "cell_type": "code",
      "metadata": {
        "id": "aZZfnWo0abRx"
      },
      "source": [
        "# #load weights and tokenizer\n",
        "\n",
        "# path='./saved_weights.pt'\n",
        "# model.load_state_dict(torch.load(path));\n",
        "# model.eval();\n",
        "# tokenizer_file = open('./tokenizer.pkl', 'rb')\n",
        "# tokenizer = pickle.load(tokenizer_file)\n",
        "\n",
        "# #inference \n",
        "\n",
        "# import spacy\n",
        "# nlp = spacy.load('en')\n",
        "\n",
        "# def classify_tweet(tweet):\n",
        "    \n",
        "#     categories = {0: \"Negative\", 1:\"Positive\", 2:\"Neutral\"}\n",
        "    \n",
        "#     # tokenize the tweet \n",
        "#     tokenized = [tok.text for tok in nlp.tokenizer(tweet)] \n",
        "#     # convert to integer sequence using predefined tokenizer dictionary\n",
        "#     indexed = [tokenizer[t] for t in tokenized]        \n",
        "#     # compute no. of words        \n",
        "#     length = [len(indexed)]\n",
        "#     # convert to tensor                                    \n",
        "#     tensor = torch.LongTensor(indexed).to(device)   \n",
        "#     # reshape in form of batch, no. of words           \n",
        "#     tensor = tensor.unsqueeze(1).T  \n",
        "#     # convert to tensor                          \n",
        "#     length_tensor = torch.LongTensor(length)\n",
        "#     # Get the model prediction                  \n",
        "#     prediction = model(tensor, length_tensor)\n",
        "\n",
        "#     _, pred = torch.max(prediction, 1) \n",
        "    \n",
        "#     return categories[pred.item()]"
      ],
      "execution_count": 34,
      "outputs": []
    },
    {
      "cell_type": "code",
      "metadata": {
        "id": "yTkHLEipIlM9"
      },
      "source": [
        "# classify_tweet(\"A valid explanation for why Trump won't let women on the golf course.\")"
      ],
      "execution_count": 170,
      "outputs": []
    },
    {
      "cell_type": "markdown",
      "metadata": {
        "id": "WVjCuKK_LVEF"
      },
      "source": [
        "## Discussion on Data Augmentation Techniques \n",
        "\n",
        "You might wonder exactly how you can augment text data. After all, you can’t really flip it horizontally as you can an image! :D \n",
        "\n",
        "In contrast to data augmentation in images, augmentation techniques on data is very specific to final product you are building. As its general usage on any type of textual data doesn't provides a significant performance boost, that's why unlike torchvision, torchtext doesn’t offer a augmentation pipeline. Due to powerful models as transformers, augmentation tecnhiques are not so preferred now-a-days. But its better to know about some techniques with text that will provide your model with a little more information for training. \n",
        "\n",
        "### Synonym Replacement\n",
        "\n",
        "First, you could replace words in the sentence with synonyms, like so:\n",
        "\n",
        "    The dog slept on the mat\n",
        "\n",
        "could become\n",
        "\n",
        "    The dog slept on the rug\n",
        "\n",
        "Aside from the dog's insistence that a rug is much softer than a mat, the meaning of the sentence hasn’t changed. But mat and rug will be mapped to different indices in the vocabulary, so the model will learn that the two sentences map to the same label, and hopefully that there’s a connection between those two words, as everything else in the sentences is the same."
      ]
    },
    {
      "cell_type": "markdown",
      "metadata": {
        "id": "T_uEfWJpL6Nq"
      },
      "source": [
        "### Random Insertion\n",
        "A random insertion technique looks at a sentence and then randomly inserts synonyms of existing non-stopwords into the sentence n times. Assuming you have a way of getting a synonym of a word and a way of eliminating stopwords (common words such as and, it, the, etc.), shown, but not implemented, in this function via get_synonyms() and get_stopwords(), an implementation of this would be as follows:\n"
      ]
    },
    {
      "cell_type": "code",
      "metadata": {
        "id": "7Alm5D7WIvAC"
      },
      "source": [
        "def random_insertion(sentence, n = 2): \n",
        "    sentence = sentence.split()\n",
        "    words = remove_stopwords(sentence) \n",
        "    for _ in range(n):\n",
        "        new_synonym = get_synonyms(random.choice(words))\n",
        "        sentence.insert(randrange(len(sentence)+1), new_synonym) \n",
        "    return ' '.join(sentence)"
      ],
      "execution_count": null,
      "outputs": []
    },
    {
      "cell_type": "markdown",
      "metadata": {
        "id": "gqLWzwJ3Mm8h"
      },
      "source": [
        "## Random Deletion\n",
        "As the name suggests, random deletion deletes words from a sentence. Given a probability parameter p, it will go through the sentence and decide whether to delete a word or not based on that random probability. Consider of it as pixel dropouts while treating images."
      ]
    },
    {
      "cell_type": "code",
      "metadata": {
        "id": "-7Dz7JJfMqyC"
      },
      "source": [
        "def random_deletion(sentence, p=0.5): \n",
        "    words = sentence.split()\n",
        "    if len(words) == 1: # return if single word\n",
        "        return words\n",
        "    remaining = list(filter(lambda x: random.uniform(0,1) > p,words)) \n",
        "    if len(remaining) == 0: # if not left, sample a random word\n",
        "        return ' '.join([random.choice(words)])\n",
        "    else:\n",
        "        return ' '.join(remaining)"
      ],
      "execution_count": null,
      "outputs": []
    },
    {
      "cell_type": "markdown",
      "metadata": {
        "id": "zOIbi5WzO5OU"
      },
      "source": [
        "### Random Swap\n",
        "The random swap augmentation takes a sentence and then swaps words within it n times, with each iteration working on the previously swapped sentence. Here we sample two random numbers based on the length of the sentence, and then just keep swapping until we hit n."
      ]
    },
    {
      "cell_type": "code",
      "metadata": {
        "id": "LnkbG15HO3Yj"
      },
      "source": [
        "def random_swap(sentence, n=3):\n",
        "    words = sentence.split()\n",
        "    length = range(len(words)) \n",
        "    for _ in range(n):\n",
        "        idx1, idx2 = random.sample(length, 2)\n",
        "        words[idx1], words[idx2] = words[idx2], words[idx1] \n",
        "    return ' '.join(words)"
      ],
      "execution_count": null,
      "outputs": []
    },
    {
      "cell_type": "markdown",
      "metadata": {
        "id": "599NpwfMR5Vm"
      },
      "source": [
        "For more on this please go through this [paper](https://arxiv.org/pdf/1901.11196.pdf)."
      ]
    },
    {
      "cell_type": "markdown",
      "metadata": {
        "id": "a5aeKuNCRGip"
      },
      "source": [
        "### Back Translation\n",
        "\n",
        "Another popular approach for augmenting text datasets is back translation. This involves translating a sentence from our target language into one or more other languages and then translating all of them back to the original language. We can use the Python library googletrans for this purpose. "
      ]
    },
    {
      "cell_type": "code",
      "metadata": {
        "id": "GyT_MYtSWseB"
      },
      "source": [
        "!pip install googletrans"
      ],
      "execution_count": null,
      "outputs": []
    },
    {
      "cell_type": "code",
      "metadata": {
        "id": "pHhNBbYrRXNy"
      },
      "source": [
        "import random\n",
        "import googletrans\n",
        "from  googletrans import Translator\n",
        "\n",
        "translator = Translator()\n",
        "sentence = [ 'The dog slept on the rug']\n",
        "\n",
        "available_langs = list(googletrans.LANGUAGES.keys()) \n",
        "trans_lang = random.choice(available_langs) \n",
        "print(f\"Translating to {googletrans.LANGUAGES[trans_lang]}\")\n",
        "\n",
        "translations = translator.translate(sentence, dest=trans_lang) \n",
        "t_text = [t.text for t in translations]\n",
        "print(t_text)\n",
        "\n",
        "translations_en_random = translator.translate(t_text, src=trans_lang, dest='en') \n",
        "en_text = [t.text for t in translations_en_random]\n",
        "print(en_text)"
      ],
      "execution_count": null,
      "outputs": []
    },
    {
      "cell_type": "code",
      "metadata": {
        "id": "gFx2W_fUYJKx"
      },
      "source": [
        "s = 'The dog slept on the rug'\r\n",
        "back_translate(s)"
      ],
      "execution_count": null,
      "outputs": []
    }
  ]
}