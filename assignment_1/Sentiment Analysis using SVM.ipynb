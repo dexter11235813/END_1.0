{
 "cells": [
  {
   "cell_type": "markdown",
   "metadata": {
    "id": "ljVmH4TqfkZs"
   },
   "source": [
    "# SVM based Sentiment Analysis\n",
    "Let's perform a SVM based Sentiment Analysis based on Support a Vector Machine Model on Twitter Sentiments of US Airline passengers.\n",
    "\n",
    "**Fill in the blanks**"
   ]
  },
  {
   "cell_type": "code",
   "execution_count": 1,
   "metadata": {
    "id": "tF_pfwune6tY"
   },
   "outputs": [
    {
     "name": "stderr",
     "output_type": "stream",
     "text": [
      "[nltk_data] Downloading package stopwords to\n",
      "[nltk_data]     C:\\Users\\MY\\AppData\\Roaming\\nltk_data...\n",
      "[nltk_data]   Package stopwords is already up-to-date!\n"
     ]
    },
    {
     "data": {
      "text/plain": [
       "True"
      ]
     },
     "execution_count": 1,
     "metadata": {},
     "output_type": "execute_result"
    }
   ],
   "source": [
    "import nltk\n",
    "nltk.download('stopwords')"
   ]
  },
  {
   "cell_type": "markdown",
   "metadata": {
    "id": "Vcu9OCGWf8Kr"
   },
   "source": [
    "## Import Libraries"
   ]
  },
  {
   "cell_type": "code",
   "execution_count": 2,
   "metadata": {
    "id": "xJQkq7NJft9P"
   },
   "outputs": [],
   "source": [
    "import numpy as np\n",
    "import pandas as pd\n",
    "from bs4 import BeautifulSoup\n",
    "import matplotlib.pyplot as plt\n",
    "%matplotlib inline\n",
    "import seaborn as sns\n",
    "\n",
    "from nltk.corpus import stopwords\n",
    "from nltk.stem import SnowballStemmer\n",
    "from nltk.tokenize import TweetTokenizer\n",
    "\n",
    "from sklearn.feature_extraction.text import CountVectorizer, TfidfTransformer\n",
    "from sklearn.linear_model import LogisticRegression\n",
    "from sklearn.svm import SVC\n",
    "from sklearn.model_selection import train_test_split, StratifiedKFold, cross_val_score\n",
    "from sklearn.pipeline import make_pipeline, Pipeline\n",
    "from sklearn.model_selection import GridSearchCV\n",
    "from sklearn.metrics import make_scorer, accuracy_score, f1_score\n",
    "from sklearn.metrics import roc_curve, auc\n",
    "from sklearn.metrics import confusion_matrix, roc_auc_score, recall_score, precision_score"
   ]
  },
  {
   "cell_type": "markdown",
   "metadata": {
    "id": "YUojZ_-Ef0uO"
   },
   "source": [
    "## Import data\n"
   ]
  },
  {
   "cell_type": "code",
   "execution_count": 4,
   "metadata": {
    "id": "JX3uxVzUf1bw"
   },
   "outputs": [
    {
     "data": {
      "text/html": [
       "<div>\n",
       "<style scoped>\n",
       "    .dataframe tbody tr th:only-of-type {\n",
       "        vertical-align: middle;\n",
       "    }\n",
       "\n",
       "    .dataframe tbody tr th {\n",
       "        vertical-align: top;\n",
       "    }\n",
       "\n",
       "    .dataframe thead th {\n",
       "        text-align: right;\n",
       "    }\n",
       "</style>\n",
       "<table border=\"1\" class=\"dataframe\">\n",
       "  <thead>\n",
       "    <tr style=\"text-align: right;\">\n",
       "      <th></th>\n",
       "      <th>tweet_id</th>\n",
       "      <th>airline_sentiment</th>\n",
       "      <th>airline_sentiment_confidence</th>\n",
       "      <th>negativereason</th>\n",
       "      <th>negativereason_confidence</th>\n",
       "      <th>airline</th>\n",
       "      <th>airline_sentiment_gold</th>\n",
       "      <th>name</th>\n",
       "      <th>negativereason_gold</th>\n",
       "      <th>retweet_count</th>\n",
       "      <th>text</th>\n",
       "      <th>tweet_coord</th>\n",
       "      <th>tweet_created</th>\n",
       "      <th>tweet_location</th>\n",
       "      <th>user_timezone</th>\n",
       "    </tr>\n",
       "  </thead>\n",
       "  <tbody>\n",
       "    <tr>\n",
       "      <th>0</th>\n",
       "      <td>570306133677760513</td>\n",
       "      <td>neutral</td>\n",
       "      <td>1.0000</td>\n",
       "      <td>NaN</td>\n",
       "      <td>NaN</td>\n",
       "      <td>Virgin America</td>\n",
       "      <td>NaN</td>\n",
       "      <td>cairdin</td>\n",
       "      <td>NaN</td>\n",
       "      <td>0</td>\n",
       "      <td>@VirginAmerica What @dhepburn said.</td>\n",
       "      <td>NaN</td>\n",
       "      <td>2015-02-24 11:35:52 -0800</td>\n",
       "      <td>NaN</td>\n",
       "      <td>Eastern Time (US &amp; Canada)</td>\n",
       "    </tr>\n",
       "    <tr>\n",
       "      <th>1</th>\n",
       "      <td>570301130888122368</td>\n",
       "      <td>positive</td>\n",
       "      <td>0.3486</td>\n",
       "      <td>NaN</td>\n",
       "      <td>0.0000</td>\n",
       "      <td>Virgin America</td>\n",
       "      <td>NaN</td>\n",
       "      <td>jnardino</td>\n",
       "      <td>NaN</td>\n",
       "      <td>0</td>\n",
       "      <td>@VirginAmerica plus you've added commercials t...</td>\n",
       "      <td>NaN</td>\n",
       "      <td>2015-02-24 11:15:59 -0800</td>\n",
       "      <td>NaN</td>\n",
       "      <td>Pacific Time (US &amp; Canada)</td>\n",
       "    </tr>\n",
       "    <tr>\n",
       "      <th>2</th>\n",
       "      <td>570301083672813571</td>\n",
       "      <td>neutral</td>\n",
       "      <td>0.6837</td>\n",
       "      <td>NaN</td>\n",
       "      <td>NaN</td>\n",
       "      <td>Virgin America</td>\n",
       "      <td>NaN</td>\n",
       "      <td>yvonnalynn</td>\n",
       "      <td>NaN</td>\n",
       "      <td>0</td>\n",
       "      <td>@VirginAmerica I didn't today... Must mean I n...</td>\n",
       "      <td>NaN</td>\n",
       "      <td>2015-02-24 11:15:48 -0800</td>\n",
       "      <td>Lets Play</td>\n",
       "      <td>Central Time (US &amp; Canada)</td>\n",
       "    </tr>\n",
       "    <tr>\n",
       "      <th>3</th>\n",
       "      <td>570301031407624196</td>\n",
       "      <td>negative</td>\n",
       "      <td>1.0000</td>\n",
       "      <td>Bad Flight</td>\n",
       "      <td>0.7033</td>\n",
       "      <td>Virgin America</td>\n",
       "      <td>NaN</td>\n",
       "      <td>jnardino</td>\n",
       "      <td>NaN</td>\n",
       "      <td>0</td>\n",
       "      <td>@VirginAmerica it's really aggressive to blast...</td>\n",
       "      <td>NaN</td>\n",
       "      <td>2015-02-24 11:15:36 -0800</td>\n",
       "      <td>NaN</td>\n",
       "      <td>Pacific Time (US &amp; Canada)</td>\n",
       "    </tr>\n",
       "    <tr>\n",
       "      <th>4</th>\n",
       "      <td>570300817074462722</td>\n",
       "      <td>negative</td>\n",
       "      <td>1.0000</td>\n",
       "      <td>Can't Tell</td>\n",
       "      <td>1.0000</td>\n",
       "      <td>Virgin America</td>\n",
       "      <td>NaN</td>\n",
       "      <td>jnardino</td>\n",
       "      <td>NaN</td>\n",
       "      <td>0</td>\n",
       "      <td>@VirginAmerica and it's a really big bad thing...</td>\n",
       "      <td>NaN</td>\n",
       "      <td>2015-02-24 11:14:45 -0800</td>\n",
       "      <td>NaN</td>\n",
       "      <td>Pacific Time (US &amp; Canada)</td>\n",
       "    </tr>\n",
       "  </tbody>\n",
       "</table>\n",
       "</div>"
      ],
      "text/plain": [
       "             tweet_id airline_sentiment  airline_sentiment_confidence  \\\n",
       "0  570306133677760513           neutral                        1.0000   \n",
       "1  570301130888122368          positive                        0.3486   \n",
       "2  570301083672813571           neutral                        0.6837   \n",
       "3  570301031407624196          negative                        1.0000   \n",
       "4  570300817074462722          negative                        1.0000   \n",
       "\n",
       "  negativereason  negativereason_confidence         airline  \\\n",
       "0            NaN                        NaN  Virgin America   \n",
       "1            NaN                     0.0000  Virgin America   \n",
       "2            NaN                        NaN  Virgin America   \n",
       "3     Bad Flight                     0.7033  Virgin America   \n",
       "4     Can't Tell                     1.0000  Virgin America   \n",
       "\n",
       "  airline_sentiment_gold        name negativereason_gold  retweet_count  \\\n",
       "0                    NaN     cairdin                 NaN              0   \n",
       "1                    NaN    jnardino                 NaN              0   \n",
       "2                    NaN  yvonnalynn                 NaN              0   \n",
       "3                    NaN    jnardino                 NaN              0   \n",
       "4                    NaN    jnardino                 NaN              0   \n",
       "\n",
       "                                                text tweet_coord  \\\n",
       "0                @VirginAmerica What @dhepburn said.         NaN   \n",
       "1  @VirginAmerica plus you've added commercials t...         NaN   \n",
       "2  @VirginAmerica I didn't today... Must mean I n...         NaN   \n",
       "3  @VirginAmerica it's really aggressive to blast...         NaN   \n",
       "4  @VirginAmerica and it's a really big bad thing...         NaN   \n",
       "\n",
       "               tweet_created tweet_location               user_timezone  \n",
       "0  2015-02-24 11:35:52 -0800            NaN  Eastern Time (US & Canada)  \n",
       "1  2015-02-24 11:15:59 -0800            NaN  Pacific Time (US & Canada)  \n",
       "2  2015-02-24 11:15:48 -0800      Lets Play  Central Time (US & Canada)  \n",
       "3  2015-02-24 11:15:36 -0800            NaN  Pacific Time (US & Canada)  \n",
       "4  2015-02-24 11:14:45 -0800            NaN  Pacific Time (US & Canada)  "
      ]
     },
     "execution_count": 4,
     "metadata": {},
     "output_type": "execute_result"
    }
   ],
   "source": [
    "data = pd.read_csv(\"Tweets_Airline.csv\")\n",
    "data.head()"
   ]
  },
  {
   "cell_type": "markdown",
   "metadata": {
    "id": "-BZpfoYfgDkQ"
   },
   "source": [
    "## We take only the tweets we are very confident with. We use the BeautifulSoup library to process html encoding present in some tweets."
   ]
  },
  {
   "cell_type": "code",
   "execution_count": 5,
   "metadata": {
    "id": "LwFYL4JYgET1"
   },
   "outputs": [],
   "source": [
    "data_clean = data.copy()\n",
    "data_clean = data_clean[data_clean['airline_sentiment_confidence'] > 0.65]\n",
    "data_clean['text_clean'] = data_clean['text'].apply(lambda x: BeautifulSoup(x, \"lxml\").text)"
   ]
  },
  {
   "cell_type": "markdown",
   "metadata": {
    "id": "zNpo6rKtgIjz"
   },
   "source": [
    "## For simplicity we are going to distinguish two cases: tweets with negative sentiment and tweets with non-negative sentiment"
   ]
  },
  {
   "cell_type": "code",
   "execution_count": 6,
   "metadata": {},
   "outputs": [
    {
     "data": {
      "text/plain": [
       "<bound method NDFrame.head of                  tweet_id airline_sentiment  airline_sentiment_confidence  \\\n",
       "0      570306133677760513           neutral                        1.0000   \n",
       "2      570301083672813571           neutral                        0.6837   \n",
       "3      570301031407624196          negative                        1.0000   \n",
       "4      570300817074462722          negative                        1.0000   \n",
       "5      570300767074181121          negative                        1.0000   \n",
       "6      570300616901320704          positive                        0.6745   \n",
       "8      570299953286942721          positive                        0.6559   \n",
       "9      570295459631263746          positive                        1.0000   \n",
       "10     570294189143031808           neutral                        0.6769   \n",
       "11     570289724453216256          positive                        1.0000   \n",
       "12     570289584061480960          positive                        1.0000   \n",
       "14     570285904809598977          positive                        1.0000   \n",
       "15     570282469121007616          negative                        0.6842   \n",
       "16     570277724385734656          positive                        1.0000   \n",
       "17     570276917301137409          negative                        1.0000   \n",
       "18     570270684619923457          positive                        1.0000   \n",
       "19     570267956648792064          positive                        1.0000   \n",
       "20     570265883513384960          negative                        0.6705   \n",
       "21     570264145116819457          positive                        1.0000   \n",
       "22     570259420287868928          positive                        1.0000   \n",
       "23     570258822297579520           neutral                        1.0000   \n",
       "24     570256553502068736          negative                        1.0000   \n",
       "25     570249102404923392          negative                        1.0000   \n",
       "26     570239632807370753          negative                        1.0000   \n",
       "27     570217831557677057           neutral                        0.6854   \n",
       "28     570207886493782019          negative                        1.0000   \n",
       "30     570114021854212096          negative                        1.0000   \n",
       "31     570094701371469825           neutral                        1.0000   \n",
       "32     570088404156698625          negative                        1.0000   \n",
       "33     570084582780899328          negative                        1.0000   \n",
       "...                   ...               ...                           ...   \n",
       "14608  569592177312923650          negative                        1.0000   \n",
       "14609  569592148338876416          negative                        1.0000   \n",
       "14610  569591765793165312          negative                        1.0000   \n",
       "14611  569591730506371072           neutral                        1.0000   \n",
       "14612  569591700416393216          negative                        1.0000   \n",
       "14613  569591653121597440          negative                        1.0000   \n",
       "14614  569591540944756737          negative                        1.0000   \n",
       "14615  569591533617307648          negative                        1.0000   \n",
       "14616  569591393540288512          negative                        1.0000   \n",
       "14617  569591285150908416          positive                        1.0000   \n",
       "14618  569591136534319105          negative                        1.0000   \n",
       "14619  569590988395708416          positive                        1.0000   \n",
       "14620  569590965880532993          negative                        1.0000   \n",
       "14621  569590892085915649          negative                        1.0000   \n",
       "14622  569590191758962688          negative                        1.0000   \n",
       "14624  569589959088173056          negative                        1.0000   \n",
       "14625  569589643487928321          positive                        1.0000   \n",
       "14626  569589460226183168          negative                        1.0000   \n",
       "14627  569588816438169600          negative                        1.0000   \n",
       "14628  569588651925098496          positive                        1.0000   \n",
       "14629  569588591602458624          negative                        1.0000   \n",
       "14630  569588473050611712          positive                        1.0000   \n",
       "14631  569588464896876545          negative                        1.0000   \n",
       "14632  569587813856841728           neutral                        0.6760   \n",
       "14633  569587705937600512          negative                        1.0000   \n",
       "14634  569587691626622976          negative                        0.6684   \n",
       "14636  569587371693355008          negative                        1.0000   \n",
       "14637  569587242672398336           neutral                        1.0000   \n",
       "14638  569587188687634433          negative                        1.0000   \n",
       "14639  569587140490866689           neutral                        0.6771   \n",
       "\n",
       "                    negativereason  negativereason_confidence         airline  \\\n",
       "0                              NaN                        NaN  Virgin America   \n",
       "2                              NaN                        NaN  Virgin America   \n",
       "3                       Bad Flight                     0.7033  Virgin America   \n",
       "4                       Can't Tell                     1.0000  Virgin America   \n",
       "5                       Can't Tell                     0.6842  Virgin America   \n",
       "6                              NaN                     0.0000  Virgin America   \n",
       "8                              NaN                        NaN  Virgin America   \n",
       "9                              NaN                        NaN  Virgin America   \n",
       "10                             NaN                     0.0000  Virgin America   \n",
       "11                             NaN                        NaN  Virgin America   \n",
       "12                             NaN                        NaN  Virgin America   \n",
       "14                             NaN                        NaN  Virgin America   \n",
       "15                     Late Flight                     0.3684  Virgin America   \n",
       "16                             NaN                        NaN  Virgin America   \n",
       "17                      Bad Flight                     1.0000  Virgin America   \n",
       "18                             NaN                        NaN  Virgin America   \n",
       "19                             NaN                        NaN  Virgin America   \n",
       "20                      Can't Tell                     0.3614  Virgin America   \n",
       "21                             NaN                        NaN  Virgin America   \n",
       "22                             NaN                        NaN  Virgin America   \n",
       "23                             NaN                        NaN  Virgin America   \n",
       "24          Customer Service Issue                     0.3557  Virgin America   \n",
       "25          Customer Service Issue                     1.0000  Virgin America   \n",
       "26                      Can't Tell                     0.6614  Virgin America   \n",
       "27                             NaN                        NaN  Virgin America   \n",
       "28                      Bad Flight                     1.0000  Virgin America   \n",
       "30         Flight Booking Problems                     1.0000  Virgin America   \n",
       "31                             NaN                        NaN  Virgin America   \n",
       "32          Customer Service Issue                     1.0000  Virgin America   \n",
       "33          Customer Service Issue                     1.0000  Virgin America   \n",
       "...                            ...                        ...             ...   \n",
       "14608             Cancelled Flight                     1.0000        American   \n",
       "14609  Flight Attendant Complaints                     0.7080        American   \n",
       "14610                    longlines                     0.6788        American   \n",
       "14611                          NaN                        NaN        American   \n",
       "14612             Cancelled Flight                     0.6333        American   \n",
       "14613       Customer Service Issue                     0.7255        American   \n",
       "14614       Customer Service Issue                     1.0000        American   \n",
       "14615             Cancelled Flight                     1.0000        American   \n",
       "14616             Cancelled Flight                     1.0000        American   \n",
       "14617                          NaN                        NaN        American   \n",
       "14618                   Bad Flight                     0.6774        American   \n",
       "14619                          NaN                        NaN        American   \n",
       "14620       Customer Service Issue                     1.0000        American   \n",
       "14621       Customer Service Issue                     1.0000        American   \n",
       "14622                  Late Flight                     0.3358        American   \n",
       "14624                   Can't Tell                     1.0000        American   \n",
       "14625                          NaN                        NaN        American   \n",
       "14626                  Late Flight                     1.0000        American   \n",
       "14627             Cancelled Flight                     1.0000        American   \n",
       "14628                          NaN                        NaN        American   \n",
       "14629       Customer Service Issue                     1.0000        American   \n",
       "14630                          NaN                        NaN        American   \n",
       "14631                   Bad Flight                     1.0000        American   \n",
       "14632                          NaN                     0.0000        American   \n",
       "14633             Cancelled Flight                     1.0000        American   \n",
       "14634                  Late Flight                     0.6684        American   \n",
       "14636       Customer Service Issue                     1.0000        American   \n",
       "14637                          NaN                        NaN        American   \n",
       "14638       Customer Service Issue                     0.6659        American   \n",
       "14639                          NaN                     0.0000        American   \n",
       "\n",
       "      airline_sentiment_gold             name negativereason_gold  \\\n",
       "0                        NaN          cairdin                 NaN   \n",
       "2                        NaN       yvonnalynn                 NaN   \n",
       "3                        NaN         jnardino                 NaN   \n",
       "4                        NaN         jnardino                 NaN   \n",
       "5                        NaN         jnardino                 NaN   \n",
       "6                        NaN       cjmcginnis                 NaN   \n",
       "8                        NaN         dhepburn                 NaN   \n",
       "9                        NaN       YupitsTate                 NaN   \n",
       "10                       NaN  idk_but_youtube                 NaN   \n",
       "11                       NaN     HyperCamiLax                 NaN   \n",
       "12                       NaN     HyperCamiLax                 NaN   \n",
       "14                       NaN         sjespers                 NaN   \n",
       "15                       NaN  smartwatermelon                 NaN   \n",
       "16                       NaN    ItzBrianHunty                 NaN   \n",
       "17                       NaN    heatherovieda                 NaN   \n",
       "18                       NaN     thebrandiray                 NaN   \n",
       "19                       NaN        JNLpierce                 NaN   \n",
       "20                       NaN           MISSGJ                 NaN   \n",
       "21                       NaN           DT_Les                 NaN   \n",
       "22                       NaN       ElvinaBeck                 NaN   \n",
       "23                       NaN     rjlynch21086                 NaN   \n",
       "24                       NaN      ayeevickiee                 NaN   \n",
       "25                       NaN          Leora13                 NaN   \n",
       "26                       NaN    meredithjlynn                 NaN   \n",
       "27                       NaN       AdamSinger                 NaN   \n",
       "28                       NaN  blackjackpro911                 NaN   \n",
       "30                       NaN    jordanpichler                 NaN   \n",
       "31                       NaN     JCervantezzz                 NaN   \n",
       "32                       NaN      Cuschoolie1                 NaN   \n",
       "33                       NaN   amanduhmccarty                 NaN   \n",
       "...                      ...              ...                 ...   \n",
       "14608                    NaN      WishUpon_26                 NaN   \n",
       "14609                    NaN         Jess_JCW                 NaN   \n",
       "14610                    NaN         Jess_JCW                 NaN   \n",
       "14611                    NaN      TrueChief77                 NaN   \n",
       "14612                    NaN    tcunningham10                 NaN   \n",
       "14613                    NaN     kiabeveridge                 NaN   \n",
       "14614                    NaN         GregPoos                 NaN   \n",
       "14615                    NaN       tim_sheehy                 NaN   \n",
       "14616                    NaN    TheJoshAbides                 NaN   \n",
       "14617                    NaN          iambmac                 NaN   \n",
       "14618                    NaN  A_for_AdNauseam                 NaN   \n",
       "14619                    NaN      howiemandel                 NaN   \n",
       "14620                    NaN         KCBobolz                 NaN   \n",
       "14621                    NaN      andyellwood                 NaN   \n",
       "14622                    NaN    Jill_Lynnette                 NaN   \n",
       "14624                    NaN         yourlama                 NaN   \n",
       "14625                    NaN   DrCaseyJRudkin                 NaN   \n",
       "14626                    NaN       cataattack                 NaN   \n",
       "14627                    NaN   KristinaMeyer7                 NaN   \n",
       "14628                    NaN         jlhalldc                 NaN   \n",
       "14629                    NaN      jontgreen89                 NaN   \n",
       "14630                    NaN   Laurelinesblog                 NaN   \n",
       "14631                    NaN         MDDavis7                 NaN   \n",
       "14632                    NaN       Chad_SMFYM                 NaN   \n",
       "14633                    NaN  RussellsWriting                 NaN   \n",
       "14634                    NaN    GolfWithWoody                 NaN   \n",
       "14636                    NaN         itsropes                 NaN   \n",
       "14637                    NaN         sanyabun                 NaN   \n",
       "14638                    NaN       SraJackson                 NaN   \n",
       "14639                    NaN        daviddtwu                 NaN   \n",
       "\n",
       "       retweet_count                                               text  \\\n",
       "0                  0                @VirginAmerica What @dhepburn said.   \n",
       "2                  0  @VirginAmerica I didn't today... Must mean I n...   \n",
       "3                  0  @VirginAmerica it's really aggressive to blast...   \n",
       "4                  0  @VirginAmerica and it's a really big bad thing...   \n",
       "5                  0  @VirginAmerica seriously would pay $30 a fligh...   \n",
       "6                  0  @VirginAmerica yes, nearly every time I fly VX...   \n",
       "8                  0    @virginamerica Well, I didn't…but NOW I DO! :-D   \n",
       "9                  0  @VirginAmerica it was amazing, and arrived an ...   \n",
       "10                 0  @VirginAmerica did you know that suicide is th...   \n",
       "11                 0  @VirginAmerica I &lt;3 pretty graphics. so muc...   \n",
       "12                 0  @VirginAmerica This is such a great deal! Alre...   \n",
       "14                 0                             @VirginAmerica Thanks!   \n",
       "15                 0      @VirginAmerica SFO-PDX schedule is still MIA.   \n",
       "16                 0  @VirginAmerica So excited for my first cross c...   \n",
       "17                 0  @VirginAmerica  I flew from NYC to SFO last we...   \n",
       "18                 0                    I ❤️ flying @VirginAmerica. ☺️👍   \n",
       "19                 0  @VirginAmerica you know what would be amazingl...   \n",
       "20                 0  @VirginAmerica why are your first fares in May...   \n",
       "21                 0  @VirginAmerica I love this graphic. http://t.c...   \n",
       "22                 0  @VirginAmerica I love the hipster innovation. ...   \n",
       "23                 0  @VirginAmerica will you be making BOS&gt;LAS n...   \n",
       "24                 0  @VirginAmerica you guys messed up my seating.....   \n",
       "25                 0  @VirginAmerica status match program.  I applie...   \n",
       "26                 0  @VirginAmerica What happened 2 ur vegan food o...   \n",
       "27                 0  @VirginAmerica do you miss me? Don't worry we'...   \n",
       "28                 0  @VirginAmerica amazing to me that we can't get...   \n",
       "30                 0  @VirginAmerica hi! I just bked a cool birthday...   \n",
       "31                 0  @VirginAmerica Are the hours of operation for ...   \n",
       "32                 0  @VirginAmerica help, left expensive headphones...   \n",
       "33                 0  @VirginAmerica awaiting my return phone call, ...   \n",
       "...              ...                                                ...   \n",
       "14608              0  @AmericanAir my flight was Cancelled Flightled...   \n",
       "14609              0  @AmericanAir &amp; if that wasn't enough, your...   \n",
       "14610              0  @AmericanAir I understand the weather issue bu...   \n",
       "14611              0  @AmericanAir guarantee no retribution? If so, ...   \n",
       "14612              0  @AmericanAir a friend is having flight Cancell...   \n",
       "14613              0  @AmericanAir I used the \"call back\" feature wi...   \n",
       "14614              0  @AmericanAir I need to be at work tomorrow at ...   \n",
       "14615              0  @AmericanAir  ugh Dump us in dfw w/no luggage ...   \n",
       "14616              0  @AmericanAir Cancelled Flights my flight, does...   \n",
       "14617              0            @AmericanAir DMing you now! Big thanks.   \n",
       "14618              0  @AmericanAir 3078 is overweight so you pull 2 ...   \n",
       "14619              3  @AmericanAir I love your company and your staf...   \n",
       "14620              0  @AmericanAir I wait 2+ hrs for CS to call me b...   \n",
       "14621              0  @AmericanAir I've been on hold for 55 mins abo...   \n",
       "14622              0  I just need a place to sleep when I land witho...   \n",
       "14624              0  @AmericanAir Call me Chairman, or call me Emer...   \n",
       "14625              0  @AmericanAir Flight 236 was great. Fantastic c...   \n",
       "14626              0  @AmericanAir Flight 953 NYC-Buenos Aires has b...   \n",
       "14627              0  @AmericanAir Flight Cancelled Flightled, can't...   \n",
       "14628              0  Thank you. “@AmericanAir: @jlhalldc Customer R...   \n",
       "14629              0  @AmericanAir How do I change my flight if the ...   \n",
       "14630              0                        @AmericanAir Thanks! He is.   \n",
       "14631              0  @AmericanAir thx for nothing on getting us out...   \n",
       "14632              0  “@AmericanAir: @TilleyMonsta George, that does...   \n",
       "14633              0  @AmericanAir my flight was Cancelled Flightled...   \n",
       "14634              0         @AmericanAir right on cue with the delays👌   \n",
       "14636              0  @AmericanAir leaving over 20 minutes Late Flig...   \n",
       "14637              0  @AmericanAir Please bring American Airlines to...   \n",
       "14638              0  @AmericanAir you have my money, you change my ...   \n",
       "14639              0  @AmericanAir we have 8 ppl so we need 2 know h...   \n",
       "\n",
       "                        tweet_coord              tweet_created  \\\n",
       "0                               NaN  2015-02-24 11:35:52 -0800   \n",
       "2                               NaN  2015-02-24 11:15:48 -0800   \n",
       "3                               NaN  2015-02-24 11:15:36 -0800   \n",
       "4                               NaN  2015-02-24 11:14:45 -0800   \n",
       "5                               NaN  2015-02-24 11:14:33 -0800   \n",
       "6                               NaN  2015-02-24 11:13:57 -0800   \n",
       "8                               NaN  2015-02-24 11:11:19 -0800   \n",
       "9                               NaN  2015-02-24 10:53:27 -0800   \n",
       "10                              NaN  2015-02-24 10:48:24 -0800   \n",
       "11                              NaN  2015-02-24 10:30:40 -0800   \n",
       "12                              NaN  2015-02-24 10:30:06 -0800   \n",
       "14                              NaN  2015-02-24 10:15:29 -0800   \n",
       "15                              NaN  2015-02-24 10:01:50 -0800   \n",
       "16                              NaN  2015-02-24 09:42:59 -0800   \n",
       "17                              NaN  2015-02-24 09:39:46 -0800   \n",
       "18                              NaN  2015-02-24 09:15:00 -0800   \n",
       "19                              NaN  2015-02-24 09:04:10 -0800   \n",
       "20                              NaN  2015-02-24 08:55:56 -0800   \n",
       "21      [40.74804263, -73.99295302]  2015-02-24 08:49:01 -0800   \n",
       "22                              NaN  2015-02-24 08:30:15 -0800   \n",
       "23                              NaN  2015-02-24 08:27:52 -0800   \n",
       "24                              NaN  2015-02-24 08:18:51 -0800   \n",
       "25                              NaN  2015-02-24 07:49:15 -0800   \n",
       "26                              NaN  2015-02-24 07:11:37 -0800   \n",
       "27                              NaN  2015-02-24 05:44:59 -0800   \n",
       "28        [42.361016, -71.02000488]  2015-02-24 05:05:28 -0800   \n",
       "30                              NaN  2015-02-23 22:52:29 -0800   \n",
       "31                              NaN  2015-02-23 21:35:43 -0800   \n",
       "32     [33.94209449, -118.40410103]  2015-02-23 21:10:41 -0800   \n",
       "33                              NaN  2015-02-23 20:55:30 -0800   \n",
       "...                             ...                        ...   \n",
       "14608                           NaN  2015-02-22 12:18:52 -0800   \n",
       "14609                           NaN  2015-02-22 12:18:45 -0800   \n",
       "14610                           NaN  2015-02-22 12:17:14 -0800   \n",
       "14611                           NaN  2015-02-22 12:17:05 -0800   \n",
       "14612   [40.46692522, -82.64567078]  2015-02-22 12:16:58 -0800   \n",
       "14613                           NaN  2015-02-22 12:16:47 -0800   \n",
       "14614                           NaN  2015-02-22 12:16:20 -0800   \n",
       "14615                           NaN  2015-02-22 12:16:18 -0800   \n",
       "14616                           NaN  2015-02-22 12:15:45 -0800   \n",
       "14617                           NaN  2015-02-22 12:15:19 -0800   \n",
       "14618                           NaN  2015-02-22 12:14:44 -0800   \n",
       "14619                           NaN  2015-02-22 12:14:08 -0800   \n",
       "14620                           NaN  2015-02-22 12:14:03 -0800   \n",
       "14621                           NaN  2015-02-22 12:13:45 -0800   \n",
       "14622                           NaN  2015-02-22 12:10:58 -0800   \n",
       "14624    [32.9070889, -97.03785947]  2015-02-22 12:10:03 -0800   \n",
       "14625   [40.64946781, -73.76624703]  2015-02-22 12:08:48 -0800   \n",
       "14626                           NaN  2015-02-22 12:08:04 -0800   \n",
       "14627                           NaN  2015-02-22 12:05:30 -0800   \n",
       "14628                           NaN  2015-02-22 12:04:51 -0800   \n",
       "14629                           NaN  2015-02-22 12:04:37 -0800   \n",
       "14630                           NaN  2015-02-22 12:04:09 -0800   \n",
       "14631                           NaN  2015-02-22 12:04:07 -0800   \n",
       "14632                           NaN  2015-02-22 12:01:31 -0800   \n",
       "14633                           NaN  2015-02-22 12:01:06 -0800   \n",
       "14634                           NaN  2015-02-22 12:01:02 -0800   \n",
       "14636                           NaN  2015-02-22 11:59:46 -0800   \n",
       "14637                           NaN  2015-02-22 11:59:15 -0800   \n",
       "14638                           NaN  2015-02-22 11:59:02 -0800   \n",
       "14639                           NaN  2015-02-22 11:58:51 -0800   \n",
       "\n",
       "                      tweet_location                user_timezone  \\\n",
       "0                                NaN   Eastern Time (US & Canada)   \n",
       "2                          Lets Play   Central Time (US & Canada)   \n",
       "3                                NaN   Pacific Time (US & Canada)   \n",
       "4                                NaN   Pacific Time (US & Canada)   \n",
       "5                                NaN   Pacific Time (US & Canada)   \n",
       "6                   San Francisco CA   Pacific Time (US & Canada)   \n",
       "8                          San Diego   Pacific Time (US & Canada)   \n",
       "9                        Los Angeles   Eastern Time (US & Canada)   \n",
       "10                   1/1 loner squad   Eastern Time (US & Canada)   \n",
       "11                               NYC             America/New_York   \n",
       "12                               NYC             America/New_York   \n",
       "14                 San Francisco, CA   Pacific Time (US & Canada)   \n",
       "15                     palo alto, ca   Pacific Time (US & Canada)   \n",
       "16                       west covina   Pacific Time (US & Canada)   \n",
       "17             this place called NYC   Eastern Time (US & Canada)   \n",
       "18      Somewhere celebrating life.        Atlantic Time (Canada)   \n",
       "19                  Boston | Waltham                        Quito   \n",
       "20                               NaN                          NaN   \n",
       "21                               NaN                          NaN   \n",
       "22                       Los Angeles   Pacific Time (US & Canada)   \n",
       "23                       Boston, MA    Eastern Time (US & Canada)   \n",
       "24                               714  Mountain Time (US & Canada)   \n",
       "25                               NaN                          NaN   \n",
       "26                               NaN                          NaN   \n",
       "27                 San Francisco, CA   Central Time (US & Canada)   \n",
       "28     San Mateo, CA & Las Vegas, NV                          NaN   \n",
       "30                               NaN                       Vienna   \n",
       "31         California, San Francisco   Pacific Time (US & Canada)   \n",
       "32                     Washington DC                        Quito   \n",
       "33                               NaN   Pacific Time (US & Canada)   \n",
       "...                              ...                          ...   \n",
       "14608                             KY   Eastern Time (US & Canada)   \n",
       "14609                         London                       London   \n",
       "14610                         London                       London   \n",
       "14611                   970 Colorado                          NaN   \n",
       "14612                   Central Ohio   Eastern Time (US & Canada)   \n",
       "14613                        Chicago  Mountain Time (US & Canada)   \n",
       "14614                            NaN                          NaN   \n",
       "14615                  Washington DC   Central Time (US & Canada)   \n",
       "14616                  New York City   Eastern Time (US & Canada)   \n",
       "14617              Columbus, OH, USA   Eastern Time (US & Canada)   \n",
       "14618                            NaN                          NaN   \n",
       "14619                            NaN   Pacific Time (US & Canada)   \n",
       "14620    Milwaukee County, Wisconsin   Central Time (US & Canada)   \n",
       "14621             New York, New York   Eastern Time (US & Canada)   \n",
       "14622                            NaN   Eastern Time (US & Canada)   \n",
       "14624                            NaN                          NaN   \n",
       "14625                     East Coast                          NaN   \n",
       "14626        Buenos Aires, Argentina                 Buenos Aires   \n",
       "14627                            NaN   Eastern Time (US & Canada)   \n",
       "14628                 Washington, DC   Eastern Time (US & Canada)   \n",
       "14629                       Waco, TX   Central Time (US & Canada)   \n",
       "14630                Chapel Hill, NC                          NaN   \n",
       "14631                             US   Eastern Time (US & Canada)   \n",
       "14632                            NaN   Central Time (US & Canada)   \n",
       "14633                    Los Angeles                      Arizona   \n",
       "14634                            NaN                        Quito   \n",
       "14636                          Texas                          NaN   \n",
       "14637                  Nigeria,lagos                          NaN   \n",
       "14638                     New Jersey   Eastern Time (US & Canada)   \n",
       "14639                     dallas, TX                          NaN   \n",
       "\n",
       "                                              text_clean  \n",
       "0                    @VirginAmerica What @dhepburn said.  \n",
       "2      @VirginAmerica I didn't today... Must mean I n...  \n",
       "3      @VirginAmerica it's really aggressive to blast...  \n",
       "4      @VirginAmerica and it's a really big bad thing...  \n",
       "5      @VirginAmerica seriously would pay $30 a fligh...  \n",
       "6      @VirginAmerica yes, nearly every time I fly VX...  \n",
       "8        @virginamerica Well, I didn't…but NOW I DO! :-D  \n",
       "9      @VirginAmerica it was amazing, and arrived an ...  \n",
       "10     @VirginAmerica did you know that suicide is th...  \n",
       "11     @VirginAmerica I <3 pretty graphics. so much b...  \n",
       "12     @VirginAmerica This is such a great deal! Alre...  \n",
       "14                                @VirginAmerica Thanks!  \n",
       "15         @VirginAmerica SFO-PDX schedule is still MIA.  \n",
       "16     @VirginAmerica So excited for my first cross c...  \n",
       "17     @VirginAmerica  I flew from NYC to SFO last we...  \n",
       "18                       I ❤️ flying @VirginAmerica. ☺️👍  \n",
       "19     @VirginAmerica you know what would be amazingl...  \n",
       "20     @VirginAmerica why are your first fares in May...  \n",
       "21     @VirginAmerica I love this graphic. http://t.c...  \n",
       "22     @VirginAmerica I love the hipster innovation. ...  \n",
       "23     @VirginAmerica will you be making BOS>LAS non ...  \n",
       "24     @VirginAmerica you guys messed up my seating.....  \n",
       "25     @VirginAmerica status match program.  I applie...  \n",
       "26     @VirginAmerica What happened 2 ur vegan food o...  \n",
       "27     @VirginAmerica do you miss me? Don't worry we'...  \n",
       "28     @VirginAmerica amazing to me that we can't get...  \n",
       "30     @VirginAmerica hi! I just bked a cool birthday...  \n",
       "31     @VirginAmerica Are the hours of operation for ...  \n",
       "32     @VirginAmerica help, left expensive headphones...  \n",
       "33     @VirginAmerica awaiting my return phone call, ...  \n",
       "...                                                  ...  \n",
       "14608  @AmericanAir my flight was Cancelled Flightled...  \n",
       "14609  @AmericanAir & if that wasn't enough, your sta...  \n",
       "14610  @AmericanAir I understand the weather issue bu...  \n",
       "14611  @AmericanAir guarantee no retribution? If so, ...  \n",
       "14612  @AmericanAir a friend is having flight Cancell...  \n",
       "14613  @AmericanAir I used the \"call back\" feature wi...  \n",
       "14614  @AmericanAir I need to be at work tomorrow at ...  \n",
       "14615  @AmericanAir  ugh Dump us in dfw w/no luggage ...  \n",
       "14616  @AmericanAir Cancelled Flights my flight, does...  \n",
       "14617            @AmericanAir DMing you now! Big thanks.  \n",
       "14618  @AmericanAir 3078 is overweight so you pull 2 ...  \n",
       "14619  @AmericanAir I love your company and your staf...  \n",
       "14620  @AmericanAir I wait 2+ hrs for CS to call me b...  \n",
       "14621  @AmericanAir I've been on hold for 55 mins abo...  \n",
       "14622  I just need a place to sleep when I land witho...  \n",
       "14624  @AmericanAir Call me Chairman, or call me Emer...  \n",
       "14625  @AmericanAir Flight 236 was great. Fantastic c...  \n",
       "14626  @AmericanAir Flight 953 NYC-Buenos Aires has b...  \n",
       "14627  @AmericanAir Flight Cancelled Flightled, can't...  \n",
       "14628  Thank you. “@AmericanAir: @jlhalldc Customer R...  \n",
       "14629  @AmericanAir How do I change my flight if the ...  \n",
       "14630                        @AmericanAir Thanks! He is.  \n",
       "14631  @AmericanAir thx for nothing on getting us out...  \n",
       "14632  “@AmericanAir: @TilleyMonsta George, that does...  \n",
       "14633  @AmericanAir my flight was Cancelled Flightled...  \n",
       "14634         @AmericanAir right on cue with the delays👌  \n",
       "14636  @AmericanAir leaving over 20 minutes Late Flig...  \n",
       "14637  @AmericanAir Please bring American Airlines to...  \n",
       "14638  @AmericanAir you have my money, you change my ...  \n",
       "14639  @AmericanAir we have 8 ppl so we need 2 know h...  \n",
       "\n",
       "[13651 rows x 16 columns]>"
      ]
     },
     "execution_count": 6,
     "metadata": {},
     "output_type": "execute_result"
    }
   ],
   "source": [
    "data_clean.head"
   ]
  },
  {
   "cell_type": "code",
   "execution_count": 7,
   "metadata": {
    "id": "AhzEtW7qgJFZ"
   },
   "outputs": [
    {
     "data": {
      "text/html": [
       "<div>\n",
       "<style scoped>\n",
       "    .dataframe tbody tr th:only-of-type {\n",
       "        vertical-align: middle;\n",
       "    }\n",
       "\n",
       "    .dataframe tbody tr th {\n",
       "        vertical-align: top;\n",
       "    }\n",
       "\n",
       "    .dataframe thead th {\n",
       "        text-align: right;\n",
       "    }\n",
       "</style>\n",
       "<table border=\"1\" class=\"dataframe\">\n",
       "  <thead>\n",
       "    <tr style=\"text-align: right;\">\n",
       "      <th></th>\n",
       "      <th>text_clean</th>\n",
       "      <th>sentiment</th>\n",
       "    </tr>\n",
       "  </thead>\n",
       "  <tbody>\n",
       "    <tr>\n",
       "      <th>0</th>\n",
       "      <td>@VirginAmerica What @dhepburn said.</td>\n",
       "      <td>0</td>\n",
       "    </tr>\n",
       "    <tr>\n",
       "      <th>2</th>\n",
       "      <td>@VirginAmerica I didn't today... Must mean I n...</td>\n",
       "      <td>0</td>\n",
       "    </tr>\n",
       "    <tr>\n",
       "      <th>3</th>\n",
       "      <td>@VirginAmerica it's really aggressive to blast...</td>\n",
       "      <td>-1</td>\n",
       "    </tr>\n",
       "    <tr>\n",
       "      <th>4</th>\n",
       "      <td>@VirginAmerica and it's a really big bad thing...</td>\n",
       "      <td>-1</td>\n",
       "    </tr>\n",
       "    <tr>\n",
       "      <th>5</th>\n",
       "      <td>@VirginAmerica seriously would pay $30 a fligh...</td>\n",
       "      <td>-1</td>\n",
       "    </tr>\n",
       "  </tbody>\n",
       "</table>\n",
       "</div>"
      ],
      "text/plain": [
       "                                          text_clean  sentiment\n",
       "0                @VirginAmerica What @dhepburn said.          0\n",
       "2  @VirginAmerica I didn't today... Must mean I n...          0\n",
       "3  @VirginAmerica it's really aggressive to blast...         -1\n",
       "4  @VirginAmerica and it's a really big bad thing...         -1\n",
       "5  @VirginAmerica seriously would pay $30 a fligh...         -1"
      ]
     },
     "execution_count": 7,
     "metadata": {},
     "output_type": "execute_result"
    }
   ],
   "source": [
    "data_clean['sentiment'] = data_clean['airline_sentiment'].apply(lambda x: -1 if x=='negative' else 0) #Hint: Assign 1 to negative class and 0 to rest\n",
    "data_clean = data_clean.loc[:, ['text_clean', 'sentiment']]\n",
    "data_clean.head()"
   ]
  },
  {
   "cell_type": "markdown",
   "metadata": {
    "id": "goWgpeISgVjb"
   },
   "source": [
    "## We split the data into training and testing set:"
   ]
  },
  {
   "cell_type": "code",
   "execution_count": 8,
   "metadata": {
    "id": "hb3xJkm1gWEV"
   },
   "outputs": [],
   "source": [
    "train, test = train_test_split(data_clean, test_size=0.2, random_state=1)\n",
    "X_train = train['text_clean'].values\n",
    "X_test = test['text_clean'].values\n",
    "y_train = train['sentiment']\n",
    "y_test = test['sentiment']"
   ]
  },
  {
   "cell_type": "markdown",
   "metadata": {
    "id": "RUVhKrXJggFe"
   },
   "source": [
    "## Preprocessing the Data"
   ]
  },
  {
   "cell_type": "code",
   "execution_count": 9,
   "metadata": {
    "id": "bt-UPdxNgg1l"
   },
   "outputs": [],
   "source": [
    "def tokenize(text): \n",
    "    tknzr = TweetTokenizer()\n",
    "    return tknzr.tokenize(text)\n",
    "\n",
    "def stem(doc):\n",
    "    return (stemmer.stem(w) for w in analyzer(doc))\n",
    "\n",
    "en_stopwords = set(stopwords.words(\"english\")) \n",
    "\n",
    "vectorizer = CountVectorizer(\n",
    "    analyzer = 'word',\n",
    "    tokenizer = tokenize,\n",
    "    lowercase = True,\n",
    "    ngram_range=(1, 1),\n",
    "    stop_words = en_stopwords)"
   ]
  },
  {
   "cell_type": "markdown",
   "metadata": {
    "id": "tIubNDdAglWc"
   },
   "source": [
    "## We are going to use cross validation and grid search to find good hyperparameters for our SVM model. We need to build a pipeline."
   ]
  },
  {
   "cell_type": "code",
   "execution_count": 10,
   "metadata": {
    "id": "10SpNhNlgmVm"
   },
   "outputs": [],
   "source": [
    "kfolds = StratifiedKFold(n_splits=5, shuffle=True, random_state=1)"
   ]
  },
  {
   "cell_type": "code",
   "execution_count": 11,
   "metadata": {
    "id": "v_GbUy4Vgrq3"
   },
   "outputs": [
    {
     "name": "stdout",
     "output_type": "stream",
     "text": [
      "Fitting 5 folds for each of 3 candidates, totalling 15 fits\n"
     ]
    },
    {
     "name": "stderr",
     "output_type": "stream",
     "text": [
      "[Parallel(n_jobs=-1)]: Using backend LokyBackend with 8 concurrent workers.\n",
      "[Parallel(n_jobs=-1)]: Done  15 out of  15 | elapsed:  2.5min finished\n"
     ]
    },
    {
     "data": {
      "text/plain": [
       "0.9189015287070875"
      ]
     },
     "execution_count": 11,
     "metadata": {},
     "output_type": "execute_result"
    }
   ],
   "source": [
    "np.random.seed(1)\n",
    "\n",
    "pipeline_svm = make_pipeline(vectorizer, SVC(probability=True, \n",
    "                                             kernel= 'linear', \n",
    "                                             class_weight= 'balanced')) #Hint : Linear kernel with balanced class weights\n",
    "\n",
    "grid_svm = GridSearchCV(pipeline_svm,\n",
    "                    param_grid = {'svc__C': [0.01, 0.1, 1]}, \n",
    "                    cv = kfolds,\n",
    "                    scoring=\"roc_auc\",\n",
    "                    verbose=1,   \n",
    "                    n_jobs=-1) \n",
    "\n",
    "grid_svm.fit(X_train, y_train)\n",
    "grid_svm.score(X_test, y_test)"
   ]
  },
  {
   "cell_type": "code",
   "execution_count": 12,
   "metadata": {
    "id": "6NdSXvoPg0s-"
   },
   "outputs": [
    {
     "name": "stdout",
     "output_type": "stream",
     "text": [
      "{'svc__C': 0.1}\n",
      "0.9025815283611512\n"
     ]
    }
   ],
   "source": [
    "print(grid_svm.best_params_)\n",
    "print(grid_svm.best_score_)"
   ]
  },
  {
   "cell_type": "markdown",
   "metadata": {
    "id": "_2fifQEugzHr"
   },
   "source": [
    "## Let's see how the model (with the best hyperparameters) works on the test data:"
   ]
  },
  {
   "cell_type": "code",
   "execution_count": 13,
   "metadata": {
    "id": "j1vY0Ruag382"
   },
   "outputs": [
    {
     "data": {
      "text/plain": [
       "{'auc': 0.918900926237202,\n",
       " 'f1': 0.7723169508525578,\n",
       " 'acc': 0.8337605272793849,\n",
       " 'precision': 0.7123034227567068,\n",
       " 'recall': 0.8433734939759037}"
      ]
     },
     "execution_count": 13,
     "metadata": {},
     "output_type": "execute_result"
    }
   ],
   "source": [
    "def report_results(model, X, y):\n",
    "    pred_proba = model.predict_proba(X)[:, 1]\n",
    "    pred = model.predict(X)        \n",
    "\n",
    "    auc = roc_auc_score(y, pred_proba)\n",
    "    acc = accuracy_score(y, pred)\n",
    "    f1 = f1_score(y, pred, pos_label=0)\n",
    "    prec = precision_score(y, pred, pos_label=0)\n",
    "    rec = recall_score(y, pred, pos_label=0)\n",
    "    result = {'auc': auc, 'f1': f1, 'acc': acc, 'precision': prec, 'recall': rec}\n",
    "    return result\n",
    "\n",
    "report_results(grid_svm.best_estimator_, X_test, y_test)"
   ]
  },
  {
   "cell_type": "markdown",
   "metadata": {
    "id": "_Wk71TaNg7qY"
   },
   "source": [
    "## ROC Curve"
   ]
  },
  {
   "cell_type": "code",
   "execution_count": 14,
   "metadata": {
    "id": "efe0yTp1g8aw"
   },
   "outputs": [
    {
     "data": {
      "image/png": "[encoded data removed]",
      "text/plain": [
       "<Figure size 1008x576 with 1 Axes>"
      ]
     },
     "metadata": {
      "needs_background": "light"
     },
     "output_type": "display_data"
    }
   ],
   "source": [
    "def get_roc_curve(model, X, y):\n",
    "    pred_proba = model.predict_proba(X)[:, 1]\n",
    "    fpr, tpr, _ = roc_curve(y, pred_proba, pos_label=0)\n",
    "    return fpr, tpr\n",
    "\n",
    "fpr, tpr = get_roc_curve(grid_svm.best_estimator_, X_test, y_test)\n",
    "plt.figure(figsize=(14,8))\n",
    "plt.plot(fpr, tpr, color=\"red\")\n",
    "plt.plot([0, 1], [0, 1], color='black', lw=2, linestyle='--')\n",
    "plt.xlim([0.0, 1.0])\n",
    "plt.ylim([0.0, 1.05])\n",
    "plt.xlabel('False Positive Rate')\n",
    "plt.ylabel('True Positive Rate')\n",
    "plt.title('Roc curve')\n",
    "plt.show()"
   ]
  },
  {
   "cell_type": "markdown",
   "metadata": {
    "id": "Cr8-f-N1hAQx"
   },
   "source": [
    "## Prediction"
   ]
  },
  {
   "cell_type": "code",
   "execution_count": 15,
   "metadata": {
    "id": "pVWXH80shBOb"
   },
   "outputs": [
    {
     "name": "stdout",
     "output_type": "stream",
     "text": [
      "not negative\n"
     ]
    }
   ],
   "source": [
    "pred = grid_svm.predict([\"flying with @united is always a great experience.\"])\n",
    "print('negative' if pred == np.array([-1]) else 'not negative')"
   ]
  },
  {
   "cell_type": "code",
   "execution_count": 16,
   "metadata": {
    "id": "chGlA_QmhC9Q"
   },
   "outputs": [
    {
     "name": "stdout",
     "output_type": "stream",
     "text": [
      "negative\n"
     ]
    }
   ],
   "source": [
    "pred = grid_svm.predict([\"flying with @united is always a great experience. If you don't lose your luggage\"])\n",
    "print('negative' if pred == np.array([-1]) else 'not negative')"
   ]
  },
  {
   "cell_type": "markdown",
   "metadata": {
    "id": "AA5lve07hJzf"
   },
   "source": [
    "**It easily distinguishes the text based on context!!**"
   ]
  }
 ],
 "metadata": {
  "colab": {
   "authorship_tag": "ABX9TyM4BKy4zcZ/u7+x/ScYuANY",
   "collapsed_sections": [],
   "name": "Sentiment Analysis using SVM.ipynb",
   "provenance": []
  },
  "kernelspec": {
   "display_name": "Python 3",
   "language": "python",
   "name": "python3"
  },
  "language_info": {
   "codemirror_mode": {
    "name": "ipython",
    "version": 3
   },
   "file_extension": ".py",
   "mimetype": "text/x-python",
   "name": "python",
   "nbconvert_exporter": "python",
   "pygments_lexer": "ipython3",
   "version": "3.7.3"
  }
 },
 "nbformat": 4,
 "nbformat_minor": 1
}
